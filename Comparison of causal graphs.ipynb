{
 "cells": [
  {
   "cell_type": "code",
   "execution_count": 1,
   "id": "d4c74c3e",
   "metadata": {},
   "outputs": [
    {
     "name": "stderr",
     "output_type": "stream",
     "text": [
      "No GPU automatically detected. Setting SETTINGS.GPU to 0, and SETTINGS.NJOBS to cpu_count.\n"
     ]
    }
   ],
   "source": [
    "import numpy as np\n",
    "import pandas as pd\n",
    "import networkx as nx\n",
    "import matplotlib.pyplot as plt\n",
    "import cdt\n",
    "import os"
   ]
  },
  {
   "cell_type": "markdown",
   "id": "be3f230a",
   "metadata": {},
   "source": [
    "Before comparing graphs, a common algorithm for learning graphs needs to be selected. There can be two ways of doing this - \n",
    "\n",
    "1. Contstructing a gene-gene interaction network using KEGG, TRRUST and CTD databases and compare that with the graphs constructed for healthy controls using different algorithms. The algorithm used to learn the graph that in a sense is closest to the CTD graph should be selected\n",
    "\n",
    "2. Pick the algorithm that makes the most sense or has is the most meaningful in terms of the kind of data for which graphs are being learnt for.\n",
    "\n",
    "In this script, the focus is on the graphs generated using the PC algorithm, selected using point 2"
   ]
  },
  {
   "cell_type": "code",
   "execution_count": 2,
   "id": "b86664cc",
   "metadata": {},
   "outputs": [],
   "source": [
    "path = os.getcwd() + '/causal graphs/'\n",
    "xls = pd.ExcelFile(path + 'PC_graphs.xlsx')\n",
    "\n",
    "pc_graphs = {}\n",
    "for sheet in xls.sheet_names:\n",
    "    adjacency_df = pd.read_excel(path+'PC_graphs.xlsx', sheet_name = sheet)\n",
    "    adjacency_df.rename(columns = {'Unnamed: 0':'genes'}, inplace = True)\n",
    "    adjacency_df.index = adjacency_df.iloc[:,0]\n",
    "    adjacency_df.drop(columns = ['genes'], inplace = True)\n",
    "    pc_graphs[sheet] = nx.from_pandas_adjacency(adjacency_df, create_using=nx.DiGraph())"
   ]
  },
  {
   "cell_type": "markdown",
   "id": "9e76b62d",
   "metadata": {},
   "source": [
    "## Structural Hamming distance"
   ]
  },
  {
   "cell_type": "markdown",
   "id": "9ce6715b",
   "metadata": {},
   "source": [
    "In this section, structural hamming distance is calculated for all possible pairs of diseases with the emphasis on distance from \"healthy\" control network"
   ]
  },
  {
   "cell_type": "code",
   "execution_count": 3,
   "id": "eb729dc2",
   "metadata": {},
   "outputs": [
    {
     "data": {
      "text/plain": [
       "dict_keys(['Adenovirus_Simplex_virus', 'Dengue', 'Influenza', 'Paraflu_RespSyncytial', 'Pneumonia', 'Rhinovirus', 'healthy_ctrl', 'Critical', 'Non-critical'])"
      ]
     },
     "execution_count": 3,
     "metadata": {},
     "output_type": "execute_result"
    }
   ],
   "source": [
    "pc_graphs.keys()"
   ]
  },
  {
   "cell_type": "code",
   "execution_count": 13,
   "id": "664f67b4",
   "metadata": {},
   "outputs": [],
   "source": [
    "from cdt.metrics import SHD\n",
    "from cdt.metrics import SID\n",
    "\n",
    "hamming_df = pd.DataFrame(columns = list(pc_graphs.keys()), index = list(pc_graphs.keys()))\n",
    "intervention_df = pd.DataFrame(columns = list(pc_graphs.keys()), index = list(pc_graphs.keys()))\n",
    "\n",
    "for col in hamming_df.columns.to_list():\n",
    "    for idx in hamming_df.index.to_list():\n",
    "        hamming_df.loc[idx, col] = SHD(pc_graphs[idx], pc_graphs[col], \\\n",
    "                                       double_for_anticausal = True)\n",
    "        intervention_df.loc[idx, col] = SID(pc_graphs[idx], pc_graphs[col])"
   ]
  },
  {
   "cell_type": "code",
   "execution_count": 16,
   "id": "fdf2a797",
   "metadata": {},
   "outputs": [],
   "source": [
    "hamming_df.to_csv(os.getcwd()+'/results/structural_hamming_distance_rowsource.csv')\n",
    "intervention_df.to_csv(os.getcwd()+'/results/structural_intervention_distance_rowsource.csv')"
   ]
  },
  {
   "cell_type": "markdown",
   "id": "51caa31a",
   "metadata": {},
   "source": [
    "## Maximum common subnetwork"
   ]
  },
  {
   "cell_type": "markdown",
   "id": "fecbf362",
   "metadata": {},
   "source": [
    "This section is focused on calculating the largest common subnetwork across all the graphs learnt especially with the graph for healthy controls"
   ]
  },
  {
   "cell_type": "code",
   "execution_count": 73,
   "id": "685e397f",
   "metadata": {},
   "outputs": [],
   "source": [
    "def find_common_subnetwork(graph1, graph2):\n",
    "    if not isinstance(graph1, nx.DiGraph) or not isinstance(graph2, nx.DiGraph):\n",
    "        print('Function works only for directed graphs')\n",
    "        return\n",
    "    \n",
    "    common_graph = nx.DiGraph()\n",
    "    for u,v in graph1.edges:\n",
    "        if graph2.has_edge(u,v):\n",
    "            common_graph.add_edge(u,v)\n",
    "    # removing nodes with degree 0\n",
    "    remove_nodes = [node for node, degree in dict(common_graph.degree).items() if degree == 0]\n",
    "    common_graph.remove_nodes_from(remove_nodes)\n",
    "    \n",
    "    return common_graph"
   ]
  },
  {
   "cell_type": "code",
   "execution_count": 89,
   "id": "00cf5dfc",
   "metadata": {},
   "outputs": [],
   "source": [
    "# finding common subnetworks between all possible pairs of conditions\n",
    "\n",
    "subnetworks = {}\n",
    "for c1 in pc_graphs.keys():\n",
    "    subnetworks[c1] = {}\n",
    "    writer = pd.ExcelWriter(os.getcwd() +'/results/subnetworks/common_with_'+str(c1)+'.xlsx', \\\n",
    "                            engine = 'xlsxwriter')\n",
    "    for c2 in pc_graphs.keys():\n",
    "        if c1 == c2:\n",
    "            continue\n",
    "        else:\n",
    "            common_graph = find_common_subnetwork(pc_graphs[c1], pc_graphs[c2])\n",
    "            subnetworks[c1][c2] = common_graph\n",
    "            nx.to_pandas_adjacency(common_graph).to_excel(writer, sheet_name = c2)\n",
    "    writer.save()"
   ]
  },
  {
   "cell_type": "code",
   "execution_count": 93,
   "id": "f2709f37",
   "metadata": {
    "scrolled": true
   },
   "outputs": [],
   "source": [
    "# finding common subnetworks for combination of 3 conditions\n",
    "\n",
    "# Pneumonia + Influenza + Critical\n",
    "common_PneuInfCrit = find_common_subnetwork(subnetworks['Pneumonia']['Influenza'], pc_graphs['Critical'])\n",
    "\n",
    "# Pneumonia + Influenza + Non-critical\n",
    "common_PneuInfNonCrit = find_common_subnetwork(subnetworks['Pneumonia']['Influenza'], pc_graphs['Non-critical'])\n",
    "\n",
    "# Rhinovirus + Influenza + Critical\n",
    "common_RhinoInfCrit = find_common_subnetwork(subnetworks['Rhinovirus']['Influenza'], pc_graphs['Critical'])\n",
    "\n",
    "# Rhinovirus + Influenza + Non-critical\n",
    "common_RhinoInfNonCrit = find_common_subnetwork(subnetworks['Rhinovirus']['Influenza'], pc_graphs['Non-critical'])"
   ]
  },
  {
   "cell_type": "code",
   "execution_count": 94,
   "id": "412b342e",
   "metadata": {},
   "outputs": [],
   "source": [
    "# comparing/quantifying common subnetworks"
   ]
  },
  {
   "cell_type": "code",
   "execution_count": null,
   "id": "3e414652",
   "metadata": {},
   "outputs": [],
   "source": []
  },
  {
   "cell_type": "code",
   "execution_count": null,
   "id": "ace3565f",
   "metadata": {},
   "outputs": [],
   "source": []
  },
  {
   "cell_type": "markdown",
   "id": "acaec474",
   "metadata": {},
   "source": [
    "## Strongly connected components"
   ]
  },
  {
   "cell_type": "markdown",
   "id": "0e68ea0d",
   "metadata": {},
   "source": [
    "In this section, largest strongly connected components for each graph corresponding a condition is calculated and evaluated. The evaluation is done in the last section"
   ]
  },
  {
   "cell_type": "code",
   "execution_count": 99,
   "id": "63a87a86",
   "metadata": {},
   "outputs": [],
   "source": [
    "largest = max(nx.strongly_connected_components(pc_graphs['healthy_ctrl']), key = len)"
   ]
  },
  {
   "cell_type": "code",
   "execution_count": 108,
   "id": "7176efce",
   "metadata": {},
   "outputs": [],
   "source": [
    "writer = pd.ExcelWriter(os.getcwd()+'/results/subnetworks/strongly_connected_components.xlsx', \\\n",
    "                        engine = 'xlsxwriter')\n",
    "conn_comp = {}\n",
    "for c in pc_graphs.keys():\n",
    "    l = list(max(nx.strongly_connected_components(pc_graphs[c]), key = len))\n",
    "    pd.Series(l).to_excel(writer, sheet_name = c, index = False, header = ['genes'])\n",
    "    conn_comp[c] = l\n",
    "writer.save()"
   ]
  },
  {
   "cell_type": "code",
   "execution_count": null,
   "id": "45efb14e",
   "metadata": {},
   "outputs": [],
   "source": []
  },
  {
   "cell_type": "markdown",
   "id": "ed2a9333",
   "metadata": {},
   "source": [
    "## Markov blanket of COVID19 drug targets + driver genes"
   ]
  },
  {
   "cell_type": "code",
   "execution_count": 128,
   "id": "9319c3ad",
   "metadata": {},
   "outputs": [
    {
     "name": "stdout",
     "output_type": "stream",
     "text": [
      "None of the graphs learnt contain driver genes\n"
     ]
    }
   ],
   "source": [
    "for c in pc_graphs.keys():\n",
    "    flag = 1\n",
    "    if len([x for x in driver_genes if x in pc_graphs[c].nodes])!=0:\n",
    "        print('Condition {} graph contains driver genes'.format(c))\n",
    "        flag = 0\n",
    "if flag:\n",
    "    print('None of the graphs learnt contain driver genes')"
   ]
  },
  {
   "cell_type": "code",
   "execution_count": 153,
   "id": "f2b030d0",
   "metadata": {},
   "outputs": [],
   "source": [
    "def markov_blanket(graph_oi, node_oi):\n",
    "    parents = [x for x in graph_oi.predecessors(node_oi)]\n",
    "    children = [x for x in graph_oi.successors(node_oi)]\n",
    "    child_parents = []\n",
    "    if len(children) != 0:\n",
    "        for child in children:\n",
    "            child_parents.extend([x for x in graph_oi.predecessors(child)])\n",
    "    mb = np.unique(parents + children + child_parents)\n",
    "    return mb"
   ]
  },
  {
   "cell_type": "code",
   "execution_count": 165,
   "id": "607539ed",
   "metadata": {},
   "outputs": [],
   "source": [
    "drugs_oi = ['high-dose Vitamin C', 'remdesivir', 'favipiravir', 'adalimumab', 'dihydro-artemisinin piperaquine', \\\n",
    "            'leflunomide', 'dipyridamole', 'chloroquine', 'hydroxychloroquine', 'suramin sodium', 'lopinavir',\\\n",
    "            'ritonavir', 'arbidol', 'umifenovir', 'IFN-alpha 2b','dexamethasone']"
   ]
  },
  {
   "cell_type": "code",
   "execution_count": null,
   "id": "c212add7",
   "metadata": {},
   "outputs": [],
   "source": []
  },
  {
   "cell_type": "markdown",
   "id": "69ea7ea9",
   "metadata": {},
   "source": [
    "## GO/Phenotype of markov blanket & common subnetwork"
   ]
  },
  {
   "cell_type": "code",
   "execution_count": 166,
   "id": "d3a6d5c1",
   "metadata": {},
   "outputs": [],
   "source": [
    "# loading all datasets\n",
    "path_ctd = '/Users/shrutikaushal/Desktop/Semester 1/Graphical Models/Final Project/CTD/'\n",
    "chem2gene = pd.read_csv(path_ctd + 'CTD_chem_gene_ixns.tsv', sep = '\\t')\n",
    "chem2go = pd.read_csv(path_ctd + 'CTD_diseases_pathways.csv')\n",
    "gene2go = pd.read_csv(path_ctd + 'CTD_genes_pathways.csv')\n",
    "chem2gene2phene = pd.read_csv(path_ctd + 'CTD_Phenotype-Disease_biological_process_associations.csv')"
   ]
  },
  {
   "cell_type": "code",
   "execution_count": null,
   "id": "59a2200c",
   "metadata": {},
   "outputs": [],
   "source": [
    "def generate_wordcloud()"
   ]
  },
  {
   "cell_type": "markdown",
   "id": "3d00d508",
   "metadata": {},
   "source": [
    "### GO terms for strongly connected components"
   ]
  },
  {
   "cell_type": "code",
   "execution_count": 187,
   "id": "e6b89dd8",
   "metadata": {},
   "outputs": [],
   "source": [
    "go_conn_comp = {}\n",
    "for c in conn_comp.keys():\n",
    "    go_conn_comp[c] = list(gene2go[gene2go['GeneSymbol'].isin(conn_comp['Pneumonia'])]['PathwayName'])\n"
   ]
  },
  {
   "cell_type": "code",
   "execution_count": 190,
   "id": "d917ec0d",
   "metadata": {},
   "outputs": [
    {
     "data": {
      "text/plain": [
       "206"
      ]
     },
     "execution_count": 190,
     "metadata": {},
     "output_type": "execute_result"
    }
   ],
   "source": [
    "len(np.unique(go_conn_comp['healthy_ctrl']))"
   ]
  },
  {
   "cell_type": "code",
   "execution_count": null,
   "id": "e897a51b",
   "metadata": {},
   "outputs": [],
   "source": []
  },
  {
   "cell_type": "code",
   "execution_count": null,
   "id": "946048d5",
   "metadata": {},
   "outputs": [],
   "source": []
  },
  {
   "cell_type": "code",
   "execution_count": null,
   "id": "ad074fb3",
   "metadata": {},
   "outputs": [],
   "source": []
  },
  {
   "cell_type": "code",
   "execution_count": null,
   "id": "fe9e6950",
   "metadata": {},
   "outputs": [],
   "source": []
  }
 ],
 "metadata": {
  "kernelspec": {
   "display_name": "Python 3",
   "language": "python",
   "name": "python3"
  },
  "language_info": {
   "codemirror_mode": {
    "name": "ipython",
    "version": 3
   },
   "file_extension": ".py",
   "mimetype": "text/x-python",
   "name": "python",
   "nbconvert_exporter": "python",
   "pygments_lexer": "ipython3",
   "version": "3.8.8"
  }
 },
 "nbformat": 4,
 "nbformat_minor": 5
}
