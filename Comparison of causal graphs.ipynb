{
 "cells": [
  {
   "cell_type": "code",
   "execution_count": 1,
   "id": "d4c74c3e",
   "metadata": {},
   "outputs": [
    {
     "name": "stderr",
     "output_type": "stream",
     "text": [
      "No GPU automatically detected. Setting SETTINGS.GPU to 0, and SETTINGS.NJOBS to cpu_count.\n"
     ]
    }
   ],
   "source": [
    "import numpy as np\n",
    "import pandas as pd\n",
    "import networkx as nx\n",
    "import matplotlib.pyplot as plt\n",
    "import cdt\n",
    "import os"
   ]
  },
  {
   "cell_type": "markdown",
   "id": "be3f230a",
   "metadata": {},
   "source": [
    "Before comparing graphs, a common algorithm for learning graphs needs to be selected. There can be two ways of doing this - \n",
    "\n",
    "1. Contstructing a gene-gene interaction network using KEGG, TRRUST and CTD databases and compare that with the graphs constructed for healthy controls using different algorithms. The algorithm used to learn the graph that in a sense is closest to the CTD graph should be selected\n",
    "\n",
    "2. Pick the algorithm that makes the most sense or has is the most meaningful in terms of the kind of data for which graphs are being learnt for.\n",
    "\n",
    "In this script, the focus is on the graphs generated using the PC algorithm, selected using point 2"
   ]
  },
  {
   "cell_type": "code",
   "execution_count": 2,
   "id": "b86664cc",
   "metadata": {},
   "outputs": [],
   "source": [
    "path = os.getcwd() + '/causal graphs/'\n",
    "xls = pd.ExcelFile(path + 'PC_graphs.xlsx')\n",
    "\n",
    "pc_graphs = {}\n",
    "for sheet in xls.sheet_names:\n",
    "    adjacency_df = pd.read_excel(path+'PC_graphs.xlsx', sheet_name = sheet)\n",
    "    adjacency_df.rename(columns = {'Unnamed: 0':'genes'}, inplace = True)\n",
    "    adjacency_df.index = adjacency_df.iloc[:,0]\n",
    "    adjacency_df.drop(columns = ['genes'], inplace = True)\n",
    "    pc_graphs[sheet] = nx.from_pandas_adjacency(adjacency_df, create_using=nx.DiGraph())"
   ]
  },
  {
   "cell_type": "markdown",
   "id": "9e76b62d",
   "metadata": {},
   "source": [
    "## Structural Hamming distance"
   ]
  },
  {
   "cell_type": "markdown",
   "id": "9ce6715b",
   "metadata": {},
   "source": [
    "In this section, structural hamming distance is calculated for all possible pairs of diseases with the emphasis on distance from \"healthy\" control network"
   ]
  },
  {
   "cell_type": "code",
   "execution_count": 3,
   "id": "eb729dc2",
   "metadata": {},
   "outputs": [
    {
     "data": {
      "text/plain": [
       "dict_keys(['Adenovirus_Simplex_virus', 'Dengue', 'Influenza', 'Paraflu_RespSyncytial', 'Pneumonia', 'Rhinovirus', 'healthy_ctrl', 'Critical', 'Non-critical'])"
      ]
     },
     "execution_count": 3,
     "metadata": {},
     "output_type": "execute_result"
    }
   ],
   "source": [
    "pc_graphs.keys()"
   ]
  },
  {
   "cell_type": "code",
   "execution_count": 13,
   "id": "664f67b4",
   "metadata": {},
   "outputs": [],
   "source": [
    "from cdt.metrics import SHD\n",
    "from cdt.metrics import SID\n",
    "\n",
    "hamming_df = pd.DataFrame(columns = list(pc_graphs.keys()), index = list(pc_graphs.keys()))\n",
    "intervention_df = pd.DataFrame(columns = list(pc_graphs.keys()), index = list(pc_graphs.keys()))\n",
    "\n",
    "for col in hamming_df.columns.to_list():\n",
    "    for idx in hamming_df.index.to_list():\n",
    "        hamming_df.loc[idx, col] = SHD(pc_graphs[idx], pc_graphs[col], \\\n",
    "                                       double_for_anticausal = True)\n",
    "        intervention_df.loc[idx, col] = SID(pc_graphs[idx], pc_graphs[col])"
   ]
  },
  {
   "cell_type": "code",
   "execution_count": 16,
   "id": "7dda657c",
   "metadata": {},
   "outputs": [],
   "source": [
    "hamming_df.to_csv(os.getcwd()+'/results/structural_hamming_distance_rowsource.csv')\n",
    "intervention_df.to_csv(os.getcwd()+'/results/structural_intervention_distance_rowsource.csv')"
   ]
  },
  {
   "cell_type": "markdown",
   "id": "d023ecb3",
   "metadata": {},
   "source": [
    "## Maximum common subnetwork"
   ]
  },
  {
   "cell_type": "markdown",
   "id": "81d0e062",
   "metadata": {},
   "source": [
    "This section is focused on calculating the largest common subnetwork across all the graphs learnt especially with the graph for healthy controls"
   ]
  },
  {
   "cell_type": "code",
   "execution_count": 52,
   "id": "0c70ca3a",
   "metadata": {},
   "outputs": [],
   "source": [
    "def find_max_common_subnetwork(graph1, graph2):\n",
    "    if not isinstance(graph1, nx.DiGraph) or not isinstance(graph2, nx.DiGraph):\n",
    "        print('Function works only for directed graphs')\n",
    "        return\n",
    "    \n",
    "    common_graph = nx.DiGraph()\n",
    "    for u,v in graph1.edges:\n",
    "        if graph2.has_edge(u,v):\n",
    "            common_graph.add_edge(u,v)\n",
    "    \n",
    "    return common_graph"
   ]
  },
  {
   "cell_type": "code",
   "execution_count": null,
   "id": "9f9e6353",
   "metadata": {},
   "outputs": [],
   "source": []
  },
  {
   "cell_type": "markdown",
   "id": "ed736c87",
   "metadata": {},
   "source": [
    "## Strongly connected components"
   ]
  },
  {
   "cell_type": "code",
   "execution_count": null,
   "id": "723b08ce",
   "metadata": {},
   "outputs": [],
   "source": []
  },
  {
   "cell_type": "code",
   "execution_count": null,
   "id": "45f294b0",
   "metadata": {},
   "outputs": [],
   "source": []
  },
  {
   "cell_type": "markdown",
   "id": "29c6514b",
   "metadata": {},
   "source": [
    "## Markov blanket of COVID19 drug targets"
   ]
  },
  {
   "cell_type": "code",
   "execution_count": null,
   "id": "17ddd773",
   "metadata": {},
   "outputs": [],
   "source": []
  },
  {
   "cell_type": "code",
   "execution_count": null,
   "id": "96b6ac02",
   "metadata": {},
   "outputs": [],
   "source": []
  },
  {
   "cell_type": "markdown",
   "id": "296062fe",
   "metadata": {},
   "source": [
    "## GO/Phenotype of markov blanket & common subnetwork"
   ]
  },
  {
   "cell_type": "code",
   "execution_count": null,
   "id": "a275f4b1",
   "metadata": {},
   "outputs": [],
   "source": []
  },
  {
   "cell_type": "code",
   "execution_count": null,
   "id": "801641da",
   "metadata": {},
   "outputs": [],
   "source": []
  }
 ],
 "metadata": {
  "kernelspec": {
   "display_name": "Python 3",
   "language": "python",
   "name": "python3"
  },
  "language_info": {
   "codemirror_mode": {
    "name": "ipython",
    "version": 3
   },
   "file_extension": ".py",
   "mimetype": "text/x-python",
   "name": "python",
   "nbconvert_exporter": "python",
   "pygments_lexer": "ipython3",
   "version": "3.8.8"
  }
 },
 "nbformat": 4,
 "nbformat_minor": 5
}
