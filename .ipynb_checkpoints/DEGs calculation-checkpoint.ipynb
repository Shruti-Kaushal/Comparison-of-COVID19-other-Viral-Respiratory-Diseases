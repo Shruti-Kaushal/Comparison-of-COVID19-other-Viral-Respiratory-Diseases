{
 "cells": [
  {
   "cell_type": "code",
   "execution_count": 5,
   "id": "be828cc3",
   "metadata": {},
   "outputs": [],
   "source": [
    "import numpy as np\n",
    "import pandas as pd\n",
    "import os\n",
    "import matplotlib.pyplot as plt\n",
    "import scipy\n",
    "import itertools\n",
    "import pickle \n",
    "from statsmodels.stats.multitest import fdrcorrection as fdr"
   ]
  },
  {
   "cell_type": "markdown",
   "id": "8bf83ed8",
   "metadata": {},
   "source": [
    "This script focuses on performing differential gene expression analysis on the data corresponding to different respiratory diseases. The genes that are not satistically significant are filtered out for the next step of analysis and to reduce the size of the network "
   ]
  },
  {
   "cell_type": "code",
   "execution_count": 2,
   "id": "9172b5bc",
   "metadata": {},
   "outputs": [
    {
     "data": {
      "text/plain": [
       "['respiratory_data.csv',\n",
       " 'covid_data.csv',\n",
       " 'genes_of_interest.csv',\n",
       " 'respiratory_conditions_degs.pkl',\n",
       " 'respiratory_metadata.csv',\n",
       " 'covid_metadata.csv']"
      ]
     },
     "execution_count": 2,
     "metadata": {},
     "output_type": "execute_result"
    }
   ],
   "source": [
    "path = os.getcwd()+'/normalized data/'\n",
    "os.listdir(path)"
   ]
  },
  {
   "cell_type": "markdown",
   "id": "2da57db2",
   "metadata": {},
   "source": [
    "## DEGs Function"
   ]
  },
  {
   "cell_type": "code",
   "execution_count": 39,
   "id": "28cbd23c",
   "metadata": {},
   "outputs": [],
   "source": [
    "def calculate_degs(mapped_omics, sample, combo_func = 'mean', test_type = 'student_t'):\n",
    "    from scipy.stats import gmean\n",
    "    from scipy.stats import ttest_ind\n",
    "    from scipy.stats import mannwhitneyu\n",
    "    from operator import truediv\n",
    "    import itertools\n",
    "\n",
    "    samples = pd.read_csv(sample_file, sep=',', header=0, index_col=0, dtype=str)\n",
    "    groups = np.unique(samples['condition'])\n",
    "    print('Found condition groups', groups)\n",
    "    out = dict()\n",
    "    for (i,j) in itertools.product(groups, groups):\n",
    "        if i==j: continue\n",
    "        else: \n",
    "            print('calculating degs for ({},{})'.format(i,j))\n",
    "            # extracting gene expression values of all samples of a given condition\n",
    "            geneexp_i = mapped_omics[samples[samples['condition']==i].index].astype('float64').values\n",
    "            geneexp_j = mapped_omics[samples[samples['condition']==j].index].astype('float64').values\n",
    "        \n",
    "            geo_mean_i = []\n",
    "            geo_mean_j = []\n",
    "        \n",
    "            # combining gene expression values of samples with the same condition\n",
    "            if combo_func == 'gmean':\n",
    "                if np.count_nonzero(geneexp_i) != geneexp_i.shape[0]*geneexp_i.shape[1] or \\\n",
    "                np.count_nonzero(geneexp_j) != geneexp_j.shape[0]*geneexp_j.shape[1]:\n",
    "                    print('Genes with zero counts encountered. Cannot calculate geometric mean')\n",
    "                    return \n",
    "                geo_mean_i = [gmean(geneexp_i[r]) for r in range(0, geneexp_i.shape[0])]\n",
    "                geo_mean_j = [gmean(geneexp_j[r]) for r in range(0, geneexp_j.shape[0])]\n",
    "            if combo_func == 'mean':\n",
    "                geo_mean_i = [np.mean(geneexp_i[r]) for r in range(0, geneexp_i.shape[0])]\n",
    "                geo_mean_j = [np.mean(geneexp_j[r]) for r in range(0, geneexp_j.shape[0])]\n",
    "            if combo_func == 'median':\n",
    "                geo_mean_i = [np.median(geneexp_i[r]) for r in range(0, geneexp_i.shape[0])]\n",
    "                geo_mean_j = [np.median(geneexp_j[r]) for r in range(0, geneexp_j.shape[0])]\n",
    "            \n",
    "            # calculating log fold change\n",
    "            fc_vals = list(map(truediv, geo_mean_j, geo_mean_i))\n",
    "            log2fcval = np.log2(fc_vals)\n",
    "        \n",
    "            # performing hypothesis tests\n",
    "            pval = np.zeros(len(fc_vals))\n",
    "            test_statistic = np.zeros(len(fc_vals))\n",
    "        \n",
    "            for idx in range(len(fc_vals)):\n",
    "                if test_type == 'student_t':\n",
    "                    statistic, pvalue = ttest_ind(geneexp_i[idx,:], geneexp_j[idx,:], equal_var = False)\n",
    "                if test_type == 'mann_u':\n",
    "                    statistic, pvalue = mannwhitneyu(geneexp_i[idx,:], geneexp_j[idx,:])\n",
    "                test_statistic[idx] = statistic\n",
    "                pval[idx] = pvalue\n",
    "        \n",
    "            out[(i,j)] = pd.DataFrame({'genes':mapped_omics.genes, 'statistic':test_statistic, 'pvalue': pval})\n",
    "    return out"
   ]
  },
  {
   "cell_type": "code",
   "execution_count": 89,
   "id": "28795126",
   "metadata": {},
   "outputs": [],
   "source": [
    "\n",
    "l = fdr(temp[('healthy_ctrl','Pneumonia')].pvalue, alpha = 0.001)"
   ]
  },
  {
   "cell_type": "code",
   "execution_count": 90,
   "id": "cd5db1e4",
   "metadata": {},
   "outputs": [
    {
     "data": {
      "text/plain": [
       "3350"
      ]
     },
     "execution_count": 90,
     "metadata": {},
     "output_type": "execute_result"
    }
   ],
   "source": [
    "np.count_nonzero(l[0])"
   ]
  },
  {
   "cell_type": "markdown",
   "id": "2a1757d2",
   "metadata": {},
   "source": [
    "## GSE157240 - Respiratory Disease"
   ]
  },
  {
   "cell_type": "markdown",
   "id": "25db0787",
   "metadata": {},
   "source": [
    "Each condition is compared with healthy controls and statistically significant genes are extracted after applying FDR correction with alpha = 0.0001\n",
    "\n",
    "Alpha is set low as very high number of hypothesis tests are conducted (approximately equal to 20,000)"
   ]
  },
  {
   "cell_type": "code",
   "execution_count": 91,
   "id": "2fa4e19d",
   "metadata": {
    "collapsed": true
   },
   "outputs": [
    {
     "name": "stdout",
     "output_type": "stream",
     "text": [
      "Found condition groups ['Adenovirus_Cytomegalovirus_Ebstein-Barr virus_Herpes Simplex virus'\n",
      " 'Dengue' 'Influenza' 'Parainfluenza_RespiratorySyncytial' 'Pneumonia'\n",
      " 'Rhinovirus' 'healthy_ctrl']\n",
      "calculating degs for (Adenovirus_Cytomegalovirus_Ebstein-Barr virus_Herpes Simplex virus,Dengue)\n",
      "calculating degs for (Adenovirus_Cytomegalovirus_Ebstein-Barr virus_Herpes Simplex virus,Influenza)\n",
      "calculating degs for (Adenovirus_Cytomegalovirus_Ebstein-Barr virus_Herpes Simplex virus,Parainfluenza_RespiratorySyncytial)\n",
      "calculating degs for (Adenovirus_Cytomegalovirus_Ebstein-Barr virus_Herpes Simplex virus,Pneumonia)\n",
      "calculating degs for (Adenovirus_Cytomegalovirus_Ebstein-Barr virus_Herpes Simplex virus,Rhinovirus)\n",
      "calculating degs for (Adenovirus_Cytomegalovirus_Ebstein-Barr virus_Herpes Simplex virus,healthy_ctrl)\n",
      "calculating degs for (Dengue,Adenovirus_Cytomegalovirus_Ebstein-Barr virus_Herpes Simplex virus)\n",
      "calculating degs for (Dengue,Influenza)\n",
      "calculating degs for (Dengue,Parainfluenza_RespiratorySyncytial)\n",
      "calculating degs for (Dengue,Pneumonia)\n",
      "calculating degs for (Dengue,Rhinovirus)\n",
      "calculating degs for (Dengue,healthy_ctrl)\n",
      "calculating degs for (Influenza,Adenovirus_Cytomegalovirus_Ebstein-Barr virus_Herpes Simplex virus)\n",
      "calculating degs for (Influenza,Dengue)\n",
      "calculating degs for (Influenza,Parainfluenza_RespiratorySyncytial)\n",
      "calculating degs for (Influenza,Pneumonia)\n",
      "calculating degs for (Influenza,Rhinovirus)\n",
      "calculating degs for (Influenza,healthy_ctrl)\n",
      "calculating degs for (Parainfluenza_RespiratorySyncytial,Adenovirus_Cytomegalovirus_Ebstein-Barr virus_Herpes Simplex virus)\n",
      "calculating degs for (Parainfluenza_RespiratorySyncytial,Dengue)\n",
      "calculating degs for (Parainfluenza_RespiratorySyncytial,Influenza)\n",
      "calculating degs for (Parainfluenza_RespiratorySyncytial,Pneumonia)\n",
      "calculating degs for (Parainfluenza_RespiratorySyncytial,Rhinovirus)\n",
      "calculating degs for (Parainfluenza_RespiratorySyncytial,healthy_ctrl)\n",
      "calculating degs for (Pneumonia,Adenovirus_Cytomegalovirus_Ebstein-Barr virus_Herpes Simplex virus)\n",
      "calculating degs for (Pneumonia,Dengue)\n",
      "calculating degs for (Pneumonia,Influenza)\n",
      "calculating degs for (Pneumonia,Parainfluenza_RespiratorySyncytial)\n",
      "calculating degs for (Pneumonia,Rhinovirus)\n",
      "calculating degs for (Pneumonia,healthy_ctrl)\n",
      "calculating degs for (Rhinovirus,Adenovirus_Cytomegalovirus_Ebstein-Barr virus_Herpes Simplex virus)\n",
      "calculating degs for (Rhinovirus,Dengue)\n",
      "calculating degs for (Rhinovirus,Influenza)\n",
      "calculating degs for (Rhinovirus,Parainfluenza_RespiratorySyncytial)\n",
      "calculating degs for (Rhinovirus,Pneumonia)\n",
      "calculating degs for (Rhinovirus,healthy_ctrl)\n",
      "calculating degs for (healthy_ctrl,Adenovirus_Cytomegalovirus_Ebstein-Barr virus_Herpes Simplex virus)\n",
      "calculating degs for (healthy_ctrl,Dengue)\n",
      "calculating degs for (healthy_ctrl,Influenza)\n",
      "calculating degs for (healthy_ctrl,Parainfluenza_RespiratorySyncytial)\n",
      "calculating degs for (healthy_ctrl,Pneumonia)\n",
      "calculating degs for (healthy_ctrl,Rhinovirus)\n"
     ]
    }
   ],
   "source": [
    "resp_df = pd.read_csv(path+'respiratory_data.csv')\n",
    "resp_meta = path+'respiratory_metadata.csv'\n",
    "resp_degs = calculate_degs(resp_df, resp_meta, test_type = 'student_t')"
   ]
  },
  {
   "cell_type": "code",
   "execution_count": 134,
   "id": "6585f612",
   "metadata": {},
   "outputs": [],
   "source": [
    "pickle.dump(resp_degs, open(path+'respiratory_conditions_degs.pkl','wb'))"
   ]
  },
  {
   "cell_type": "code",
   "execution_count": 41,
   "id": "f0718f2d",
   "metadata": {},
   "outputs": [],
   "source": [
    "covid_df = pd.read_csv(path+'covid_data.csv')"
   ]
  },
  {
   "cell_type": "code",
   "execution_count": 38,
   "id": "39c2f518",
   "metadata": {},
   "outputs": [],
   "source": [
    "keys_oi = [x for x in resp_degs.keys() if x[0] == 'healthy_ctrl']\n",
    "genes_oi = []\n",
    "for key in keys_oi:\n",
    "#     print(key)\n",
    "    significant_idx = fdr(resp_degs[key].pvalue, alpha = 0.01)[0]\n",
    "#     print(len(np.where(significant_idx)[0]))\n",
    "    genes_oi.append(list(resp_df['genes'][np.where(significant_idx)[0]].values))\n",
    "\n",
    "genes_oi = list(set.intersection(*map(set,genes_oi)))\n",
    "genes_oi = list(set(genes_oi).intersection(set(covid_df['genes'])))"
   ]
  },
  {
   "cell_type": "code",
   "execution_count": 40,
   "id": "38550ea3",
   "metadata": {},
   "outputs": [],
   "source": [
    "pd.Series(genes_oi).to_csv(path+'genes_of_interest.csv', index = False)"
   ]
  },
  {
   "cell_type": "code",
   "execution_count": null,
   "id": "225b663f",
   "metadata": {},
   "outputs": [],
   "source": []
  }
 ],
 "metadata": {
  "kernelspec": {
   "display_name": "Python 3",
   "language": "python",
   "name": "python3"
  },
  "language_info": {
   "codemirror_mode": {
    "name": "ipython",
    "version": 3
   },
   "file_extension": ".py",
   "mimetype": "text/x-python",
   "name": "python",
   "nbconvert_exporter": "python",
   "pygments_lexer": "ipython3",
   "version": "3.8.8"
  }
 },
 "nbformat": 4,
 "nbformat_minor": 5
}
