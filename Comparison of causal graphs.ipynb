{
 "cells": [
  {
   "cell_type": "code",
   "execution_count": 1,
   "id": "d4c74c3e",
   "metadata": {},
   "outputs": [
    {
     "name": "stderr",
     "output_type": "stream",
     "text": [
      "No GPU automatically detected. Setting SETTINGS.GPU to 0, and SETTINGS.NJOBS to cpu_count.\n"
     ]
    }
   ],
   "source": [
    "import numpy as np\n",
    "import pandas as pd\n",
    "import networkx as nx\n",
    "import matplotlib.pyplot as plt\n",
    "import cdt\n",
    "import os"
   ]
  },
  {
   "cell_type": "markdown",
   "id": "be3f230a",
   "metadata": {},
   "source": [
    "Before comparing graphs, a common algorithm for learning graphs needs to be selected. There can be two ways of doing this - \n",
    "\n",
    "1. Contstructing a gene-gene interaction network using KEGG, TRRUST and CTD databases and compare that with the graphs constructed for healthy controls using different algorithms. The algorithm used to learn the graph that in a sense is closest to the CTD graph should be selected\n",
    "\n",
    "2. Pick the algorithm that makes the most sense or has is the most meaningful in terms of the kind of data for which graphs are being learnt for.\n",
    "\n",
    "In this script, the focus is on the graphs generated using the PC algorithm, selected using point 2"
   ]
  },
  {
   "cell_type": "code",
   "execution_count": 2,
   "id": "b86664cc",
   "metadata": {},
   "outputs": [],
   "source": [
    "path = os.getcwd() + '/causal graphs/'\n",
    "xls = pd.ExcelFile(path + 'PC_graphs.xlsx')\n",
    "\n",
    "pc_graphs = {}\n",
    "for sheet in xls.sheet_names:\n",
    "    adjacency_df = pd.read_excel(path+'PC_graphs.xlsx', sheet_name = sheet)\n",
    "    adjacency_df.rename(columns = {'Unnamed: 0':'genes'}, inplace = True)\n",
    "    adjacency_df.index = adjacency_df.iloc[:,0]\n",
    "    adjacency_df.drop(columns = ['genes'], inplace = True)\n",
    "    pc_graphs[sheet] = nx.from_pandas_adjacency(adjacency_df, create_using=nx.DiGraph())"
   ]
  },
  {
   "cell_type": "markdown",
   "id": "9e76b62d",
   "metadata": {},
   "source": [
    "## Structural Hamming distance"
   ]
  },
  {
   "cell_type": "markdown",
   "id": "9ce6715b",
   "metadata": {},
   "source": [
    "In this section, structural hamming distance is calculated for all possible pairs of diseases with the emphasis on distance from \"healthy\" control network"
   ]
  },
  {
   "cell_type": "code",
   "execution_count": 3,
   "id": "eb729dc2",
   "metadata": {},
   "outputs": [
    {
     "data": {
      "text/plain": [
       "dict_keys(['Adenovirus_Simplex_virus', 'Dengue', 'Influenza', 'Paraflu_RespSyncytial', 'Pneumonia', 'Rhinovirus', 'healthy_ctrl', 'Critical', 'Non-critical'])"
      ]
     },
     "execution_count": 3,
     "metadata": {},
     "output_type": "execute_result"
    }
   ],
   "source": [
    "pc_graphs.keys()"
   ]
  },
  {
   "cell_type": "code",
   "execution_count": 13,
   "id": "664f67b4",
   "metadata": {},
   "outputs": [],
   "source": [
    "from cdt.metrics import SHD\n",
    "from cdt.metrics import SID\n",
    "\n",
    "hamming_df = pd.DataFrame(columns = list(pc_graphs.keys()), index = list(pc_graphs.keys()))\n",
    "intervention_df = pd.DataFrame(columns = list(pc_graphs.keys()), index = list(pc_graphs.keys()))\n",
    "\n",
    "for col in hamming_df.columns.to_list():\n",
    "    for idx in hamming_df.index.to_list():\n",
    "        hamming_df.loc[idx, col] = SHD(pc_graphs[idx], pc_graphs[col], \\\n",
    "                                       double_for_anticausal = True)\n",
    "        intervention_df.loc[idx, col] = SID(pc_graphs[idx], pc_graphs[col])"
   ]
  },
  {
   "cell_type": "code",
   "execution_count": 15,
   "id": "2fa1f6bd",
   "metadata": {},
   "outputs": [
    {
     "data": {
      "text/html": [
       "<div>\n",
       "<style scoped>\n",
       "    .dataframe tbody tr th:only-of-type {\n",
       "        vertical-align: middle;\n",
       "    }\n",
       "\n",
       "    .dataframe tbody tr th {\n",
       "        vertical-align: top;\n",
       "    }\n",
       "\n",
       "    .dataframe thead th {\n",
       "        text-align: right;\n",
       "    }\n",
       "</style>\n",
       "<table border=\"1\" class=\"dataframe\">\n",
       "  <thead>\n",
       "    <tr style=\"text-align: right;\">\n",
       "      <th></th>\n",
       "      <th>Adenovirus_Simplex_virus</th>\n",
       "      <th>Dengue</th>\n",
       "      <th>Influenza</th>\n",
       "      <th>Paraflu_RespSyncytial</th>\n",
       "      <th>Pneumonia</th>\n",
       "      <th>Rhinovirus</th>\n",
       "      <th>healthy_ctrl</th>\n",
       "      <th>Critical</th>\n",
       "      <th>Non-critical</th>\n",
       "    </tr>\n",
       "  </thead>\n",
       "  <tbody>\n",
       "    <tr>\n",
       "      <th>Adenovirus_Simplex_virus</th>\n",
       "      <td>120.0</td>\n",
       "      <td>120.0</td>\n",
       "      <td>120.0</td>\n",
       "      <td>120.0</td>\n",
       "      <td>120.0</td>\n",
       "      <td>120.0</td>\n",
       "      <td>120.0</td>\n",
       "      <td>120.0</td>\n",
       "      <td>120.0</td>\n",
       "    </tr>\n",
       "    <tr>\n",
       "      <th>Dengue</th>\n",
       "      <td>160.0</td>\n",
       "      <td>160.0</td>\n",
       "      <td>160.0</td>\n",
       "      <td>160.0</td>\n",
       "      <td>160.0</td>\n",
       "      <td>160.0</td>\n",
       "      <td>160.0</td>\n",
       "      <td>160.0</td>\n",
       "      <td>160.0</td>\n",
       "    </tr>\n",
       "    <tr>\n",
       "      <th>Influenza</th>\n",
       "      <td>2660.0</td>\n",
       "      <td>2659.0</td>\n",
       "      <td>2507.0</td>\n",
       "      <td>2657.0</td>\n",
       "      <td>2656.0</td>\n",
       "      <td>2657.0</td>\n",
       "      <td>2659.0</td>\n",
       "      <td>2659.0</td>\n",
       "      <td>2657.0</td>\n",
       "    </tr>\n",
       "    <tr>\n",
       "      <th>Paraflu_RespSyncytial</th>\n",
       "      <td>152.0</td>\n",
       "      <td>152.0</td>\n",
       "      <td>152.0</td>\n",
       "      <td>152.0</td>\n",
       "      <td>152.0</td>\n",
       "      <td>152.0</td>\n",
       "      <td>152.0</td>\n",
       "      <td>152.0</td>\n",
       "      <td>152.0</td>\n",
       "    </tr>\n",
       "    <tr>\n",
       "      <th>Pneumonia</th>\n",
       "      <td>174.0</td>\n",
       "      <td>174.0</td>\n",
       "      <td>174.0</td>\n",
       "      <td>174.0</td>\n",
       "      <td>174.0</td>\n",
       "      <td>174.0</td>\n",
       "      <td>174.0</td>\n",
       "      <td>174.0</td>\n",
       "      <td>174.0</td>\n",
       "    </tr>\n",
       "    <tr>\n",
       "      <th>Rhinovirus</th>\n",
       "      <td>168.0</td>\n",
       "      <td>168.0</td>\n",
       "      <td>168.0</td>\n",
       "      <td>168.0</td>\n",
       "      <td>168.0</td>\n",
       "      <td>165.0</td>\n",
       "      <td>168.0</td>\n",
       "      <td>168.0</td>\n",
       "      <td>168.0</td>\n",
       "    </tr>\n",
       "    <tr>\n",
       "      <th>healthy_ctrl</th>\n",
       "      <td>136.0</td>\n",
       "      <td>136.0</td>\n",
       "      <td>136.0</td>\n",
       "      <td>136.0</td>\n",
       "      <td>136.0</td>\n",
       "      <td>136.0</td>\n",
       "      <td>136.0</td>\n",
       "      <td>136.0</td>\n",
       "      <td>136.0</td>\n",
       "    </tr>\n",
       "    <tr>\n",
       "      <th>Critical</th>\n",
       "      <td>1508.0</td>\n",
       "      <td>1494.0</td>\n",
       "      <td>1543.0</td>\n",
       "      <td>1533.0</td>\n",
       "      <td>1521.0</td>\n",
       "      <td>1490.0</td>\n",
       "      <td>1510.0</td>\n",
       "      <td>1032.0</td>\n",
       "      <td>1526.0</td>\n",
       "    </tr>\n",
       "    <tr>\n",
       "      <th>Non-critical</th>\n",
       "      <td>222.0</td>\n",
       "      <td>222.0</td>\n",
       "      <td>222.0</td>\n",
       "      <td>222.0</td>\n",
       "      <td>222.0</td>\n",
       "      <td>222.0</td>\n",
       "      <td>222.0</td>\n",
       "      <td>222.0</td>\n",
       "      <td>222.0</td>\n",
       "    </tr>\n",
       "  </tbody>\n",
       "</table>\n",
       "</div>"
      ],
      "text/plain": [
       "                         Adenovirus_Simplex_virus  Dengue Influenza  \\\n",
       "Adenovirus_Simplex_virus                    120.0   120.0     120.0   \n",
       "Dengue                                      160.0   160.0     160.0   \n",
       "Influenza                                  2660.0  2659.0    2507.0   \n",
       "Paraflu_RespSyncytial                       152.0   152.0     152.0   \n",
       "Pneumonia                                   174.0   174.0     174.0   \n",
       "Rhinovirus                                  168.0   168.0     168.0   \n",
       "healthy_ctrl                                136.0   136.0     136.0   \n",
       "Critical                                   1508.0  1494.0    1543.0   \n",
       "Non-critical                                222.0   222.0     222.0   \n",
       "\n",
       "                         Paraflu_RespSyncytial Pneumonia Rhinovirus  \\\n",
       "Adenovirus_Simplex_virus                 120.0     120.0      120.0   \n",
       "Dengue                                   160.0     160.0      160.0   \n",
       "Influenza                               2657.0    2656.0     2657.0   \n",
       "Paraflu_RespSyncytial                    152.0     152.0      152.0   \n",
       "Pneumonia                                174.0     174.0      174.0   \n",
       "Rhinovirus                               168.0     168.0      165.0   \n",
       "healthy_ctrl                             136.0     136.0      136.0   \n",
       "Critical                                1533.0    1521.0     1490.0   \n",
       "Non-critical                             222.0     222.0      222.0   \n",
       "\n",
       "                         healthy_ctrl Critical Non-critical  \n",
       "Adenovirus_Simplex_virus        120.0    120.0        120.0  \n",
       "Dengue                          160.0    160.0        160.0  \n",
       "Influenza                      2659.0   2659.0       2657.0  \n",
       "Paraflu_RespSyncytial           152.0    152.0        152.0  \n",
       "Pneumonia                       174.0    174.0        174.0  \n",
       "Rhinovirus                      168.0    168.0        168.0  \n",
       "healthy_ctrl                    136.0    136.0        136.0  \n",
       "Critical                       1510.0   1032.0       1526.0  \n",
       "Non-critical                    222.0    222.0        222.0  "
      ]
     },
     "execution_count": 15,
     "metadata": {},
     "output_type": "execute_result"
    }
   ],
   "source": [
    "intervention_df"
   ]
  },
  {
   "cell_type": "code",
   "execution_count": null,
   "id": "45c9e7b5",
   "metadata": {},
   "outputs": [],
   "source": []
  }
 ],
 "metadata": {
  "kernelspec": {
   "display_name": "Python 3",
   "language": "python",
   "name": "python3"
  },
  "language_info": {
   "codemirror_mode": {
    "name": "ipython",
    "version": 3
   },
   "file_extension": ".py",
   "mimetype": "text/x-python",
   "name": "python",
   "nbconvert_exporter": "python",
   "pygments_lexer": "ipython3",
   "version": "3.8.8"
  }
 },
 "nbformat": 4,
 "nbformat_minor": 5
}
