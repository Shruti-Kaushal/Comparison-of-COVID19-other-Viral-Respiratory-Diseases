{
 "cells": [
  {
   "cell_type": "code",
   "execution_count": 1,
   "id": "c9a4049d",
   "metadata": {},
   "outputs": [],
   "source": [
    "import numpy as np\n",
    "import pandas as pd\n",
    "import matplotlib.pyplot as plt\n",
    "import os\n",
    "import mygene"
   ]
  },
  {
   "cell_type": "code",
   "execution_count": 132,
   "id": "4d3b8662",
   "metadata": {},
   "outputs": [],
   "source": [
    "path = os.getcwd()"
   ]
  },
  {
   "cell_type": "code",
   "execution_count": 154,
   "id": "b2fc09ac",
   "metadata": {},
   "outputs": [
    {
     "data": {
      "text/plain": [
       "['GSE157240_series_matrix.txt',\n",
       " 'GSE157240_sbst1_norm_RVI_Tsalik_020420.txt',\n",
       " 'GSE172114_series_matrix.txt',\n",
       " 'GSE172114_rsem_gene_count_matrix_TMM_69samples.csv']"
      ]
     },
     "execution_count": 154,
     "metadata": {},
     "output_type": "execute_result"
    }
   ],
   "source": [
    "os.listdir(path+'/raw data')"
   ]
  },
  {
   "cell_type": "markdown",
   "id": "696d5a63",
   "metadata": {},
   "source": [
    "# Data Transformation"
   ]
  },
  {
   "cell_type": "markdown",
   "id": "1de0b480",
   "metadata": {},
   "source": [
    "## GSE157240 - Respiratory Disease"
   ]
  },
  {
   "cell_type": "code",
   "execution_count": 149,
   "id": "6ba5d3dc",
   "metadata": {},
   "outputs": [],
   "source": [
    "resp_df = pd.read_csv(path+'/raw data/GSE157240_sbst1_norm_RVI_Tsalik_020420.txt', sep = ' ')\n",
    "resp_df.rename(columns = {\"gene_symbol\":\"genes\"}, inplace = True)\n",
    "resp_df = resp_df[['genes']+[x for x in resp_df.columns if \"DU\" in x]]\n",
    "resp_df.to_csv(path+'/normalized data/respiratory_data.csv', index = False)"
   ]
  },
  {
   "cell_type": "code",
   "execution_count": 139,
   "id": "18d405c3",
   "metadata": {},
   "outputs": [],
   "source": [
    "resp_meta = pd.read_csv(path+'/raw data/GSE157240_series_matrix.txt', delimiter = '\\t', header = None)\n",
    "resp_meta = resp_meta.T\n",
    "resp_meta.columns = list(resp_meta.iloc[[0]].values)\n",
    "resp_meta.drop([0], axis = 0, inplace = True)\n",
    "resp_meta.drop(columns = resp_meta.columns.to_list()[2:-2], inplace = True)\n",
    "resp_meta = resp_meta.iloc[:, :-1]\n",
    "resp_meta.rename(columns = {'Sample_title':'sample', 'Sample_geo_accession':'geo_sample',\\\n",
    "                           'Sample_characteristics_ch1':'condition'}, inplace = True)\n",
    "resp_meta.to_csv(path+'/normalized data/respiratory_metadata.csv', index = False)\n",
    "\n",
    "resp_meta = pd.read_csv(path+'/normalized data/respiratory_metadata.csv')\n",
    "resp_meta['condition'] = [x.split(\"status: \")[1] for x in resp_meta.condition]\n",
    "resp_meta.to_csv(path+'/normalized data/respiratory_metadata.csv', index = False)"
   ]
  },
  {
   "cell_type": "code",
   "execution_count": 191,
   "id": "2eaea4d4",
   "metadata": {},
   "outputs": [],
   "source": [
    "resp_meta.loc[resp_meta['condition'] == \\\n",
    "              'DNA virus infected patient (Adenovirus, Cytomegalovirus, Ebstein-Barr virus, Herpes Simplex virus)'\\\n",
    "              , 'condition'] = 'Adenovirus_Cytomegalovirus_Ebstein-Barr virus_Herpes Simplex virus'\n",
    "resp_meta.loc[resp_meta.condition == 'Dengue virus infected patient', 'condition'] = 'Dengue'\n",
    "resp_meta.loc[resp_meta.condition == 'Entero/Rhinovirus infected patient', 'condition'] = 'Rhinovirus'\n",
    "resp_meta.loc[resp_meta.condition == 'Influenza virus infected patient', 'condition'] = 'Influenza'\n",
    "resp_meta.loc[resp_meta.condition == 'Metapneumovirus infected patient', 'condition'] = 'Pn'\n",
    "resp_meta.loc[resp_meta.condition == 'Dengue virus infected patient', 'condition'] = 'Dengue'"
   ]
  },
  {
   "cell_type": "code",
   "execution_count": 192,
   "id": "24802f5e",
   "metadata": {},
   "outputs": [
    {
     "data": {
      "text/plain": [
       "array(['Adenovirus_Cytomegalovirus_Ebstein-Barr virus_Herpes Simplex virus',\n",
       "       'Dengue virus infected patient',\n",
       "       'Entero/Rhinovirus infected patient',\n",
       "       'Influenza virus infected patient',\n",
       "       'Metapneumovirus infected patient', 'healthy_ctrl',\n",
       "       'other respiratory RNA virus infected patient (Parainfluenza virus and Respiratory Syncytial virus)'],\n",
       "      dtype=object)"
      ]
     },
     "execution_count": 192,
     "metadata": {},
     "output_type": "execute_result"
    }
   ],
   "source": [
    "np.unique(resp_meta.condition)"
   ]
  },
  {
   "cell_type": "markdown",
   "id": "f9dc198c",
   "metadata": {},
   "source": [
    "## GSE172114 - COVID19"
   ]
  },
  {
   "cell_type": "code",
   "execution_count": 187,
   "id": "6280a627",
   "metadata": {},
   "outputs": [],
   "source": [
    "covid_df = pd.read_csv(path+'/raw data/GSE172114_rsem_gene_count_matrix_TMM_69samples.csv')\n",
    "\n",
    "covid_df.rename(columns = {\"Unnamed: 0\":\"genes\"}, inplace = True)\n",
    "covid_df['genes'] = [x.split(\"_\")[1] for x in covid_df.genes]\n",
    "covid_df.to_csv(path+'/normalized data/covid_data.csv', index = False)"
   ]
  },
  {
   "cell_type": "code",
   "execution_count": 185,
   "id": "598bb343",
   "metadata": {},
   "outputs": [],
   "source": [
    "covid_meta = pd.read_csv(path+'/raw data/GSE172114_series_matrix.txt', delimiter = \"\\t\", header = None)\n",
    "\n",
    "covid_meta = covid_meta.T\n",
    "covid_meta.columns = list(covid_meta.iloc[[0]].values)\n",
    "covid_meta.drop([0], axis = 0, inplace = True)\n",
    "covid_meta = covid_meta.iloc[:, :-1]\n",
    "covid_meta.rename(columns = {'Sample_title':'sample', 'Sample_geo_accession':'geo_sample',\\\n",
    "                           'Sample_characteristics_ch1':'condition'}, inplace = True)\n",
    "covid_meta.to_csv(path+'/normalized data/covid_metadata.csv', index = False)\n",
    "\n",
    "covid_meta = pd.read_csv(path+'/normalized data/covid_metadata.csv')\n",
    "\n",
    "covid_meta['condition'] = [x.split(\": \")[1] for x in covid_meta.condition]\n",
    "covid_meta.to_csv(path+'/normalized data/covid_metadata.csv', index = False)"
   ]
  },
  {
   "cell_type": "code",
   "execution_count": null,
   "id": "76471b36",
   "metadata": {},
   "outputs": [],
   "source": []
  }
 ],
 "metadata": {
  "kernelspec": {
   "display_name": "Python 3",
   "language": "python",
   "name": "python3"
  },
  "language_info": {
   "codemirror_mode": {
    "name": "ipython",
    "version": 3
   },
   "file_extension": ".py",
   "mimetype": "text/x-python",
   "name": "python",
   "nbconvert_exporter": "python",
   "pygments_lexer": "ipython3",
   "version": "3.8.8"
  }
 },
 "nbformat": 4,
 "nbformat_minor": 5
}
