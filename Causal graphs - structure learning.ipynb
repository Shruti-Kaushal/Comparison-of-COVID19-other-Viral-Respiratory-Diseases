{
 "cells": [
  {
   "cell_type": "code",
   "execution_count": 8,
   "id": "dc7de988",
   "metadata": {},
   "outputs": [],
   "source": [
    "import numpy as np\n",
    "import pandas as pd\n",
    "import networkx as nx\n",
    "import pickle \n",
    "import causallearn as cl\n",
    "import cdt\n",
    "import os\n",
    "import matplotlib.pyplot as plt"
   ]
  },
  {
   "cell_type": "markdown",
   "id": "c8386aff",
   "metadata": {},
   "source": [
    "This script focuses on learning graphs for each of the conditions using different structure learning algorithms. Two types of algorithms are used - score based greedy algorithms and conditional independence test based algorithms"
   ]
  },
  {
   "cell_type": "markdown",
   "id": "8d9c3fbf",
   "metadata": {},
   "source": [
    "# Data Formatting"
   ]
  },
  {
   "cell_type": "markdown",
   "id": "d66657b2",
   "metadata": {},
   "source": [
    "Selecting subsets of data that only include the genes of interest"
   ]
  },
  {
   "cell_type": "code",
   "execution_count": 26,
   "id": "b0b74974",
   "metadata": {},
   "outputs": [],
   "source": [
    "path = os.getcwd()+\"/normalized data/\""
   ]
  },
  {
   "cell_type": "code",
   "execution_count": 68,
   "id": "a70990cb",
   "metadata": {},
   "outputs": [],
   "source": [
    "genes_oi = pd.read_csv(path+'genes_of_interest.csv')\n",
    "\n",
    "resp_df = pd.read_csv(path+'respiratory_data.csv')\n",
    "resp_meta = pd.read_csv(path+'respiratory_metadata.csv')\n",
    "\n",
    "covid_df = pd.read_csv(path+'covid_data.csv')\n",
    "covid_meta = pd.read_csv(path+'covid_metadata.csv')"
   ]
  },
  {
   "cell_type": "code",
   "execution_count": 69,
   "id": "09d96a1a",
   "metadata": {},
   "outputs": [
    {
     "data": {
      "text/plain": [
       "array(['Critical', 'Non-critical'], dtype=object)"
      ]
     },
     "execution_count": 69,
     "metadata": {},
     "output_type": "execute_result"
    }
   ],
   "source": [
    "np.unique(covid_meta.condition)"
   ]
  },
  {
   "cell_type": "code",
   "execution_count": null,
   "id": "14fa030b",
   "metadata": {},
   "outputs": [],
   "source": [
    "resp_oi_dict = {}\n",
    "for c in np.unique(resp_meta.condition):\n",
    "    temp_df = resp_df[(resp_df['genes'].isin(genes_oi['genes'].to_list()))][['genes']+resp_meta[resp_meta['condition'] == c]['sample'].to_list()]\n",
    "    temp_df = temp_df.T\n",
    "    temp_df.columns = temp_df.loc['genes']\n",
    "    temp_df.drop(['genes'], axis = 0, inplace = True)\n",
    "    resp_oi_dict[c] = temp_df\n",
    "    \n",
    "covid_oi_dict = {}\n",
    "for c in np.unique(covid_meta.condition):\n",
    "    temp_df = covid_df[(covid_df['genes'].isin(genes_oi['genes'].to_list()))][['genes']+covid_meta[covid_meta['condition'] == c]['sample'].to_list()]"
   ]
  },
  {
   "cell_type": "code",
   "execution_count": 63,
   "id": "7af2b5e7",
   "metadata": {},
   "outputs": [
    {
     "data": {
      "text/html": [
       "<div>\n",
       "<style scoped>\n",
       "    .dataframe tbody tr th:only-of-type {\n",
       "        vertical-align: middle;\n",
       "    }\n",
       "\n",
       "    .dataframe tbody tr th {\n",
       "        vertical-align: top;\n",
       "    }\n",
       "\n",
       "    .dataframe thead th {\n",
       "        text-align: right;\n",
       "    }\n",
       "</style>\n",
       "<table border=\"1\" class=\"dataframe\">\n",
       "  <thead>\n",
       "    <tr style=\"text-align: right;\">\n",
       "      <th>genes</th>\n",
       "      <th>CACNA2D3</th>\n",
       "      <th>CACHD1</th>\n",
       "      <th>ZNF362</th>\n",
       "      <th>FMNL3</th>\n",
       "      <th>FBLN2</th>\n",
       "      <th>AIM2</th>\n",
       "      <th>PSMD6</th>\n",
       "      <th>GYG1</th>\n",
       "      <th>ANXA5</th>\n",
       "      <th>NDUFB6</th>\n",
       "      <th>...</th>\n",
       "      <th>BRCA2</th>\n",
       "      <th>ZNF740</th>\n",
       "      <th>COL6A2</th>\n",
       "      <th>ADAMTS10</th>\n",
       "      <th>ITPKB</th>\n",
       "      <th>ACKR3</th>\n",
       "      <th>N4BP3</th>\n",
       "      <th>ARHGAP18</th>\n",
       "      <th>GIGYF1</th>\n",
       "      <th>SURF6</th>\n",
       "    </tr>\n",
       "  </thead>\n",
       "  <tbody>\n",
       "    <tr>\n",
       "      <th>DU09.03S12234</th>\n",
       "      <td>9.108016</td>\n",
       "      <td>7.233703</td>\n",
       "      <td>12.676562</td>\n",
       "      <td>13.212712</td>\n",
       "      <td>8.059405</td>\n",
       "      <td>12.49555</td>\n",
       "      <td>12.96602</td>\n",
       "      <td>12.97861</td>\n",
       "      <td>14.96681</td>\n",
       "      <td>11.17664</td>\n",
       "      <td>...</td>\n",
       "      <td>9.667833</td>\n",
       "      <td>13.26412</td>\n",
       "      <td>12.97946</td>\n",
       "      <td>11.82319</td>\n",
       "      <td>14.71661</td>\n",
       "      <td>8.644873</td>\n",
       "      <td>9.61333</td>\n",
       "      <td>11.12396</td>\n",
       "      <td>15.04157</td>\n",
       "      <td>12.5159</td>\n",
       "    </tr>\n",
       "    <tr>\n",
       "      <th>DU09.03S14677</th>\n",
       "      <td>8.385825</td>\n",
       "      <td>6.929688</td>\n",
       "      <td>12.6871</td>\n",
       "      <td>12.86401</td>\n",
       "      <td>7.918396</td>\n",
       "      <td>12.48093</td>\n",
       "      <td>13.01111</td>\n",
       "      <td>13.47673</td>\n",
       "      <td>14.82229</td>\n",
       "      <td>11.02441</td>\n",
       "      <td>...</td>\n",
       "      <td>9.776265</td>\n",
       "      <td>12.97455</td>\n",
       "      <td>12.40662</td>\n",
       "      <td>11.86043</td>\n",
       "      <td>14.58844</td>\n",
       "      <td>8.415148</td>\n",
       "      <td>8.804159</td>\n",
       "      <td>11.25947</td>\n",
       "      <td>14.97442</td>\n",
       "      <td>12.28504</td>\n",
       "    </tr>\n",
       "    <tr>\n",
       "      <th>DU10.01S03941</th>\n",
       "      <td>8.840297</td>\n",
       "      <td>6.632685</td>\n",
       "      <td>12.513313</td>\n",
       "      <td>12.638199</td>\n",
       "      <td>7.371425</td>\n",
       "      <td>14.08714</td>\n",
       "      <td>13.1046</td>\n",
       "      <td>14.11062</td>\n",
       "      <td>15.329</td>\n",
       "      <td>11.75183</td>\n",
       "      <td>...</td>\n",
       "      <td>10.31765</td>\n",
       "      <td>13.03474</td>\n",
       "      <td>12.67387</td>\n",
       "      <td>11.69151</td>\n",
       "      <td>14.3019</td>\n",
       "      <td>7.402488</td>\n",
       "      <td>8.663901</td>\n",
       "      <td>10.93799</td>\n",
       "      <td>15.01087</td>\n",
       "      <td>12.11651</td>\n",
       "    </tr>\n",
       "    <tr>\n",
       "      <th>DU10.01S04189</th>\n",
       "      <td>8.297919</td>\n",
       "      <td>6.471106</td>\n",
       "      <td>12.622191</td>\n",
       "      <td>11.634496</td>\n",
       "      <td>7.342196</td>\n",
       "      <td>14.12008</td>\n",
       "      <td>13.94657</td>\n",
       "      <td>16.52635</td>\n",
       "      <td>16.03593</td>\n",
       "      <td>12.13206</td>\n",
       "      <td>...</td>\n",
       "      <td>9.303659</td>\n",
       "      <td>13.00442</td>\n",
       "      <td>11.42911</td>\n",
       "      <td>10.60727</td>\n",
       "      <td>14.42121</td>\n",
       "      <td>6.94414</td>\n",
       "      <td>8.104814</td>\n",
       "      <td>10.58003</td>\n",
       "      <td>15.37952</td>\n",
       "      <td>12.4237</td>\n",
       "    </tr>\n",
       "    <tr>\n",
       "      <th>DU10.01S04464</th>\n",
       "      <td>9.420617</td>\n",
       "      <td>6.770507</td>\n",
       "      <td>12.921726</td>\n",
       "      <td>12.802765</td>\n",
       "      <td>7.818114</td>\n",
       "      <td>12.05556</td>\n",
       "      <td>13.0041</td>\n",
       "      <td>13.56658</td>\n",
       "      <td>14.54282</td>\n",
       "      <td>11.63089</td>\n",
       "      <td>...</td>\n",
       "      <td>8.801388</td>\n",
       "      <td>12.92059</td>\n",
       "      <td>12.91288</td>\n",
       "      <td>10.92398</td>\n",
       "      <td>14.55545</td>\n",
       "      <td>7.8416</td>\n",
       "      <td>9.188388</td>\n",
       "      <td>10.3639</td>\n",
       "      <td>15.39487</td>\n",
       "      <td>12.3143</td>\n",
       "    </tr>\n",
       "  </tbody>\n",
       "</table>\n",
       "<p>5 rows × 99 columns</p>\n",
       "</div>"
      ],
      "text/plain": [
       "genes          CACNA2D3    CACHD1     ZNF362      FMNL3     FBLN2      AIM2  \\\n",
       "DU09.03S12234  9.108016  7.233703  12.676562  13.212712  8.059405  12.49555   \n",
       "DU09.03S14677  8.385825  6.929688    12.6871   12.86401  7.918396  12.48093   \n",
       "DU10.01S03941  8.840297  6.632685  12.513313  12.638199  7.371425  14.08714   \n",
       "DU10.01S04189  8.297919  6.471106  12.622191  11.634496  7.342196  14.12008   \n",
       "DU10.01S04464  9.420617  6.770507  12.921726  12.802765  7.818114  12.05556   \n",
       "\n",
       "genes             PSMD6      GYG1     ANXA5    NDUFB6  ...     BRCA2  \\\n",
       "DU09.03S12234  12.96602  12.97861  14.96681  11.17664  ...  9.667833   \n",
       "DU09.03S14677  13.01111  13.47673  14.82229  11.02441  ...  9.776265   \n",
       "DU10.01S03941   13.1046  14.11062    15.329  11.75183  ...  10.31765   \n",
       "DU10.01S04189  13.94657  16.52635  16.03593  12.13206  ...  9.303659   \n",
       "DU10.01S04464   13.0041  13.56658  14.54282  11.63089  ...  8.801388   \n",
       "\n",
       "genes            ZNF740    COL6A2  ADAMTS10     ITPKB     ACKR3     N4BP3  \\\n",
       "DU09.03S12234  13.26412  12.97946  11.82319  14.71661  8.644873   9.61333   \n",
       "DU09.03S14677  12.97455  12.40662  11.86043  14.58844  8.415148  8.804159   \n",
       "DU10.01S03941  13.03474  12.67387  11.69151   14.3019  7.402488  8.663901   \n",
       "DU10.01S04189  13.00442  11.42911  10.60727  14.42121   6.94414  8.104814   \n",
       "DU10.01S04464  12.92059  12.91288  10.92398  14.55545    7.8416  9.188388   \n",
       "\n",
       "genes          ARHGAP18    GIGYF1     SURF6  \n",
       "DU09.03S12234  11.12396  15.04157   12.5159  \n",
       "DU09.03S14677  11.25947  14.97442  12.28504  \n",
       "DU10.01S03941  10.93799  15.01087  12.11651  \n",
       "DU10.01S04189  10.58003  15.37952   12.4237  \n",
       "DU10.01S04464   10.3639  15.39487   12.3143  \n",
       "\n",
       "[5 rows x 99 columns]"
      ]
     },
     "execution_count": 63,
     "metadata": {},
     "output_type": "execute_result"
    }
   ],
   "source": [
    "resp_ctrl = resp_df[(resp_df['genes'].isin(genes_oi['genes'].to_list()))][['genes']+resp_meta[resp_meta['condition'] == \"Parainfluenza_RespiratorySyncytial\"]['sample'].to_list()]\n",
    "\n",
    "resp_ctrl = resp_ctrl.T\n",
    "resp_ctrl.columns = resp_ctrl.loc['genes']\n",
    "resp_ctrl.drop(['genes'], axis = 0, inplace = True)\n",
    "resp_ctrl.head()"
   ]
  },
  {
   "cell_type": "markdown",
   "id": "83fc58c8",
   "metadata": {},
   "source": [
    "trying causal discovery toolbox"
   ]
  },
  {
   "cell_type": "code",
   "execution_count": 29,
   "id": "7c7b824e",
   "metadata": {},
   "outputs": [],
   "source": [
    "from cdt.causality.graph import PC\n",
    "from cdt.data import load_dataset\n",
    "data, graph = load_dataset(\"sachs\")"
   ]
  },
  {
   "cell_type": "code",
   "execution_count": 13,
   "id": "3deda1bf",
   "metadata": {},
   "outputs": [],
   "source": [
    "data = resp_ctrl.iloc[:,:50]"
   ]
  },
  {
   "cell_type": "code",
   "execution_count": 64,
   "id": "7b9fb4bd",
   "metadata": {},
   "outputs": [
    {
     "name": "stdout",
     "output_type": "stream",
     "text": [
      "0.017068850994110107\n"
     ]
    }
   ],
   "source": [
    "import time\n",
    "start = time.time()\n",
    "obj = PC()\n",
    "output = obj.create_graph_from_data(resp_ctrl)\n",
    "end = time.time()\n",
    "print((end - start)/60)"
   ]
  },
  {
   "cell_type": "code",
   "execution_count": 65,
   "id": "40e2f789",
   "metadata": {},
   "outputs": [
    {
     "data": {
      "image/png": "[encoded data removed]",
      "text/plain": [
       "<Figure size 432x288 with 1 Axes>"
      ]
     },
     "metadata": {},
     "output_type": "display_data"
    }
   ],
   "source": [
    "nx.draw(output, node_size = 5)\n",
    "plt.show()"
   ]
  },
  {
   "cell_type": "code",
   "execution_count": 66,
   "id": "6e495f71",
   "metadata": {},
   "outputs": [
    {
     "data": {
      "text/plain": [
       "28"
      ]
     },
     "execution_count": 66,
     "metadata": {},
     "output_type": "execute_result"
    }
   ],
   "source": [
    "len(output.edges)"
   ]
  },
  {
   "cell_type": "code",
   "execution_count": null,
   "id": "4baa2a3d",
   "metadata": {},
   "outputs": [],
   "source": []
  }
 ],
 "metadata": {
  "kernelspec": {
   "display_name": "Python 3",
   "language": "python",
   "name": "python3"
  },
  "language_info": {
   "codemirror_mode": {
    "name": "ipython",
    "version": 3
   },
   "file_extension": ".py",
   "mimetype": "text/x-python",
   "name": "python",
   "nbconvert_exporter": "python",
   "pygments_lexer": "ipython3",
   "version": "3.8.8"
  }
 },
 "nbformat": 4,
 "nbformat_minor": 5
}
