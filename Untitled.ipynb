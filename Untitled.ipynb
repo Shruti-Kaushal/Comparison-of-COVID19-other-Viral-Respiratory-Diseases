{
 "cells": [
  {
   "cell_type": "code",
   "execution_count": 2,
   "id": "92ddbfd4",
   "metadata": {},
   "outputs": [],
   "source": [
    "import numpy as np\n",
    "import pandas as pd\n",
    "import os"
   ]
  },
  {
   "cell_type": "code",
   "execution_count": 3,
   "id": "2eef494f",
   "metadata": {},
   "outputs": [],
   "source": [
    "path = os.getcwd()+'/normalized data/'"
   ]
  },
  {
   "cell_type": "code",
   "execution_count": 4,
   "id": "1c203384",
   "metadata": {},
   "outputs": [],
   "source": [
    "covid_df = pd.read_csv(path+'covid_data.csv')\n",
    "genes_oi = pd.read_csv(path+'genes_of_interest.csv')"
   ]
  },
  {
   "cell_type": "code",
   "execution_count": 5,
   "id": "7c502c8e",
   "metadata": {},
   "outputs": [
    {
     "data": {
      "text/plain": [
       "5221"
      ]
     },
     "execution_count": 5,
     "metadata": {},
     "output_type": "execute_result"
    }
   ],
   "source": [
    "len(genes_oi)"
   ]
  },
  {
   "cell_type": "code",
   "execution_count": 7,
   "id": "96dfeebb",
   "metadata": {},
   "outputs": [
    {
     "data": {
      "text/plain": [
       "2936"
      ]
     },
     "execution_count": 7,
     "metadata": {},
     "output_type": "execute_result"
    }
   ],
   "source": [
    "len(list(set(genes_oi['genes']).intersection(set(covid_df['genes']))))"
   ]
  },
  {
   "cell_type": "code",
   "execution_count": null,
   "id": "3a79edcf",
   "metadata": {},
   "outputs": [],
   "source": []
  }
 ],
 "metadata": {
  "kernelspec": {
   "display_name": "Python 3",
   "language": "python",
   "name": "python3"
  },
  "language_info": {
   "codemirror_mode": {
    "name": "ipython",
    "version": 3
   },
   "file_extension": ".py",
   "mimetype": "text/x-python",
   "name": "python",
   "nbconvert_exporter": "python",
   "pygments_lexer": "ipython3",
   "version": "3.8.8"
  }
 },
 "nbformat": 4,
 "nbformat_minor": 5
}
