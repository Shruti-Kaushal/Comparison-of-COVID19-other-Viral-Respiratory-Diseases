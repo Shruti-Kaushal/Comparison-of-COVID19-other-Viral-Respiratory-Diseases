{
 "cells": [
  {
   "cell_type": "code",
   "execution_count": 10,
   "id": "33136771",
   "metadata": {},
   "outputs": [],
   "source": [
    "import numpy as np\n",
    "import pandas as pd\n",
    "import os\n",
    "import matplotlib.pyplot as plt\n",
    "import scipy\n",
    "import itertools\n",
    "import pickle as pk"
   ]
  },
  {
   "cell_type": "markdown",
   "id": "1f01016b",
   "metadata": {},
   "source": [
    "This script focuses on performing differential gene expression analysis on the data corresponding to different respiratory diseases. The genes that are not satistically significant are filtered out for the next step of analysis and to reduce the size of the network "
   ]
  },
  {
   "cell_type": "code",
   "execution_count": 5,
   "id": "40c7e190",
   "metadata": {},
   "outputs": [
    {
     "data": {
      "text/plain": [
       "['respiratory_data.csv',\n",
       " 'covid_data.csv',\n",
       " 'respiratory_metadata.csv',\n",
       " 'covid_metadata.csv']"
      ]
     },
     "execution_count": 5,
     "metadata": {},
     "output_type": "execute_result"
    }
   ],
   "source": [
    "path = os.getcwd()+'/normalized data/'\n",
    "os.listdir(path)"
   ]
  },
  {
   "cell_type": "markdown",
   "id": "6135eafb",
   "metadata": {},
   "source": [
    "## DEGs Function"
   ]
  },
  {
   "cell_type": "code",
   "execution_count": 54,
   "id": "344230cf",
   "metadata": {},
   "outputs": [],
   "source": [
    "def compute_dynamic_dge(mapped_omics, sample_file, test_type='t', log=True, combo_func = 'gmean', transform_zero = False):\n",
    "    \"\"\"Performs dynamic differential gene expression analysis.\n",
    "    \n",
    "    Given a mapped omics DataFrame and a sample file with columns `'sample'`, `'condition'` and `'time'`, performs a differential\n",
    "    expression analysis between all pairs of conditions at all available time points. Uses the Mann-Whitney U-test to compute the\n",
    "    pvalues of differential expression. Note that the sample names in `'sample'` column must match the column names of the mapped omics.\n",
    "    \n",
    "    Args:\n",
    "        mapped_omics (:obj:`pd.DataFrame`): containing RMA normalized gene expressed for gene(s) (see output of ``parse_transcriptomics()``)\n",
    "        sample_file (:obj:`str`): name of a CSV file which contains experimental data; must contain columns with headers `'sample'`, `'condition'` and `'time'`\n",
    "        log (:obj:`bool`): whether to log the expression; default = `True`\n",
    "        combo_func (:obj:`str`): the function used to combine values of different samples of same condition. Possible strings can be 'gmean' for gemoetric mean, 'mean' and 'median' for arthimetic mean and median respectively.\n",
    "        transform_zero (:obj:`bool`): whether to apply log(x+k) transform to values of genes with the number of zeros greater than a threshold\n",
    "    Returns:\n",
    "        A :obj:`dict` whose keys correspond to a :obj:`tuple` of ``(condition_1, condition_2, time_point)``, and value corresponds to a \n",
    "        :obj:`pd.DataFrame` containing the output of differential gene expression analysis from ``condition_1`` to ``condition_2`` at given ``time_point``\n",
    "    See also:\n",
    "        * Mann-Whitney U-test: https://en.wikipedia.org/wiki/Mann%E2%80%93Whitney_U_test\n",
    "    \"\"\"\n",
    "    import scipy\n",
    "    from scipy.stats import ttest_ind\n",
    "    from scipy.stats import mannwhitneyu\n",
    "    from scipy.stats import gmean\n",
    "    from math import floor\n",
    "    from operator import truediv\n",
    "    from statsmodels.stats.multitest import multipletests\n",
    "    import itertools\n",
    "    import warnings\n",
    "    \n",
    "    samples = pd.read_csv(sample_file, sep=',', header=0, index_col=0, dtype=str)\n",
    "    groups = np.unique(samples['condition'])\n",
    "    timept = np.unique(samples['time'])\n",
    "    print('Found condition groups', groups, 'at time points', timept)\n",
    "    out = dict()\n",
    "    for (i,j) in itertools.product(groups, groups):\n",
    "        if i==j: continue\n",
    "        else:\n",
    "            for t in timept:\n",
    "                geneexp_i = mapped_omics[samples[(samples['condition']==i) & (samples['time']==t)].index].astype('float64').values\n",
    "                geneexp_j = mapped_omics[samples[(samples['condition']==j) & (samples['time']==t)].index].astype('float64').values\n",
    "                if geneexp_i.size>0 and geneexp_j.size>0:\n",
    "                    geo_mean_i = []\n",
    "                    geo_mean_j = []\n",
    "                    if geneexp_i.shape[0] != geneexp_j.shape[0]:\n",
    "                        print('unequal matrix size')\n",
    "                        break\n",
    "                    geneexp_ij = np.append(geneexp_i, geneexp_j, 1)\n",
    "                    zero_transformed = [np.nan]*geneexp_i.shape[0]\n",
    "                    for r in range(geneexp_i.shape[0]):\n",
    "                        if np.count_nonzero(geneexp_i[r]) < floor(0.75*geneexp_i.shape[1]) or np.count_nonzero(geneexp_j[r]) < floor(0.75*geneexp_j.shape[1]):\n",
    "                            if transform_zero:\n",
    "                                #print(len(np.nonzero(geneexp_ij[r])), np.nonzero(geneexp_ij[r]))\n",
    "                                zero_transformed[r] = 'yes'\n",
    "                                if np.count_nonzero(geneexp_ij[r]) == 0:\n",
    "                                    add_min = 1\n",
    "                                else:\n",
    "                                    add_min = np.min(geneexp_ij[r][np.nonzero(geneexp_ij[r])])/2\n",
    "                                geneexp_i[r] += add_min\n",
    "                                geneexp_j[r] += add_min\n",
    "                            else:\n",
    "                                geneexp_i[r] = np.array([[np.nan]*geneexp_i.shape[1]])\n",
    "                                geneexp_j[r] = np.array([[np.nan]*geneexp_j.shape[1]])\n",
    "                        \n",
    "                        if combo_func == 'gmean':\n",
    "                            geo_mean_i.append(gmean([x for x in geneexp_i[r] if x!=0]))\n",
    "                            geo_mean_j.append(gmean([x for x in geneexp_j[r] if x!=0]))\n",
    "                        if combo_func == 'mean':\n",
    "                            geo_mean_i.append(np.mean(geneexp_i[r]))\n",
    "                            geo_mean_j.append(np.mean(geneexp_j[r]))\n",
    "                        if combo_func == 'median':\n",
    "                            geo_mean_i.append(np.median(geneexp_i[r]))\n",
    "                            geo_mean_j.append(np.median(geneexp_j[r]))\n",
    "                            \n",
    "                    fc_vals = list(map(truediv, geo_mean_j, geo_mean_i))\n",
    "                \n",
    "                    if log:\n",
    "                        log2fcval = np.log2(fc_vals)\n",
    "                    else:\n",
    "                        log2fcval = np.array([-1/i if i<1 else i for i in fc_vals])\n",
    "                    \n",
    "                    stat = np.zeros(log2fcval.size)\n",
    "                    pval = np.zeros(log2fcval.size)\n",
    "                    prob = np.zeros(log2fcval.size)\n",
    "                    for idx in range(log2fcval.size):\n",
    "                        if test_type == 'u':\n",
    "                            statistic, pvalue = mannwhitneyu(geneexp_i[idx,:], geneexp_j[idx,:])\n",
    "                        else:\n",
    "                            statistic, pvalue = ttest_ind(geneexp_i[idx,:], geneexp_j[idx,:], equal_var = False)\n",
    "                        stat[idx] = statistic\n",
    "                        pval[idx] = pvalue\n",
    "                        if log2fcval[idx]>0: prob[idx] = 1-pval[idx]\n",
    "                        else: prob[idx] = pval[idx]\n",
    "                    out[(i,j,t)] = pd.DataFrame(np.vstack([mapped_omics['genes'], prob, log2fcval, pval, stat, zero_transformed]).transpose(), columns=['genes', 'probability', 'log2fc', 'pvalue', 'statistic','zero_transformed'])\n",
    "                    \n",
    "                if np.count_nonzero(out[(i,j,t)].log2fc.isnull()) >= floor(0.4*out[(i,j,t)].shape[0]):\n",
    "                    warnings.warn('Log fold change is not defined for over 40% of genes for condition set {}.\\nConsider transforming zero values'.format((i,j,t)))\n",
    "    if len(out)==0: print('Warning, no appropriate condition groups found! Ensure at last 1 sample for every condition at every time point of interest.')\n",
    "    return out\n"
   ]
  },
  {
   "cell_type": "code",
   "execution_count": 55,
   "id": "8e1b71de",
   "metadata": {},
   "outputs": [
    {
     "ename": "KeyError",
     "evalue": "'time'",
     "output_type": "error",
     "traceback": [
      "\u001b[0;31m---------------------------------------------------------------------------\u001b[0m",
      "\u001b[0;31mKeyError\u001b[0m                                  Traceback (most recent call last)",
      "\u001b[0;32m~/opt/anaconda3/lib/python3.8/site-packages/pandas/core/indexes/base.py\u001b[0m in \u001b[0;36mget_loc\u001b[0;34m(self, key, method, tolerance)\u001b[0m\n\u001b[1;32m   3079\u001b[0m             \u001b[0;32mtry\u001b[0m\u001b[0;34m:\u001b[0m\u001b[0;34m\u001b[0m\u001b[0;34m\u001b[0m\u001b[0m\n\u001b[0;32m-> 3080\u001b[0;31m                 \u001b[0;32mreturn\u001b[0m \u001b[0mself\u001b[0m\u001b[0;34m.\u001b[0m\u001b[0m_engine\u001b[0m\u001b[0;34m.\u001b[0m\u001b[0mget_loc\u001b[0m\u001b[0;34m(\u001b[0m\u001b[0mcasted_key\u001b[0m\u001b[0;34m)\u001b[0m\u001b[0;34m\u001b[0m\u001b[0;34m\u001b[0m\u001b[0m\n\u001b[0m\u001b[1;32m   3081\u001b[0m             \u001b[0;32mexcept\u001b[0m \u001b[0mKeyError\u001b[0m \u001b[0;32mas\u001b[0m \u001b[0merr\u001b[0m\u001b[0;34m:\u001b[0m\u001b[0;34m\u001b[0m\u001b[0;34m\u001b[0m\u001b[0m\n",
      "\u001b[0;32mpandas/_libs/index.pyx\u001b[0m in \u001b[0;36mpandas._libs.index.IndexEngine.get_loc\u001b[0;34m()\u001b[0m\n",
      "\u001b[0;32mpandas/_libs/index.pyx\u001b[0m in \u001b[0;36mpandas._libs.index.IndexEngine.get_loc\u001b[0;34m()\u001b[0m\n",
      "\u001b[0;32mpandas/_libs/hashtable_class_helper.pxi\u001b[0m in \u001b[0;36mpandas._libs.hashtable.PyObjectHashTable.get_item\u001b[0;34m()\u001b[0m\n",
      "\u001b[0;32mpandas/_libs/hashtable_class_helper.pxi\u001b[0m in \u001b[0;36mpandas._libs.hashtable.PyObjectHashTable.get_item\u001b[0;34m()\u001b[0m\n",
      "\u001b[0;31mKeyError\u001b[0m: 'time'",
      "\nThe above exception was the direct cause of the following exception:\n",
      "\u001b[0;31mKeyError\u001b[0m                                  Traceback (most recent call last)",
      "\u001b[0;32m<ipython-input-55-80028450c3f8>\u001b[0m in \u001b[0;36m<module>\u001b[0;34m\u001b[0m\n\u001b[0;32m----> 1\u001b[0;31m \u001b[0mnemo\u001b[0m\u001b[0;34m=\u001b[0m\u001b[0mcompute_dynamic_dge\u001b[0m\u001b[0;34m(\u001b[0m\u001b[0mmapped_omics\u001b[0m\u001b[0;34m,\u001b[0m \u001b[0msample_file\u001b[0m\u001b[0;34m,\u001b[0m \u001b[0mtest_type\u001b[0m\u001b[0;34m=\u001b[0m\u001b[0;34m't'\u001b[0m\u001b[0;34m,\u001b[0m \u001b[0mlog\u001b[0m\u001b[0;34m=\u001b[0m\u001b[0;32mTrue\u001b[0m\u001b[0;34m,\u001b[0m \u001b[0mcombo_func\u001b[0m \u001b[0;34m=\u001b[0m \u001b[0;34m'mean'\u001b[0m\u001b[0;34m,\u001b[0m \u001b[0mtransform_zero\u001b[0m \u001b[0;34m=\u001b[0m \u001b[0;32mFalse\u001b[0m\u001b[0;34m)\u001b[0m\u001b[0;34m\u001b[0m\u001b[0;34m\u001b[0m\u001b[0m\n\u001b[0m",
      "\u001b[0;32m<ipython-input-54-9015adac7d8f>\u001b[0m in \u001b[0;36mcompute_dynamic_dge\u001b[0;34m(mapped_omics, sample_file, test_type, log, combo_func, transform_zero)\u001b[0m\n\u001b[1;32m     30\u001b[0m     \u001b[0msamples\u001b[0m \u001b[0;34m=\u001b[0m \u001b[0mpd\u001b[0m\u001b[0;34m.\u001b[0m\u001b[0mread_csv\u001b[0m\u001b[0;34m(\u001b[0m\u001b[0msample_file\u001b[0m\u001b[0;34m,\u001b[0m \u001b[0msep\u001b[0m\u001b[0;34m=\u001b[0m\u001b[0;34m','\u001b[0m\u001b[0;34m,\u001b[0m \u001b[0mheader\u001b[0m\u001b[0;34m=\u001b[0m\u001b[0;36m0\u001b[0m\u001b[0;34m,\u001b[0m \u001b[0mindex_col\u001b[0m\u001b[0;34m=\u001b[0m\u001b[0;36m0\u001b[0m\u001b[0;34m,\u001b[0m \u001b[0mdtype\u001b[0m\u001b[0;34m=\u001b[0m\u001b[0mstr\u001b[0m\u001b[0;34m)\u001b[0m\u001b[0;34m\u001b[0m\u001b[0;34m\u001b[0m\u001b[0m\n\u001b[1;32m     31\u001b[0m     \u001b[0mgroups\u001b[0m \u001b[0;34m=\u001b[0m \u001b[0mnp\u001b[0m\u001b[0;34m.\u001b[0m\u001b[0munique\u001b[0m\u001b[0;34m(\u001b[0m\u001b[0msamples\u001b[0m\u001b[0;34m[\u001b[0m\u001b[0;34m'condition'\u001b[0m\u001b[0;34m]\u001b[0m\u001b[0;34m)\u001b[0m\u001b[0;34m\u001b[0m\u001b[0;34m\u001b[0m\u001b[0m\n\u001b[0;32m---> 32\u001b[0;31m     \u001b[0mtimept\u001b[0m \u001b[0;34m=\u001b[0m \u001b[0mnp\u001b[0m\u001b[0;34m.\u001b[0m\u001b[0munique\u001b[0m\u001b[0;34m(\u001b[0m\u001b[0msamples\u001b[0m\u001b[0;34m[\u001b[0m\u001b[0;34m'time'\u001b[0m\u001b[0;34m]\u001b[0m\u001b[0;34m)\u001b[0m\u001b[0;34m\u001b[0m\u001b[0;34m\u001b[0m\u001b[0m\n\u001b[0m\u001b[1;32m     33\u001b[0m     \u001b[0mprint\u001b[0m\u001b[0;34m(\u001b[0m\u001b[0;34m'Found condition groups'\u001b[0m\u001b[0;34m,\u001b[0m \u001b[0mgroups\u001b[0m\u001b[0;34m,\u001b[0m \u001b[0;34m'at time points'\u001b[0m\u001b[0;34m,\u001b[0m \u001b[0mtimept\u001b[0m\u001b[0;34m)\u001b[0m\u001b[0;34m\u001b[0m\u001b[0;34m\u001b[0m\u001b[0m\n\u001b[1;32m     34\u001b[0m     \u001b[0mout\u001b[0m \u001b[0;34m=\u001b[0m \u001b[0mdict\u001b[0m\u001b[0;34m(\u001b[0m\u001b[0;34m)\u001b[0m\u001b[0;34m\u001b[0m\u001b[0;34m\u001b[0m\u001b[0m\n",
      "\u001b[0;32m~/opt/anaconda3/lib/python3.8/site-packages/pandas/core/frame.py\u001b[0m in \u001b[0;36m__getitem__\u001b[0;34m(self, key)\u001b[0m\n\u001b[1;32m   3022\u001b[0m             \u001b[0;32mif\u001b[0m \u001b[0mself\u001b[0m\u001b[0;34m.\u001b[0m\u001b[0mcolumns\u001b[0m\u001b[0;34m.\u001b[0m\u001b[0mnlevels\u001b[0m \u001b[0;34m>\u001b[0m \u001b[0;36m1\u001b[0m\u001b[0;34m:\u001b[0m\u001b[0;34m\u001b[0m\u001b[0;34m\u001b[0m\u001b[0m\n\u001b[1;32m   3023\u001b[0m                 \u001b[0;32mreturn\u001b[0m \u001b[0mself\u001b[0m\u001b[0;34m.\u001b[0m\u001b[0m_getitem_multilevel\u001b[0m\u001b[0;34m(\u001b[0m\u001b[0mkey\u001b[0m\u001b[0;34m)\u001b[0m\u001b[0;34m\u001b[0m\u001b[0;34m\u001b[0m\u001b[0m\n\u001b[0;32m-> 3024\u001b[0;31m             \u001b[0mindexer\u001b[0m \u001b[0;34m=\u001b[0m \u001b[0mself\u001b[0m\u001b[0;34m.\u001b[0m\u001b[0mcolumns\u001b[0m\u001b[0;34m.\u001b[0m\u001b[0mget_loc\u001b[0m\u001b[0;34m(\u001b[0m\u001b[0mkey\u001b[0m\u001b[0;34m)\u001b[0m\u001b[0;34m\u001b[0m\u001b[0;34m\u001b[0m\u001b[0m\n\u001b[0m\u001b[1;32m   3025\u001b[0m             \u001b[0;32mif\u001b[0m \u001b[0mis_integer\u001b[0m\u001b[0;34m(\u001b[0m\u001b[0mindexer\u001b[0m\u001b[0;34m)\u001b[0m\u001b[0;34m:\u001b[0m\u001b[0;34m\u001b[0m\u001b[0;34m\u001b[0m\u001b[0m\n\u001b[1;32m   3026\u001b[0m                 \u001b[0mindexer\u001b[0m \u001b[0;34m=\u001b[0m \u001b[0;34m[\u001b[0m\u001b[0mindexer\u001b[0m\u001b[0;34m]\u001b[0m\u001b[0;34m\u001b[0m\u001b[0;34m\u001b[0m\u001b[0m\n",
      "\u001b[0;32m~/opt/anaconda3/lib/python3.8/site-packages/pandas/core/indexes/base.py\u001b[0m in \u001b[0;36mget_loc\u001b[0;34m(self, key, method, tolerance)\u001b[0m\n\u001b[1;32m   3080\u001b[0m                 \u001b[0;32mreturn\u001b[0m \u001b[0mself\u001b[0m\u001b[0;34m.\u001b[0m\u001b[0m_engine\u001b[0m\u001b[0;34m.\u001b[0m\u001b[0mget_loc\u001b[0m\u001b[0;34m(\u001b[0m\u001b[0mcasted_key\u001b[0m\u001b[0;34m)\u001b[0m\u001b[0;34m\u001b[0m\u001b[0;34m\u001b[0m\u001b[0m\n\u001b[1;32m   3081\u001b[0m             \u001b[0;32mexcept\u001b[0m \u001b[0mKeyError\u001b[0m \u001b[0;32mas\u001b[0m \u001b[0merr\u001b[0m\u001b[0;34m:\u001b[0m\u001b[0;34m\u001b[0m\u001b[0;34m\u001b[0m\u001b[0m\n\u001b[0;32m-> 3082\u001b[0;31m                 \u001b[0;32mraise\u001b[0m \u001b[0mKeyError\u001b[0m\u001b[0;34m(\u001b[0m\u001b[0mkey\u001b[0m\u001b[0;34m)\u001b[0m \u001b[0;32mfrom\u001b[0m \u001b[0merr\u001b[0m\u001b[0;34m\u001b[0m\u001b[0;34m\u001b[0m\u001b[0m\n\u001b[0m\u001b[1;32m   3083\u001b[0m \u001b[0;34m\u001b[0m\u001b[0m\n\u001b[1;32m   3084\u001b[0m         \u001b[0;32mif\u001b[0m \u001b[0mtolerance\u001b[0m \u001b[0;32mis\u001b[0m \u001b[0;32mnot\u001b[0m \u001b[0;32mNone\u001b[0m\u001b[0;34m:\u001b[0m\u001b[0;34m\u001b[0m\u001b[0;34m\u001b[0m\u001b[0m\n",
      "\u001b[0;31mKeyError\u001b[0m: 'time'"
     ]
    }
   ],
   "source": [
    "nemo=compute_dynamic_dge(mapped_omics, sample_file, test_type='t', log=True, combo_func = 'mean', transform_zero = False)"
   ]
  },
  {
   "cell_type": "code",
   "execution_count": 13,
   "id": "3b6ce544",
   "metadata": {},
   "outputs": [],
   "source": [
    "mapped_omics = pd.read_csv(path+'respiratory_data.csv')\n",
    "sample_file = path + 'respiratory_metadata.csv'"
   ]
  },
  {
   "cell_type": "code",
   "execution_count": 39,
   "id": "6b553b9e",
   "metadata": {},
   "outputs": [],
   "source": [
    "def calculate_degs(mapped_omics, sample, combo_func = 'mean', test_type = 'student_t'):\n",
    "    from scipy.stats import gmean\n",
    "    from scipy.stats import ttest_ind\n",
    "    from scipy.stats import mannwhitneyu\n",
    "    from operator import truediv\n",
    "    import itertools\n",
    "\n",
    "    samples = pd.read_csv(sample_file, sep=',', header=0, index_col=0, dtype=str)\n",
    "    groups = np.unique(samples['condition'])\n",
    "    print('Found condition groups', groups)\n",
    "    out = dict()\n",
    "    for (i,j) in itertools.product(groups, groups):\n",
    "        if i==j: continue\n",
    "        else: \n",
    "            print('calculating degs for ({},{})'.format(i,j))\n",
    "            # extracting gene expression values of all samples of a given condition\n",
    "            geneexp_i = mapped_omics[samples[samples['condition']==i].index].astype('float64').values\n",
    "            geneexp_j = mapped_omics[samples[samples['condition']==j].index].astype('float64').values\n",
    "        \n",
    "            geo_mean_i = []\n",
    "            geo_mean_j = []\n",
    "        \n",
    "            # combining gene expression values of samples with the same condition\n",
    "            if combo_func == 'gmean':\n",
    "                if np.count_nonzero(geneexp_i) != geneexp_i.shape[0]*geneexp_i.shape[1] or \\\n",
    "                np.count_nonzero(geneexp_j) != geneexp_j.shape[0]*geneexp_j.shape[1]:\n",
    "                    print('Genes with zero counts encountered. Cannot calculate geometric mean')\n",
    "                    return \n",
    "                geo_mean_i = [gmean(geneexp_i[r]) for r in range(0, geneexp_i.shape[0])]\n",
    "                geo_mean_j = [gmean(geneexp_j[r]) for r in range(0, geneexp_j.shape[0])]\n",
    "            if combo_func == 'mean':\n",
    "                geo_mean_i = [np.mean(geneexp_i[r]) for r in range(0, geneexp_i.shape[0])]\n",
    "                geo_mean_j = [np.mean(geneexp_j[r]) for r in range(0, geneexp_j.shape[0])]\n",
    "            if combo_func == 'median':\n",
    "                geo_mean_i = [np.median(geneexp_i[r]) for r in range(0, geneexp_i.shape[0])]\n",
    "                geo_mean_j = [np.median(geneexp_j[r]) for r in range(0, geneexp_j.shape[0])]\n",
    "            \n",
    "            # calculating log fold change\n",
    "            fc_vals = list(map(truediv, geo_mean_j, geo_mean_i))\n",
    "            log2fcval = np.log2(fc_vals)\n",
    "        \n",
    "            # performing hypothesis tests\n",
    "            pval = np.zeros(len(fc_vals))\n",
    "            test_statistic = np.zeros(len(fc_vals))\n",
    "        \n",
    "            for idx in range(len(fc_vals)):\n",
    "                if test_type == 'student_t':\n",
    "                    statistic, pvalue = ttest_ind(geneexp_i[idx,:], geneexp_j[idx,:], equal_var = False)\n",
    "                if test_type == 'mann_u':\n",
    "                    statistic, pvalue = mannwhitneyu(geneexp_i[idx,:], geneexp_j[idx,:])\n",
    "                test_statistic[idx] = statistic\n",
    "                pval[idx] = pvalue\n",
    "        \n",
    "            out[(i,j)] = pd.DataFrame({'genes':mapped_omics.genes, 'statistic':test_statistic, 'pvalue': pval})\n",
    "    return out"
   ]
  },
  {
   "cell_type": "code",
   "execution_count": 40,
   "id": "5962e5fa",
   "metadata": {},
   "outputs": [
    {
     "name": "stdout",
     "output_type": "stream",
     "text": [
      "Found condition groups ['Adenovirus_Cytomegalovirus_Ebstein-Barr virus_Herpes Simplex virus'\n",
      " 'Dengue' 'Influenza' 'Parainfluenza_RespiratorySyncytial' 'Pneumonia'\n",
      " 'Rhinovirus' 'healthy_ctrl']\n",
      "calculating degs for (Adenovirus_Cytomegalovirus_Ebstein-Barr virus_Herpes Simplex virus,Dengue)\n",
      "calculating degs for (Adenovirus_Cytomegalovirus_Ebstein-Barr virus_Herpes Simplex virus,Influenza)\n",
      "calculating degs for (Adenovirus_Cytomegalovirus_Ebstein-Barr virus_Herpes Simplex virus,Parainfluenza_RespiratorySyncytial)\n",
      "calculating degs for (Adenovirus_Cytomegalovirus_Ebstein-Barr virus_Herpes Simplex virus,Pneumonia)\n",
      "calculating degs for (Adenovirus_Cytomegalovirus_Ebstein-Barr virus_Herpes Simplex virus,Rhinovirus)\n",
      "calculating degs for (Adenovirus_Cytomegalovirus_Ebstein-Barr virus_Herpes Simplex virus,healthy_ctrl)\n",
      "calculating degs for (Dengue,Adenovirus_Cytomegalovirus_Ebstein-Barr virus_Herpes Simplex virus)\n",
      "calculating degs for (Dengue,Influenza)\n",
      "calculating degs for (Dengue,Parainfluenza_RespiratorySyncytial)\n",
      "calculating degs for (Dengue,Pneumonia)\n",
      "calculating degs for (Dengue,Rhinovirus)\n",
      "calculating degs for (Dengue,healthy_ctrl)\n",
      "calculating degs for (Influenza,Adenovirus_Cytomegalovirus_Ebstein-Barr virus_Herpes Simplex virus)\n",
      "calculating degs for (Influenza,Dengue)\n",
      "calculating degs for (Influenza,Parainfluenza_RespiratorySyncytial)\n",
      "calculating degs for (Influenza,Pneumonia)\n",
      "calculating degs for (Influenza,Rhinovirus)\n",
      "calculating degs for (Influenza,healthy_ctrl)\n",
      "calculating degs for (Parainfluenza_RespiratorySyncytial,Adenovirus_Cytomegalovirus_Ebstein-Barr virus_Herpes Simplex virus)\n",
      "calculating degs for (Parainfluenza_RespiratorySyncytial,Dengue)\n",
      "calculating degs for (Parainfluenza_RespiratorySyncytial,Influenza)\n",
      "calculating degs for (Parainfluenza_RespiratorySyncytial,Pneumonia)\n",
      "calculating degs for (Parainfluenza_RespiratorySyncytial,Rhinovirus)\n",
      "calculating degs for (Parainfluenza_RespiratorySyncytial,healthy_ctrl)\n",
      "calculating degs for (Pneumonia,Adenovirus_Cytomegalovirus_Ebstein-Barr virus_Herpes Simplex virus)\n",
      "calculating degs for (Pneumonia,Dengue)\n",
      "calculating degs for (Pneumonia,Influenza)\n",
      "calculating degs for (Pneumonia,Parainfluenza_RespiratorySyncytial)\n",
      "calculating degs for (Pneumonia,Rhinovirus)\n",
      "calculating degs for (Pneumonia,healthy_ctrl)\n",
      "calculating degs for (Rhinovirus,Adenovirus_Cytomegalovirus_Ebstein-Barr virus_Herpes Simplex virus)\n",
      "calculating degs for (Rhinovirus,Dengue)\n",
      "calculating degs for (Rhinovirus,Influenza)\n",
      "calculating degs for (Rhinovirus,Parainfluenza_RespiratorySyncytial)\n",
      "calculating degs for (Rhinovirus,Pneumonia)\n",
      "calculating degs for (Rhinovirus,healthy_ctrl)\n",
      "calculating degs for (healthy_ctrl,Adenovirus_Cytomegalovirus_Ebstein-Barr virus_Herpes Simplex virus)\n",
      "calculating degs for (healthy_ctrl,Dengue)\n",
      "calculating degs for (healthy_ctrl,Influenza)\n",
      "calculating degs for (healthy_ctrl,Parainfluenza_RespiratorySyncytial)\n",
      "calculating degs for (healthy_ctrl,Pneumonia)\n",
      "calculating degs for (healthy_ctrl,Rhinovirus)\n"
     ]
    }
   ],
   "source": [
    "temp = calculate_degs(mapped_omics, sample_file)"
   ]
  },
  {
   "cell_type": "code",
   "execution_count": 51,
   "id": "cd7412d7",
   "metadata": {},
   "outputs": [
    {
     "data": {
      "text/plain": [
       "1466"
      ]
     },
     "execution_count": 51,
     "metadata": {},
     "output_type": "execute_result"
    }
   ],
   "source": [
    "np.count_nonzero(temp[('healthy_ctrl','Adenovirus_Cytomegalovirus_Ebstein-Barr virus_Herpes Simplex virus')].pvalue < 0.005)"
   ]
  },
  {
   "cell_type": "code",
   "execution_count": null,
   "id": "328cf72b",
   "metadata": {},
   "outputs": [],
   "source": []
  },
  {
   "cell_type": "markdown",
   "id": "6f746efc",
   "metadata": {},
   "source": [
    "## GSE157240 - Respiratory Disease"
   ]
  },
  {
   "cell_type": "code",
   "execution_count": null,
   "id": "6eca90ad",
   "metadata": {},
   "outputs": [],
   "source": []
  }
 ],
 "metadata": {
  "kernelspec": {
   "display_name": "Python 3",
   "language": "python",
   "name": "python3"
  },
  "language_info": {
   "codemirror_mode": {
    "name": "ipython",
    "version": 3
   },
   "file_extension": ".py",
   "mimetype": "text/x-python",
   "name": "python",
   "nbconvert_exporter": "python",
   "pygments_lexer": "ipython3",
   "version": "3.8.8"
  }
 },
 "nbformat": 4,
 "nbformat_minor": 5
}
