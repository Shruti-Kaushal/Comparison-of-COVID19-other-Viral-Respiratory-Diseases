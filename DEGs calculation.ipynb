{
 "cells": [
  {
   "cell_type": "code",
   "execution_count": 10,
   "id": "57d1b9a6",
   "metadata": {},
   "outputs": [],
   "source": [
    "import numpy as np\n",
    "import pandas as pd\n",
    "import os\n",
    "import matplotlib.pyplot as plt\n",
    "import scipy\n",
    "import itertools"
   ]
  },
  {
   "cell_type": "markdown",
   "id": "b41e32f9",
   "metadata": {},
   "source": [
    "This script focuses on performing differential gene expression analysis on the data corresponding to different respiratory diseases. The genes that are not satistically significant are filtered out for the next step of analysis and to reduce the size of the network "
   ]
  },
  {
   "cell_type": "code",
   "execution_count": 5,
   "id": "3fe8ca0d",
   "metadata": {},
   "outputs": [
    {
     "data": {
      "text/plain": [
       "['respiratory_data.csv',\n",
       " 'covid_data.csv',\n",
       " 'respiratory_metadata.csv',\n",
       " 'covid_metadata.csv']"
      ]
     },
     "execution_count": 5,
     "metadata": {},
     "output_type": "execute_result"
    }
   ],
   "source": [
    "path = os.getcwd()+'/normalized data/'\n",
    "os.listdir(path)"
   ]
  },
  {
   "cell_type": "markdown",
   "id": "5855d457",
   "metadata": {},
   "source": [
    "## DEGs Function"
   ]
  },
  {
   "cell_type": "code",
   "execution_count": null,
   "id": "e06569cb",
   "metadata": {},
   "outputs": [],
   "source": [
    "from scipy.stats import ttest_ind\n",
    "from scipy.stats import mannwhitneyu\n",
    "from scipy.stats import gmean\n",
    "from math import floor\n",
    "from operator import truediv\n",
    "from statsmodels.stats.multitest import multipletests\n",
    "import itertools\n",
    "import warnings\n",
    "    \n",
    "    samples = pd.read_csv(sample_file, sep=',', header=0, index_col=0, dtype=str)\n",
    "    groups = np.unique(samples['condition'])\n",
    "    print('Found condition groups', groups, 'at time points', timept)\n",
    "    out = dict()\n",
    "    for (i,j) in itertools.product(groups, groups):\n",
    "        if i==j: continue\n",
    "        else:\n",
    "            for t in timept:\n",
    "                geneexp_i = mapped_omics[samples[(samples['condition']==i) & (samples['time']==t)].index].astype('float64').values\n",
    "                geneexp_j = mapped_omics[samples[(samples['condition']==j) & (samples['time']==t)].index].astype('float64').values\n",
    "                if geneexp_i.size>0 and geneexp_j.size>0:\n",
    "                    geo_mean_i = []\n",
    "                    geo_mean_j = []\n",
    "                    if geneexp_i.shape[0] != geneexp_j.shape[0]:\n",
    "                        print('unequal matrix size')\n",
    "                        break\n",
    "                    geneexp_ij = np.append(geneexp_i, geneexp_j, 1)\n",
    "                    zero_transformed = [np.nan]*geneexp_i.shape[0]\n",
    "                    for r in range(geneexp_i.shape[0]):\n",
    "                        if np.count_nonzero(geneexp_i[r]) < floor(0.75*geneexp_i.shape[1]) or np.count_nonzero(geneexp_j[r]) < floor(0.75*geneexp_j.shape[1]):\n",
    "                            if transform_zero:\n",
    "                                #print(len(np.nonzero(geneexp_ij[r])), np.nonzero(geneexp_ij[r]))\n",
    "                                zero_transformed[r] = 'yes'\n",
    "                                if np.count_nonzero(geneexp_ij[r]) == 0:\n",
    "                                    add_min = 1\n",
    "                                else:\n",
    "                                    add_min = np.min(geneexp_ij[r][np.nonzero(geneexp_ij[r])])/2\n",
    "                                geneexp_i[r] += add_min\n",
    "                                geneexp_j[r] += add_min\n",
    "                            else:\n",
    "                                geneexp_i[r] = np.array([[np.nan]*geneexp_i.shape[1]])\n",
    "                                geneexp_j[r] = np.array([[np.nan]*geneexp_j.shape[1]])\n",
    "                        \n",
    "                        if combo_func == 'gmean':\n",
    "                            geo_mean_i.append(gmean([x for x in geneexp_i[r] if x!=0]))\n",
    "                            geo_mean_j.append(gmean([x for x in geneexp_j[r] if x!=0]))\n",
    "                        if combo_func == 'mean':\n",
    "                            geo_mean_i.append(np.mean(geneexp_i[r]))\n",
    "                            geo_mean_j.append(np.mean(geneexp_j[r]))\n",
    "                        if combo_func == 'median':\n",
    "                            geo_mean_i.append(np.median(geneexp_i[r]))\n",
    "                            geo_mean_j.append(np.median(geneexp_j[r]))\n",
    "                            \n",
    "                    fc_vals = list(map(truediv, geo_mean_j, geo_mean_i))\n",
    "                \n",
    "                    if log:\n",
    "                        log2fcval = np.log2(fc_vals)\n",
    "                    else:\n",
    "                        log2fcval = np.array([-1/i if i<1 else i for i in fc_vals])\n",
    "                    \n",
    "                    stat = np.zeros(log2fcval.size)\n",
    "                    pval = np.zeros(log2fcval.size)\n",
    "                    prob = np.zeros(log2fcval.size)\n",
    "                    for idx in range(log2fcval.size):\n",
    "                        if test_type == 'u':\n",
    "                            statistic, pvalue = mannwhitneyu(geneexp_i[idx,:], geneexp_j[idx,:])\n",
    "                        else:\n",
    "                            statistic, pvalue = ttest_ind(geneexp_i[idx,:], geneexp_j[idx,:], equal_var = False)\n",
    "                        stat[idx] = statistic\n",
    "                        pval[idx] = pvalue\n",
    "                        if log2fcval[idx]>0: prob[idx] = 1-pval[idx]\n",
    "                        else: prob[idx] = pval[idx]\n",
    "                    out[(i,j,t)] = pd.DataFrame(np.vstack([mapped_omics['genes'], prob, log2fcval, pval, stat, zero_transformed]).transpose(), columns=['genes', 'probability', 'log2fc', 'pvalue', 'statistic','zero_transformed'])\n",
    "                    \n",
    "                  if np.count_nonzero(out[(i,j,t)].log2fc.isnull()) >= floor(0.4*out[(i,j,t)].shape[0]):\n",
    "                    warnings.warn('Log fold change is not defined for over 40% of genes for condition set {}.\\nConsider transforming zero values'.format((i,j,t)))\n",
    "    if len(out)==0: print('Warning, no appropriate condition groups found! Ensure at last 1 sample for every condition at every time point of interest.')\n",
    "    return out"
   ]
  },
  {
   "cell_type": "code",
   "execution_count": 11,
   "id": "b5d31c24",
   "metadata": {},
   "outputs": [
    {
     "name": "stdout",
     "output_type": "stream",
     "text": [
      "Found condition groups ['DNA virus infected patient (Adenovirus, Cytomegalovirus, Ebstein-Barr virus, Herpes Simplex virus)'\n",
      " 'Dengue virus infected patient' 'Entero/Rhinovirus infected patient'\n",
      " 'Influenza virus infected patient' 'Metapneumovirus infected patient'\n",
      " 'healthy_ctrl'\n",
      " 'other respiratory RNA virus infected patient (Parainfluenza virus and Respiratory Syncytial virus)']\n",
      "DNA virus infected patient (Adenovirus, Cytomegalovirus, Ebstein-Barr virus, Herpes Simplex virus) Dengue virus infected patient\n",
      "DNA virus infected patient (Adenovirus, Cytomegalovirus, Ebstein-Barr virus, Herpes Simplex virus) Entero/Rhinovirus infected patient\n",
      "DNA virus infected patient (Adenovirus, Cytomegalovirus, Ebstein-Barr virus, Herpes Simplex virus) Influenza virus infected patient\n",
      "DNA virus infected patient (Adenovirus, Cytomegalovirus, Ebstein-Barr virus, Herpes Simplex virus) Metapneumovirus infected patient\n",
      "DNA virus infected patient (Adenovirus, Cytomegalovirus, Ebstein-Barr virus, Herpes Simplex virus) healthy_ctrl\n",
      "DNA virus infected patient (Adenovirus, Cytomegalovirus, Ebstein-Barr virus, Herpes Simplex virus) other respiratory RNA virus infected patient (Parainfluenza virus and Respiratory Syncytial virus)\n",
      "Dengue virus infected patient DNA virus infected patient (Adenovirus, Cytomegalovirus, Ebstein-Barr virus, Herpes Simplex virus)\n",
      "Dengue virus infected patient Entero/Rhinovirus infected patient\n",
      "Dengue virus infected patient Influenza virus infected patient\n",
      "Dengue virus infected patient Metapneumovirus infected patient\n",
      "Dengue virus infected patient healthy_ctrl\n",
      "Dengue virus infected patient other respiratory RNA virus infected patient (Parainfluenza virus and Respiratory Syncytial virus)\n",
      "Entero/Rhinovirus infected patient DNA virus infected patient (Adenovirus, Cytomegalovirus, Ebstein-Barr virus, Herpes Simplex virus)\n",
      "Entero/Rhinovirus infected patient Dengue virus infected patient\n",
      "Entero/Rhinovirus infected patient Influenza virus infected patient\n",
      "Entero/Rhinovirus infected patient Metapneumovirus infected patient\n",
      "Entero/Rhinovirus infected patient healthy_ctrl\n",
      "Entero/Rhinovirus infected patient other respiratory RNA virus infected patient (Parainfluenza virus and Respiratory Syncytial virus)\n",
      "Influenza virus infected patient DNA virus infected patient (Adenovirus, Cytomegalovirus, Ebstein-Barr virus, Herpes Simplex virus)\n",
      "Influenza virus infected patient Dengue virus infected patient\n",
      "Influenza virus infected patient Entero/Rhinovirus infected patient\n",
      "Influenza virus infected patient Metapneumovirus infected patient\n",
      "Influenza virus infected patient healthy_ctrl\n",
      "Influenza virus infected patient other respiratory RNA virus infected patient (Parainfluenza virus and Respiratory Syncytial virus)\n",
      "Metapneumovirus infected patient DNA virus infected patient (Adenovirus, Cytomegalovirus, Ebstein-Barr virus, Herpes Simplex virus)\n",
      "Metapneumovirus infected patient Dengue virus infected patient\n",
      "Metapneumovirus infected patient Entero/Rhinovirus infected patient\n",
      "Metapneumovirus infected patient Influenza virus infected patient\n",
      "Metapneumovirus infected patient healthy_ctrl\n",
      "Metapneumovirus infected patient other respiratory RNA virus infected patient (Parainfluenza virus and Respiratory Syncytial virus)\n",
      "healthy_ctrl DNA virus infected patient (Adenovirus, Cytomegalovirus, Ebstein-Barr virus, Herpes Simplex virus)\n",
      "healthy_ctrl Dengue virus infected patient\n",
      "healthy_ctrl Entero/Rhinovirus infected patient\n",
      "healthy_ctrl Influenza virus infected patient\n",
      "healthy_ctrl Metapneumovirus infected patient\n",
      "healthy_ctrl other respiratory RNA virus infected patient (Parainfluenza virus and Respiratory Syncytial virus)\n",
      "other respiratory RNA virus infected patient (Parainfluenza virus and Respiratory Syncytial virus) DNA virus infected patient (Adenovirus, Cytomegalovirus, Ebstein-Barr virus, Herpes Simplex virus)\n",
      "other respiratory RNA virus infected patient (Parainfluenza virus and Respiratory Syncytial virus) Dengue virus infected patient\n",
      "other respiratory RNA virus infected patient (Parainfluenza virus and Respiratory Syncytial virus) Entero/Rhinovirus infected patient\n",
      "other respiratory RNA virus infected patient (Parainfluenza virus and Respiratory Syncytial virus) Influenza virus infected patient\n",
      "other respiratory RNA virus infected patient (Parainfluenza virus and Respiratory Syncytial virus) Metapneumovirus infected patient\n",
      "other respiratory RNA virus infected patient (Parainfluenza virus and Respiratory Syncytial virus) healthy_ctrl\n"
     ]
    }
   ],
   "source": [
    "sample_file = path + 'respiratory_metadata.csv'\n",
    "samples = pd.read_csv(sample_file, sep=',', header=0, index_col=0, dtype=str)\n",
    "groups = np.unique(samples['condition'])\n",
    "print('Found condition groups', groups)\n",
    "out = dict()\n",
    "for (i,j) in itertools.product(groups, groups):\n",
    "    if i==j: continue\n",
    "    else: print(i,j)"
   ]
  },
  {
   "cell_type": "markdown",
   "id": "46e3afbb",
   "metadata": {},
   "source": [
    "## GSE157240 - Respiratory Disease"
   ]
  },
  {
   "cell_type": "code",
   "execution_count": null,
   "id": "aee25e92",
   "metadata": {},
   "outputs": [],
   "source": []
  }
 ],
 "metadata": {
  "kernelspec": {
   "display_name": "Python 3",
   "language": "python",
   "name": "python3"
  },
  "language_info": {
   "codemirror_mode": {
    "name": "ipython",
    "version": 3
   },
   "file_extension": ".py",
   "mimetype": "text/x-python",
   "name": "python",
   "nbconvert_exporter": "python",
   "pygments_lexer": "ipython3",
   "version": "3.8.8"
  }
 },
 "nbformat": 4,
 "nbformat_minor": 5
}
