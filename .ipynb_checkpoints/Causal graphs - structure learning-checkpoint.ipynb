{
 "cells": [
  {
   "cell_type": "code",
   "execution_count": 36,
   "id": "dc7de988",
   "metadata": {},
   "outputs": [],
   "source": [
    "import numpy as np\n",
    "import pandas as pd\n",
    "import networkx as nx\n",
    "import pickle \n",
    "import causallearn as cl\n",
    "import cdt\n",
    "import os"
   ]
  },
  {
   "cell_type": "markdown",
   "id": "c8386aff",
   "metadata": {},
   "source": [
    "This script focuses on learning graphs for each of the conditions using different structure learning algorithms. Two types of algorithms are used - score based greedy algorithms and conditional independence test based algorithms"
   ]
  },
  {
   "cell_type": "markdown",
   "id": "8d9c3fbf",
   "metadata": {},
   "source": [
    "# Data Formatting"
   ]
  },
  {
   "cell_type": "code",
   "execution_count": 4,
   "id": "b0b74974",
   "metadata": {},
   "outputs": [],
   "source": [
    "path = os.getcwd()+\"/normalized data/\""
   ]
  },
  {
   "cell_type": "code",
   "execution_count": 9,
   "id": "a70990cb",
   "metadata": {},
   "outputs": [],
   "source": [
    "genes_oi = pd.read_csv(path+'genes_of_interest.csv')\n",
    "resp_df = pd.read_csv(path+'respiratory_data.csv')\n",
    "resp_meta = pd.read_csv(path+'respiratory_metadata.csv')"
   ]
  },
  {
   "cell_type": "code",
   "execution_count": 33,
   "id": "7af2b5e7",
   "metadata": {},
   "outputs": [
    {
     "data": {
      "text/html": [
       "<div>\n",
       "<style scoped>\n",
       "    .dataframe tbody tr th:only-of-type {\n",
       "        vertical-align: middle;\n",
       "    }\n",
       "\n",
       "    .dataframe tbody tr th {\n",
       "        vertical-align: top;\n",
       "    }\n",
       "\n",
       "    .dataframe thead th {\n",
       "        text-align: right;\n",
       "    }\n",
       "</style>\n",
       "<table border=\"1\" class=\"dataframe\">\n",
       "  <thead>\n",
       "    <tr style=\"text-align: right;\">\n",
       "      <th>genes</th>\n",
       "      <th>ABCB4</th>\n",
       "      <th>KCNS2</th>\n",
       "      <th>FAM122C</th>\n",
       "      <th>EEF1A1</th>\n",
       "      <th>HK1</th>\n",
       "      <th>TYSND1</th>\n",
       "      <th>UBE2L6</th>\n",
       "      <th>ZDHHC5</th>\n",
       "      <th>ZFAND3</th>\n",
       "      <th>ZNF689</th>\n",
       "      <th>...</th>\n",
       "      <th>IDI1</th>\n",
       "      <th>UGT2B4</th>\n",
       "      <th>SP100</th>\n",
       "      <th>BATF</th>\n",
       "      <th>DPY19L4</th>\n",
       "      <th>N6AMT1</th>\n",
       "      <th>CLDN17</th>\n",
       "      <th>CLDN8</th>\n",
       "      <th>TSPAN7</th>\n",
       "      <th>SFXN2</th>\n",
       "    </tr>\n",
       "  </thead>\n",
       "  <tbody>\n",
       "    <tr>\n",
       "      <th>DU09.02S12199</th>\n",
       "      <td>8.60946</td>\n",
       "      <td>0.276787</td>\n",
       "      <td>10.149809</td>\n",
       "      <td>20.074937</td>\n",
       "      <td>14.793398</td>\n",
       "      <td>12.396356</td>\n",
       "      <td>15.705099</td>\n",
       "      <td>14.284227</td>\n",
       "      <td>14.266921</td>\n",
       "      <td>11.25781</td>\n",
       "      <td>...</td>\n",
       "      <td>12.50961</td>\n",
       "      <td>0.062</td>\n",
       "      <td>14.99055</td>\n",
       "      <td>12.06713</td>\n",
       "      <td>9.030494</td>\n",
       "      <td>9.823865</td>\n",
       "      <td>2.429848</td>\n",
       "      <td>0.123329</td>\n",
       "      <td>6.052428</td>\n",
       "      <td>10.24945</td>\n",
       "    </tr>\n",
       "    <tr>\n",
       "      <th>DU09.02S12209</th>\n",
       "      <td>9.31309</td>\n",
       "      <td>0.277517</td>\n",
       "      <td>10.076433</td>\n",
       "      <td>20.21612</td>\n",
       "      <td>14.742148</td>\n",
       "      <td>12.78215</td>\n",
       "      <td>15.533075</td>\n",
       "      <td>14.133876</td>\n",
       "      <td>13.949301</td>\n",
       "      <td>11.264738</td>\n",
       "      <td>...</td>\n",
       "      <td>12.45029</td>\n",
       "      <td>0.062136</td>\n",
       "      <td>14.69819</td>\n",
       "      <td>11.86985</td>\n",
       "      <td>8.324703</td>\n",
       "      <td>9.99135</td>\n",
       "      <td>2.429848</td>\n",
       "      <td>0.12365</td>\n",
       "      <td>5.744056</td>\n",
       "      <td>10.49297</td>\n",
       "    </tr>\n",
       "    <tr>\n",
       "      <th>DU09.02S14204</th>\n",
       "      <td>8.76911</td>\n",
       "      <td>0.273449</td>\n",
       "      <td>10.628984</td>\n",
       "      <td>20.158191</td>\n",
       "      <td>14.820189</td>\n",
       "      <td>12.459832</td>\n",
       "      <td>15.732451</td>\n",
       "      <td>14.185265</td>\n",
       "      <td>14.076187</td>\n",
       "      <td>11.370606</td>\n",
       "      <td>...</td>\n",
       "      <td>12.45171</td>\n",
       "      <td>0.061381</td>\n",
       "      <td>14.93722</td>\n",
       "      <td>11.75091</td>\n",
       "      <td>8.591946</td>\n",
       "      <td>10.0364</td>\n",
       "      <td>2.429848</td>\n",
       "      <td>0.121865</td>\n",
       "      <td>5.847794</td>\n",
       "      <td>10.38134</td>\n",
       "    </tr>\n",
       "    <tr>\n",
       "      <th>DU09.02S16961</th>\n",
       "      <td>8.477817</td>\n",
       "      <td>0.275281</td>\n",
       "      <td>10.658328</td>\n",
       "      <td>19.613571</td>\n",
       "      <td>14.957094</td>\n",
       "      <td>12.418269</td>\n",
       "      <td>15.926953</td>\n",
       "      <td>14.30138</td>\n",
       "      <td>14.087791</td>\n",
       "      <td>11.54704</td>\n",
       "      <td>...</td>\n",
       "      <td>12.57871</td>\n",
       "      <td>0.061721</td>\n",
       "      <td>15.26074</td>\n",
       "      <td>11.67115</td>\n",
       "      <td>8.712135</td>\n",
       "      <td>9.883983</td>\n",
       "      <td>2.429848</td>\n",
       "      <td>0.122669</td>\n",
       "      <td>5.815546</td>\n",
       "      <td>10.33049</td>\n",
       "    </tr>\n",
       "    <tr>\n",
       "      <th>DU09.02S16973</th>\n",
       "      <td>8.906522</td>\n",
       "      <td>0.277465</td>\n",
       "      <td>10.568379</td>\n",
       "      <td>20.195166</td>\n",
       "      <td>14.704025</td>\n",
       "      <td>12.594751</td>\n",
       "      <td>15.591891</td>\n",
       "      <td>14.059612</td>\n",
       "      <td>13.982028</td>\n",
       "      <td>11.004117</td>\n",
       "      <td>...</td>\n",
       "      <td>12.45054</td>\n",
       "      <td>0.062126</td>\n",
       "      <td>14.6316</td>\n",
       "      <td>12.39947</td>\n",
       "      <td>8.421966</td>\n",
       "      <td>10.32762</td>\n",
       "      <td>2.429848</td>\n",
       "      <td>0.123627</td>\n",
       "      <td>6.381675</td>\n",
       "      <td>10.63727</td>\n",
       "    </tr>\n",
       "  </tbody>\n",
       "</table>\n",
       "<p>5 rows × 5214 columns</p>\n",
       "</div>"
      ],
      "text/plain": [
       "genes             ABCB4     KCNS2    FAM122C     EEF1A1        HK1     TYSND1  \\\n",
       "DU09.02S12199   8.60946  0.276787  10.149809  20.074937  14.793398  12.396356   \n",
       "DU09.02S12209   9.31309  0.277517  10.076433   20.21612  14.742148   12.78215   \n",
       "DU09.02S14204   8.76911  0.273449  10.628984  20.158191  14.820189  12.459832   \n",
       "DU09.02S16961  8.477817  0.275281  10.658328  19.613571  14.957094  12.418269   \n",
       "DU09.02S16973  8.906522  0.277465  10.568379  20.195166  14.704025  12.594751   \n",
       "\n",
       "genes             UBE2L6     ZDHHC5     ZFAND3     ZNF689  ...      IDI1  \\\n",
       "DU09.02S12199  15.705099  14.284227  14.266921   11.25781  ...  12.50961   \n",
       "DU09.02S12209  15.533075  14.133876  13.949301  11.264738  ...  12.45029   \n",
       "DU09.02S14204  15.732451  14.185265  14.076187  11.370606  ...  12.45171   \n",
       "DU09.02S16961  15.926953   14.30138  14.087791   11.54704  ...  12.57871   \n",
       "DU09.02S16973  15.591891  14.059612  13.982028  11.004117  ...  12.45054   \n",
       "\n",
       "genes            UGT2B4     SP100      BATF   DPY19L4    N6AMT1    CLDN17  \\\n",
       "DU09.02S12199     0.062  14.99055  12.06713  9.030494  9.823865  2.429848   \n",
       "DU09.02S12209  0.062136  14.69819  11.86985  8.324703   9.99135  2.429848   \n",
       "DU09.02S14204  0.061381  14.93722  11.75091  8.591946   10.0364  2.429848   \n",
       "DU09.02S16961  0.061721  15.26074  11.67115  8.712135  9.883983  2.429848   \n",
       "DU09.02S16973  0.062126   14.6316  12.39947  8.421966  10.32762  2.429848   \n",
       "\n",
       "genes             CLDN8    TSPAN7     SFXN2  \n",
       "DU09.02S12199  0.123329  6.052428  10.24945  \n",
       "DU09.02S12209   0.12365  5.744056  10.49297  \n",
       "DU09.02S14204  0.121865  5.847794  10.38134  \n",
       "DU09.02S16961  0.122669  5.815546  10.33049  \n",
       "DU09.02S16973  0.123627  6.381675  10.63727  \n",
       "\n",
       "[5 rows x 5214 columns]"
      ]
     },
     "execution_count": 33,
     "metadata": {},
     "output_type": "execute_result"
    }
   ],
   "source": [
    "resp_ctrl = resp_df[(resp_df['genes'].isin(genes_oi['genes'].to_list()))][['genes']+resp_meta[resp_meta['condition'] == \"healthy_ctrl\"]['sample'].to_list()]\n",
    "\n",
    "resp_ctrl = resp_ctrl.T\n",
    "resp_ctrl.columns = resp_ctrl.loc['genes']\n",
    "resp_ctrl.drop(['genes'], axis = 0, inplace = True)\n",
    "resp_ctrl.head()"
   ]
  },
  {
   "cell_type": "markdown",
   "id": "0391c0ea",
   "metadata": {},
   "source": [
    "causal learn is not working!"
   ]
  },
  {
   "cell_type": "code",
   "execution_count": 66,
   "id": "45fdf40d",
   "metadata": {
    "collapsed": true
   },
   "outputs": [
    {
     "ename": "AttributeError",
     "evalue": "'float' object has no attribute 'shape'",
     "output_type": "error",
     "traceback": [
      "\u001b[0;31m---------------------------------------------------------------------------\u001b[0m",
      "\u001b[0;31mAttributeError\u001b[0m                            Traceback (most recent call last)",
      "\u001b[0;32m<ipython-input-66-67e46b41d8ec>\u001b[0m in \u001b[0;36m<module>\u001b[0;34m\u001b[0m\n\u001b[1;32m      1\u001b[0m \u001b[0;32mfrom\u001b[0m \u001b[0mcausallearn\u001b[0m\u001b[0;34m.\u001b[0m\u001b[0msearch\u001b[0m\u001b[0;34m.\u001b[0m\u001b[0mConstraintBased\u001b[0m\u001b[0;34m.\u001b[0m\u001b[0mPC\u001b[0m \u001b[0;32mimport\u001b[0m \u001b[0mpc\u001b[0m\u001b[0;34m\u001b[0m\u001b[0;34m\u001b[0m\u001b[0m\n\u001b[1;32m      2\u001b[0m \u001b[0;32mfrom\u001b[0m \u001b[0mcausallearn\u001b[0m\u001b[0;34m.\u001b[0m\u001b[0mutils\u001b[0m\u001b[0;34m.\u001b[0m\u001b[0mcit\u001b[0m \u001b[0;32mimport\u001b[0m \u001b[0mfisherz\u001b[0m\u001b[0;34m\u001b[0m\u001b[0;34m\u001b[0m\u001b[0m\n\u001b[0;32m----> 3\u001b[0;31m cg = pc(data = np.array(resp_ctrl.iloc[:,:50]), alpha = 0.01, indep_test = fisherz, stable = True, uc_rule = 0,\\\n\u001b[0m\u001b[1;32m      4\u001b[0m        uc_priority = 0)\n",
      "\u001b[0;32m~/opt/anaconda3/lib/python3.8/site-packages/causallearn/search/ConstraintBased/PC.py\u001b[0m in \u001b[0;36mpc\u001b[0;34m(data, alpha, indep_test, stable, uc_rule, uc_priority, mvpc, correction_name, background_knowledge)\u001b[0m\n\u001b[1;32m     17\u001b[0m                         uc_rule=uc_rule, uc_priority=uc_priority)\n\u001b[1;32m     18\u001b[0m     \u001b[0;32melse\u001b[0m\u001b[0;34m:\u001b[0m\u001b[0;34m\u001b[0m\u001b[0;34m\u001b[0m\u001b[0m\n\u001b[0;32m---> 19\u001b[0;31m         return pc_alg(data=data, alpha=alpha, indep_test=indep_test, stable=stable, uc_rule=uc_rule,\n\u001b[0m\u001b[1;32m     20\u001b[0m                       uc_priority=uc_priority, background_knowledge=background_knowledge)\n\u001b[1;32m     21\u001b[0m \u001b[0;34m\u001b[0m\u001b[0m\n",
      "\u001b[0;32m~/opt/anaconda3/lib/python3.8/site-packages/causallearn/search/ConstraintBased/PC.py\u001b[0m in \u001b[0;36mpc_alg\u001b[0;34m(data, alpha, indep_test, stable, uc_rule, uc_priority, background_knowledge)\u001b[0m\n\u001b[1;32m     56\u001b[0m \u001b[0;34m\u001b[0m\u001b[0m\n\u001b[1;32m     57\u001b[0m     \u001b[0mstart\u001b[0m \u001b[0;34m=\u001b[0m \u001b[0mtime\u001b[0m\u001b[0;34m.\u001b[0m\u001b[0mtime\u001b[0m\u001b[0;34m(\u001b[0m\u001b[0;34m)\u001b[0m\u001b[0;34m\u001b[0m\u001b[0;34m\u001b[0m\u001b[0m\n\u001b[0;32m---> 58\u001b[0;31m     cg_1 = SkeletonDiscovery.skeleton_discovery(data, alpha, indep_test, stable,\n\u001b[0m\u001b[1;32m     59\u001b[0m                                                 background_knowledge=background_knowledge)\n\u001b[1;32m     60\u001b[0m \u001b[0;34m\u001b[0m\u001b[0m\n",
      "\u001b[0;32m~/opt/anaconda3/lib/python3.8/site-packages/causallearn/utils/PCUtils/SkeletonDiscovery.py\u001b[0m in \u001b[0;36mskeleton_discovery\u001b[0;34m(data, alpha, indep_test, stable, background_knowledge)\u001b[0m\n\u001b[1;32m     64\u001b[0m                         \u001b[0;32mbreak\u001b[0m\u001b[0;34m\u001b[0m\u001b[0;34m\u001b[0m\u001b[0m\n\u001b[1;32m     65\u001b[0m                     \u001b[0;32melse\u001b[0m\u001b[0;34m:\u001b[0m\u001b[0;34m\u001b[0m\u001b[0;34m\u001b[0m\u001b[0m\n\u001b[0;32m---> 66\u001b[0;31m                         \u001b[0mp\u001b[0m \u001b[0;34m=\u001b[0m \u001b[0mcg\u001b[0m\u001b[0;34m.\u001b[0m\u001b[0mci_test\u001b[0m\u001b[0;34m(\u001b[0m\u001b[0mx\u001b[0m\u001b[0;34m,\u001b[0m \u001b[0my\u001b[0m\u001b[0;34m,\u001b[0m \u001b[0mS\u001b[0m\u001b[0;34m)\u001b[0m\u001b[0;34m\u001b[0m\u001b[0;34m\u001b[0m\u001b[0m\n\u001b[0m\u001b[1;32m     67\u001b[0m                         \u001b[0;32mif\u001b[0m \u001b[0mp\u001b[0m \u001b[0;34m>\u001b[0m \u001b[0malpha\u001b[0m\u001b[0;34m:\u001b[0m\u001b[0;34m\u001b[0m\u001b[0;34m\u001b[0m\u001b[0m\n\u001b[1;32m     68\u001b[0m                             \u001b[0mprint\u001b[0m\u001b[0;34m(\u001b[0m\u001b[0;34m'%d ind %d | %s with p-value %f\\n'\u001b[0m \u001b[0;34m%\u001b[0m \u001b[0;34m(\u001b[0m\u001b[0mx\u001b[0m\u001b[0;34m,\u001b[0m \u001b[0my\u001b[0m\u001b[0;34m,\u001b[0m \u001b[0mS\u001b[0m\u001b[0;34m,\u001b[0m \u001b[0mp\u001b[0m\u001b[0;34m)\u001b[0m\u001b[0;34m)\u001b[0m\u001b[0;34m\u001b[0m\u001b[0;34m\u001b[0m\u001b[0m\n",
      "\u001b[0;32m~/opt/anaconda3/lib/python3.8/site-packages/causallearn/graph/GraphClass.py\u001b[0m in \u001b[0;36mci_test\u001b[0;34m(self, i, j, S)\u001b[0m\n\u001b[1;32m     54\u001b[0m         \u001b[0;32mif\u001b[0m \u001b[0mself\u001b[0m\u001b[0;34m.\u001b[0m\u001b[0mmvpc\u001b[0m\u001b[0;34m:\u001b[0m\u001b[0;34m\u001b[0m\u001b[0;34m\u001b[0m\u001b[0m\n\u001b[1;32m     55\u001b[0m             \u001b[0;32mreturn\u001b[0m \u001b[0mself\u001b[0m\u001b[0;34m.\u001b[0m\u001b[0mtest\u001b[0m\u001b[0;34m(\u001b[0m\u001b[0mself\u001b[0m\u001b[0;34m.\u001b[0m\u001b[0mdata\u001b[0m\u001b[0;34m,\u001b[0m \u001b[0mself\u001b[0m\u001b[0;34m.\u001b[0m\u001b[0mnx_skel\u001b[0m\u001b[0;34m,\u001b[0m \u001b[0mself\u001b[0m\u001b[0;34m.\u001b[0m\u001b[0mprt_m\u001b[0m\u001b[0;34m,\u001b[0m \u001b[0mi\u001b[0m\u001b[0;34m,\u001b[0m \u001b[0mj\u001b[0m\u001b[0;34m,\u001b[0m \u001b[0mS\u001b[0m\u001b[0;34m,\u001b[0m \u001b[0mself\u001b[0m\u001b[0;34m.\u001b[0m\u001b[0mdata\u001b[0m\u001b[0;34m.\u001b[0m\u001b[0mshape\u001b[0m\u001b[0;34m[\u001b[0m\u001b[0;36m0\u001b[0m\u001b[0;34m]\u001b[0m\u001b[0;34m)\u001b[0m\u001b[0;34m\u001b[0m\u001b[0;34m\u001b[0m\u001b[0m\n\u001b[0;32m---> 56\u001b[0;31m         \u001b[0;32mreturn\u001b[0m \u001b[0mself\u001b[0m\u001b[0;34m.\u001b[0m\u001b[0mtest\u001b[0m\u001b[0;34m(\u001b[0m\u001b[0mself\u001b[0m\u001b[0;34m.\u001b[0m\u001b[0mdata\u001b[0m\u001b[0;34m,\u001b[0m \u001b[0mi\u001b[0m\u001b[0;34m,\u001b[0m \u001b[0mj\u001b[0m\u001b[0;34m,\u001b[0m \u001b[0mS\u001b[0m\u001b[0;34m)\u001b[0m\u001b[0;34m\u001b[0m\u001b[0;34m\u001b[0m\u001b[0m\n\u001b[0m\u001b[1;32m     57\u001b[0m \u001b[0;34m\u001b[0m\u001b[0m\n\u001b[1;32m     58\u001b[0m     \u001b[0;32mdef\u001b[0m \u001b[0mneighbors\u001b[0m\u001b[0;34m(\u001b[0m\u001b[0mself\u001b[0m\u001b[0;34m,\u001b[0m \u001b[0mi\u001b[0m\u001b[0;34m)\u001b[0m\u001b[0;34m:\u001b[0m\u001b[0;34m\u001b[0m\u001b[0;34m\u001b[0m\u001b[0m\n",
      "\u001b[0;32m~/opt/anaconda3/lib/python3.8/site-packages/causallearn/utils/cit.py\u001b[0m in \u001b[0;36mfisherz\u001b[0;34m(data, X, Y, condition_set, correlation_matrix)\u001b[0m\n\u001b[1;32m    165\u001b[0m     '''\n\u001b[1;32m    166\u001b[0m     \u001b[0;32mif\u001b[0m \u001b[0mcorrelation_matrix\u001b[0m \u001b[0;32mis\u001b[0m \u001b[0;32mNone\u001b[0m\u001b[0;34m:\u001b[0m\u001b[0;34m\u001b[0m\u001b[0;34m\u001b[0m\u001b[0m\n\u001b[0;32m--> 167\u001b[0;31m         \u001b[0mcorrelation_matrix\u001b[0m \u001b[0;34m=\u001b[0m \u001b[0mnp\u001b[0m\u001b[0;34m.\u001b[0m\u001b[0mcorrcoef\u001b[0m\u001b[0;34m(\u001b[0m\u001b[0mdata\u001b[0m\u001b[0;34m.\u001b[0m\u001b[0mT\u001b[0m\u001b[0;34m)\u001b[0m\u001b[0;34m\u001b[0m\u001b[0;34m\u001b[0m\u001b[0m\n\u001b[0m\u001b[1;32m    168\u001b[0m     \u001b[0msample_size\u001b[0m \u001b[0;34m=\u001b[0m \u001b[0mdata\u001b[0m\u001b[0;34m.\u001b[0m\u001b[0mshape\u001b[0m\u001b[0;34m[\u001b[0m\u001b[0;36m0\u001b[0m\u001b[0;34m]\u001b[0m\u001b[0;34m\u001b[0m\u001b[0;34m\u001b[0m\u001b[0m\n\u001b[1;32m    169\u001b[0m     \u001b[0mvar\u001b[0m \u001b[0;34m=\u001b[0m \u001b[0mlist\u001b[0m\u001b[0;34m(\u001b[0m\u001b[0;34m(\u001b[0m\u001b[0mX\u001b[0m\u001b[0;34m,\u001b[0m \u001b[0mY\u001b[0m\u001b[0;34m)\u001b[0m \u001b[0;34m+\u001b[0m \u001b[0mcondition_set\u001b[0m\u001b[0;34m)\u001b[0m\u001b[0;34m\u001b[0m\u001b[0;34m\u001b[0m\u001b[0m\n",
      "\u001b[0;32m<__array_function__ internals>\u001b[0m in \u001b[0;36mcorrcoef\u001b[0;34m(*args, **kwargs)\u001b[0m\n",
      "\u001b[0;32m~/opt/anaconda3/lib/python3.8/site-packages/numpy/lib/function_base.py\u001b[0m in \u001b[0;36mcorrcoef\u001b[0;34m(x, y, rowvar, bias, ddof, dtype)\u001b[0m\n\u001b[1;32m   2632\u001b[0m         warnings.warn('bias and ddof have no effect and are deprecated',\n\u001b[1;32m   2633\u001b[0m                       DeprecationWarning, stacklevel=3)\n\u001b[0;32m-> 2634\u001b[0;31m     \u001b[0mc\u001b[0m \u001b[0;34m=\u001b[0m \u001b[0mcov\u001b[0m\u001b[0;34m(\u001b[0m\u001b[0mx\u001b[0m\u001b[0;34m,\u001b[0m \u001b[0my\u001b[0m\u001b[0;34m,\u001b[0m \u001b[0mrowvar\u001b[0m\u001b[0;34m,\u001b[0m \u001b[0mdtype\u001b[0m\u001b[0;34m=\u001b[0m\u001b[0mdtype\u001b[0m\u001b[0;34m)\u001b[0m\u001b[0;34m\u001b[0m\u001b[0;34m\u001b[0m\u001b[0m\n\u001b[0m\u001b[1;32m   2635\u001b[0m     \u001b[0;32mtry\u001b[0m\u001b[0;34m:\u001b[0m\u001b[0;34m\u001b[0m\u001b[0;34m\u001b[0m\u001b[0m\n\u001b[1;32m   2636\u001b[0m         \u001b[0md\u001b[0m \u001b[0;34m=\u001b[0m \u001b[0mdiag\u001b[0m\u001b[0;34m(\u001b[0m\u001b[0mc\u001b[0m\u001b[0;34m)\u001b[0m\u001b[0;34m\u001b[0m\u001b[0;34m\u001b[0m\u001b[0m\n",
      "\u001b[0;32m<__array_function__ internals>\u001b[0m in \u001b[0;36mcov\u001b[0;34m(*args, **kwargs)\u001b[0m\n",
      "\u001b[0;32m~/opt/anaconda3/lib/python3.8/site-packages/numpy/lib/function_base.py\u001b[0m in \u001b[0;36mcov\u001b[0;34m(m, y, rowvar, bias, ddof, fweights, aweights, dtype)\u001b[0m\n\u001b[1;32m   2467\u001b[0m             \u001b[0mw\u001b[0m \u001b[0;34m*=\u001b[0m \u001b[0maweights\u001b[0m\u001b[0;34m\u001b[0m\u001b[0;34m\u001b[0m\u001b[0m\n\u001b[1;32m   2468\u001b[0m \u001b[0;34m\u001b[0m\u001b[0m\n\u001b[0;32m-> 2469\u001b[0;31m     \u001b[0mavg\u001b[0m\u001b[0;34m,\u001b[0m \u001b[0mw_sum\u001b[0m \u001b[0;34m=\u001b[0m \u001b[0maverage\u001b[0m\u001b[0;34m(\u001b[0m\u001b[0mX\u001b[0m\u001b[0;34m,\u001b[0m \u001b[0maxis\u001b[0m\u001b[0;34m=\u001b[0m\u001b[0;36m1\u001b[0m\u001b[0;34m,\u001b[0m \u001b[0mweights\u001b[0m\u001b[0;34m=\u001b[0m\u001b[0mw\u001b[0m\u001b[0;34m,\u001b[0m \u001b[0mreturned\u001b[0m\u001b[0;34m=\u001b[0m\u001b[0;32mTrue\u001b[0m\u001b[0;34m)\u001b[0m\u001b[0;34m\u001b[0m\u001b[0;34m\u001b[0m\u001b[0m\n\u001b[0m\u001b[1;32m   2470\u001b[0m     \u001b[0mw_sum\u001b[0m \u001b[0;34m=\u001b[0m \u001b[0mw_sum\u001b[0m\u001b[0;34m[\u001b[0m\u001b[0;36m0\u001b[0m\u001b[0;34m]\u001b[0m\u001b[0;34m\u001b[0m\u001b[0;34m\u001b[0m\u001b[0m\n\u001b[1;32m   2471\u001b[0m \u001b[0;34m\u001b[0m\u001b[0m\n",
      "\u001b[0;32m<__array_function__ internals>\u001b[0m in \u001b[0;36maverage\u001b[0;34m(*args, **kwargs)\u001b[0m\n",
      "\u001b[0;32m~/opt/anaconda3/lib/python3.8/site-packages/numpy/lib/function_base.py\u001b[0m in \u001b[0;36maverage\u001b[0;34m(a, axis, weights, returned)\u001b[0m\n\u001b[1;32m    413\u001b[0m \u001b[0;34m\u001b[0m\u001b[0m\n\u001b[1;32m    414\u001b[0m     \u001b[0;32mif\u001b[0m \u001b[0mreturned\u001b[0m\u001b[0;34m:\u001b[0m\u001b[0;34m\u001b[0m\u001b[0;34m\u001b[0m\u001b[0m\n\u001b[0;32m--> 415\u001b[0;31m         \u001b[0;32mif\u001b[0m \u001b[0mscl\u001b[0m\u001b[0;34m.\u001b[0m\u001b[0mshape\u001b[0m \u001b[0;34m!=\u001b[0m \u001b[0mavg\u001b[0m\u001b[0;34m.\u001b[0m\u001b[0mshape\u001b[0m\u001b[0;34m:\u001b[0m\u001b[0;34m\u001b[0m\u001b[0;34m\u001b[0m\u001b[0m\n\u001b[0m\u001b[1;32m    416\u001b[0m             \u001b[0mscl\u001b[0m \u001b[0;34m=\u001b[0m \u001b[0mnp\u001b[0m\u001b[0;34m.\u001b[0m\u001b[0mbroadcast_to\u001b[0m\u001b[0;34m(\u001b[0m\u001b[0mscl\u001b[0m\u001b[0;34m,\u001b[0m \u001b[0mavg\u001b[0m\u001b[0;34m.\u001b[0m\u001b[0mshape\u001b[0m\u001b[0;34m)\u001b[0m\u001b[0;34m.\u001b[0m\u001b[0mcopy\u001b[0m\u001b[0;34m(\u001b[0m\u001b[0;34m)\u001b[0m\u001b[0;34m\u001b[0m\u001b[0;34m\u001b[0m\u001b[0m\n\u001b[1;32m    417\u001b[0m         \u001b[0;32mreturn\u001b[0m \u001b[0mavg\u001b[0m\u001b[0;34m,\u001b[0m \u001b[0mscl\u001b[0m\u001b[0;34m\u001b[0m\u001b[0;34m\u001b[0m\u001b[0m\n",
      "\u001b[0;31mAttributeError\u001b[0m: 'float' object has no attribute 'shape'"
     ]
    }
   ],
   "source": [
    "from causallearn.search.ConstraintBased.PC import pc\n",
    "from causallearn.utils.cit import fisherz\n",
    "cg = pc(data = np.array(resp_ctrl.iloc[:,:50]), alpha = 0.01, indep_test = fisherz, stable = True, uc_rule = 0,\\\n",
    "       uc_priority = 0)"
   ]
  },
  {
   "cell_type": "code",
   "execution_count": 62,
   "id": "adf61537",
   "metadata": {
    "collapsed": true
   },
   "outputs": [
    {
     "name": "stdout",
     "output_type": "stream",
     "text": [
      "Starting Fast Adjacency Search.\n"
     ]
    },
    {
     "ename": "AttributeError",
     "evalue": "'float' object has no attribute 'shape'",
     "output_type": "error",
     "traceback": [
      "\u001b[0;31m---------------------------------------------------------------------------\u001b[0m",
      "\u001b[0;31mAttributeError\u001b[0m                            Traceback (most recent call last)",
      "\u001b[0;32m<ipython-input-62-de22feb16924>\u001b[0m in \u001b[0;36m<module>\u001b[0;34m\u001b[0m\n\u001b[1;32m      1\u001b[0m \u001b[0;32mfrom\u001b[0m \u001b[0mcausallearn\u001b[0m\u001b[0;34m.\u001b[0m\u001b[0msearch\u001b[0m\u001b[0;34m.\u001b[0m\u001b[0mConstraintBased\u001b[0m\u001b[0;34m.\u001b[0m\u001b[0mFCI\u001b[0m \u001b[0;32mimport\u001b[0m \u001b[0mfci\u001b[0m\u001b[0;34m\u001b[0m\u001b[0;34m\u001b[0m\u001b[0m\n\u001b[1;32m      2\u001b[0m \u001b[0;32mfrom\u001b[0m \u001b[0mcausallearn\u001b[0m\u001b[0;34m.\u001b[0m\u001b[0mutils\u001b[0m\u001b[0;34m.\u001b[0m\u001b[0mcit\u001b[0m \u001b[0;32mimport\u001b[0m \u001b[0mfisherz\u001b[0m\u001b[0;34m\u001b[0m\u001b[0;34m\u001b[0m\u001b[0m\n\u001b[0;32m----> 3\u001b[0;31m \u001b[0mG\u001b[0m \u001b[0;34m=\u001b[0m \u001b[0mfci\u001b[0m\u001b[0;34m(\u001b[0m\u001b[0mnp\u001b[0m\u001b[0;34m.\u001b[0m\u001b[0marray\u001b[0m\u001b[0;34m(\u001b[0m\u001b[0mresp_ctrl\u001b[0m\u001b[0;34m.\u001b[0m\u001b[0miloc\u001b[0m\u001b[0;34m[\u001b[0m\u001b[0;34m:\u001b[0m\u001b[0;34m,\u001b[0m\u001b[0;34m:\u001b[0m\u001b[0;36m50\u001b[0m\u001b[0;34m]\u001b[0m\u001b[0;34m)\u001b[0m\u001b[0;34m,\u001b[0m \u001b[0mfisherz\u001b[0m\u001b[0;34m,\u001b[0m \u001b[0;36m0.01\u001b[0m\u001b[0;34m,\u001b[0m \u001b[0;36m1\u001b[0m\u001b[0;34m)\u001b[0m\u001b[0;34m\u001b[0m\u001b[0;34m\u001b[0m\u001b[0m\n\u001b[0m",
      "\u001b[0;32m~/opt/anaconda3/lib/python3.8/site-packages/causallearn/search/ConstraintBased/FCI.py\u001b[0m in \u001b[0;36mfci\u001b[0;34m(dataset, independence_test_method, alpha, depth, max_path_length, verbose, background_knowledge)\u001b[0m\n\u001b[1;32m    589\u001b[0m         \u001b[0mnodes\u001b[0m\u001b[0;34m.\u001b[0m\u001b[0mappend\u001b[0m\u001b[0;34m(\u001b[0m\u001b[0mnode\u001b[0m\u001b[0;34m)\u001b[0m\u001b[0;34m\u001b[0m\u001b[0;34m\u001b[0m\u001b[0m\n\u001b[1;32m    590\u001b[0m \u001b[0;34m\u001b[0m\u001b[0m\n\u001b[0;32m--> 591\u001b[0;31m     \u001b[0mgraph\u001b[0m\u001b[0;34m,\u001b[0m \u001b[0msep_sets\u001b[0m \u001b[0;34m=\u001b[0m \u001b[0mfas\u001b[0m\u001b[0;34m(\u001b[0m\u001b[0mdataset\u001b[0m\u001b[0;34m,\u001b[0m \u001b[0mnodes\u001b[0m\u001b[0;34m,\u001b[0m \u001b[0mindependence_test_method\u001b[0m\u001b[0;34m=\u001b[0m\u001b[0mindependence_test_method\u001b[0m\u001b[0;34m,\u001b[0m \u001b[0malpha\u001b[0m\u001b[0;34m=\u001b[0m\u001b[0malpha\u001b[0m\u001b[0;34m,\u001b[0m \u001b[0mknowledge\u001b[0m\u001b[0;34m=\u001b[0m\u001b[0mbackground_knowledge\u001b[0m\u001b[0;34m,\u001b[0m \u001b[0mdepth\u001b[0m\u001b[0;34m=\u001b[0m\u001b[0mdepth\u001b[0m\u001b[0;34m,\u001b[0m \u001b[0mverbose\u001b[0m\u001b[0;34m=\u001b[0m\u001b[0mverbose\u001b[0m\u001b[0;34m)\u001b[0m\u001b[0;34m\u001b[0m\u001b[0;34m\u001b[0m\u001b[0m\n\u001b[0m\u001b[1;32m    592\u001b[0m \u001b[0;34m\u001b[0m\u001b[0m\n\u001b[1;32m    593\u001b[0m     \u001b[0;31m# reorient all edges with CIRCLE Endpoint\u001b[0m\u001b[0;34m\u001b[0m\u001b[0;34m\u001b[0m\u001b[0;34m\u001b[0m\u001b[0m\n",
      "\u001b[0;32m~/opt/anaconda3/lib/python3.8/site-packages/causallearn/utils/Fas.py\u001b[0m in \u001b[0;36mfas\u001b[0;34m(data, nodes, independence_test_method, alpha, knowledge, depth, verbose)\u001b[0m\n\u001b[1;32m    179\u001b[0m \u001b[0;34m\u001b[0m\u001b[0m\n\u001b[1;32m    180\u001b[0m         \u001b[0;32mif\u001b[0m \u001b[0md\u001b[0m \u001b[0;34m==\u001b[0m \u001b[0;36m0\u001b[0m\u001b[0;34m:\u001b[0m\u001b[0;34m\u001b[0m\u001b[0;34m\u001b[0m\u001b[0m\n\u001b[0;32m--> 181\u001b[0;31m             \u001b[0mmore\u001b[0m \u001b[0;34m=\u001b[0m \u001b[0msearchAtDepth0\u001b[0m\u001b[0;34m(\u001b[0m\u001b[0mdata\u001b[0m\u001b[0;34m,\u001b[0m \u001b[0mnodes\u001b[0m\u001b[0;34m,\u001b[0m \u001b[0madjacencies\u001b[0m\u001b[0;34m,\u001b[0m \u001b[0msep_sets\u001b[0m\u001b[0;34m,\u001b[0m \u001b[0mindependence_test_method\u001b[0m\u001b[0;34m,\u001b[0m \u001b[0malpha\u001b[0m\u001b[0;34m,\u001b[0m \u001b[0mverbose\u001b[0m\u001b[0;34m,\u001b[0m \u001b[0mknowledge\u001b[0m\u001b[0;34m)\u001b[0m\u001b[0;34m\u001b[0m\u001b[0;34m\u001b[0m\u001b[0m\n\u001b[0m\u001b[1;32m    182\u001b[0m         \u001b[0;32melse\u001b[0m\u001b[0;34m:\u001b[0m\u001b[0;34m\u001b[0m\u001b[0;34m\u001b[0m\u001b[0m\n\u001b[1;32m    183\u001b[0m             \u001b[0mmore\u001b[0m \u001b[0;34m=\u001b[0m \u001b[0msearchAtDepth\u001b[0m\u001b[0;34m(\u001b[0m\u001b[0mdata\u001b[0m\u001b[0;34m,\u001b[0m \u001b[0md\u001b[0m\u001b[0;34m,\u001b[0m \u001b[0mnodes\u001b[0m\u001b[0;34m,\u001b[0m \u001b[0madjacencies\u001b[0m\u001b[0;34m,\u001b[0m \u001b[0msep_sets\u001b[0m\u001b[0;34m,\u001b[0m \u001b[0mindependence_test_method\u001b[0m\u001b[0;34m,\u001b[0m \u001b[0malpha\u001b[0m\u001b[0;34m,\u001b[0m \u001b[0mverbose\u001b[0m\u001b[0;34m,\u001b[0m \u001b[0mknowledge\u001b[0m\u001b[0;34m)\u001b[0m\u001b[0;34m\u001b[0m\u001b[0;34m\u001b[0m\u001b[0m\n",
      "\u001b[0;32m~/opt/anaconda3/lib/python3.8/site-packages/causallearn/utils/Fas.py\u001b[0m in \u001b[0;36msearchAtDepth0\u001b[0;34m(data, nodes, adjacencies, sep_sets, independence_test_method, alpha, verbose, knowledge)\u001b[0m\n\u001b[1;32m     48\u001b[0m \u001b[0;34m\u001b[0m\u001b[0m\n\u001b[1;32m     49\u001b[0m         \u001b[0;32mfor\u001b[0m \u001b[0mj\u001b[0m \u001b[0;32min\u001b[0m \u001b[0mrange\u001b[0m\u001b[0;34m(\u001b[0m\u001b[0mi\u001b[0m\u001b[0;34m+\u001b[0m\u001b[0;36m1\u001b[0m\u001b[0;34m,\u001b[0m \u001b[0mlen\u001b[0m\u001b[0;34m(\u001b[0m\u001b[0mnodes\u001b[0m\u001b[0;34m)\u001b[0m\u001b[0;34m)\u001b[0m\u001b[0;34m:\u001b[0m\u001b[0;34m\u001b[0m\u001b[0;34m\u001b[0m\u001b[0m\n\u001b[0;32m---> 50\u001b[0;31m             \u001b[0mp_value\u001b[0m \u001b[0;34m=\u001b[0m \u001b[0mindependence_test_method\u001b[0m\u001b[0;34m(\u001b[0m\u001b[0mdata\u001b[0m\u001b[0;34m,\u001b[0m \u001b[0mi\u001b[0m\u001b[0;34m,\u001b[0m \u001b[0mj\u001b[0m\u001b[0;34m,\u001b[0m \u001b[0mtuple\u001b[0m\u001b[0;34m(\u001b[0m\u001b[0mempty\u001b[0m\u001b[0;34m)\u001b[0m\u001b[0;34m)\u001b[0m\u001b[0;34m\u001b[0m\u001b[0;34m\u001b[0m\u001b[0m\n\u001b[0m\u001b[1;32m     51\u001b[0m             \u001b[0mindependent\u001b[0m \u001b[0;34m=\u001b[0m \u001b[0mp_value\u001b[0m \u001b[0;34m>\u001b[0m \u001b[0malpha\u001b[0m\u001b[0;34m\u001b[0m\u001b[0;34m\u001b[0m\u001b[0m\n\u001b[1;32m     52\u001b[0m             \u001b[0mno_edge_required\u001b[0m \u001b[0;34m=\u001b[0m \u001b[0;32mTrue\u001b[0m \u001b[0;32mif\u001b[0m \u001b[0mknowledge\u001b[0m \u001b[0;32mis\u001b[0m \u001b[0;32mNone\u001b[0m \u001b[0;32melse\u001b[0m\u001b[0;31m \u001b[0m\u001b[0;31m\\\u001b[0m\u001b[0;34m\u001b[0m\u001b[0;34m\u001b[0m\u001b[0m\n",
      "\u001b[0;32m~/opt/anaconda3/lib/python3.8/site-packages/causallearn/utils/cit.py\u001b[0m in \u001b[0;36mfisherz\u001b[0;34m(data, X, Y, condition_set, correlation_matrix)\u001b[0m\n\u001b[1;32m    165\u001b[0m     '''\n\u001b[1;32m    166\u001b[0m     \u001b[0;32mif\u001b[0m \u001b[0mcorrelation_matrix\u001b[0m \u001b[0;32mis\u001b[0m \u001b[0;32mNone\u001b[0m\u001b[0;34m:\u001b[0m\u001b[0;34m\u001b[0m\u001b[0;34m\u001b[0m\u001b[0m\n\u001b[0;32m--> 167\u001b[0;31m         \u001b[0mcorrelation_matrix\u001b[0m \u001b[0;34m=\u001b[0m \u001b[0mnp\u001b[0m\u001b[0;34m.\u001b[0m\u001b[0mcorrcoef\u001b[0m\u001b[0;34m(\u001b[0m\u001b[0mdata\u001b[0m\u001b[0;34m.\u001b[0m\u001b[0mT\u001b[0m\u001b[0;34m)\u001b[0m\u001b[0;34m\u001b[0m\u001b[0;34m\u001b[0m\u001b[0m\n\u001b[0m\u001b[1;32m    168\u001b[0m     \u001b[0msample_size\u001b[0m \u001b[0;34m=\u001b[0m \u001b[0mdata\u001b[0m\u001b[0;34m.\u001b[0m\u001b[0mshape\u001b[0m\u001b[0;34m[\u001b[0m\u001b[0;36m0\u001b[0m\u001b[0;34m]\u001b[0m\u001b[0;34m\u001b[0m\u001b[0;34m\u001b[0m\u001b[0m\n\u001b[1;32m    169\u001b[0m     \u001b[0mvar\u001b[0m \u001b[0;34m=\u001b[0m \u001b[0mlist\u001b[0m\u001b[0;34m(\u001b[0m\u001b[0;34m(\u001b[0m\u001b[0mX\u001b[0m\u001b[0;34m,\u001b[0m \u001b[0mY\u001b[0m\u001b[0;34m)\u001b[0m \u001b[0;34m+\u001b[0m \u001b[0mcondition_set\u001b[0m\u001b[0;34m)\u001b[0m\u001b[0;34m\u001b[0m\u001b[0;34m\u001b[0m\u001b[0m\n",
      "\u001b[0;32m<__array_function__ internals>\u001b[0m in \u001b[0;36mcorrcoef\u001b[0;34m(*args, **kwargs)\u001b[0m\n",
      "\u001b[0;32m~/opt/anaconda3/lib/python3.8/site-packages/numpy/lib/function_base.py\u001b[0m in \u001b[0;36mcorrcoef\u001b[0;34m(x, y, rowvar, bias, ddof, dtype)\u001b[0m\n\u001b[1;32m   2632\u001b[0m         warnings.warn('bias and ddof have no effect and are deprecated',\n\u001b[1;32m   2633\u001b[0m                       DeprecationWarning, stacklevel=3)\n\u001b[0;32m-> 2634\u001b[0;31m     \u001b[0mc\u001b[0m \u001b[0;34m=\u001b[0m \u001b[0mcov\u001b[0m\u001b[0;34m(\u001b[0m\u001b[0mx\u001b[0m\u001b[0;34m,\u001b[0m \u001b[0my\u001b[0m\u001b[0;34m,\u001b[0m \u001b[0mrowvar\u001b[0m\u001b[0;34m,\u001b[0m \u001b[0mdtype\u001b[0m\u001b[0;34m=\u001b[0m\u001b[0mdtype\u001b[0m\u001b[0;34m)\u001b[0m\u001b[0;34m\u001b[0m\u001b[0;34m\u001b[0m\u001b[0m\n\u001b[0m\u001b[1;32m   2635\u001b[0m     \u001b[0;32mtry\u001b[0m\u001b[0;34m:\u001b[0m\u001b[0;34m\u001b[0m\u001b[0;34m\u001b[0m\u001b[0m\n\u001b[1;32m   2636\u001b[0m         \u001b[0md\u001b[0m \u001b[0;34m=\u001b[0m \u001b[0mdiag\u001b[0m\u001b[0;34m(\u001b[0m\u001b[0mc\u001b[0m\u001b[0;34m)\u001b[0m\u001b[0;34m\u001b[0m\u001b[0;34m\u001b[0m\u001b[0m\n",
      "\u001b[0;32m<__array_function__ internals>\u001b[0m in \u001b[0;36mcov\u001b[0;34m(*args, **kwargs)\u001b[0m\n",
      "\u001b[0;32m~/opt/anaconda3/lib/python3.8/site-packages/numpy/lib/function_base.py\u001b[0m in \u001b[0;36mcov\u001b[0;34m(m, y, rowvar, bias, ddof, fweights, aweights, dtype)\u001b[0m\n\u001b[1;32m   2467\u001b[0m             \u001b[0mw\u001b[0m \u001b[0;34m*=\u001b[0m \u001b[0maweights\u001b[0m\u001b[0;34m\u001b[0m\u001b[0;34m\u001b[0m\u001b[0m\n\u001b[1;32m   2468\u001b[0m \u001b[0;34m\u001b[0m\u001b[0m\n\u001b[0;32m-> 2469\u001b[0;31m     \u001b[0mavg\u001b[0m\u001b[0;34m,\u001b[0m \u001b[0mw_sum\u001b[0m \u001b[0;34m=\u001b[0m \u001b[0maverage\u001b[0m\u001b[0;34m(\u001b[0m\u001b[0mX\u001b[0m\u001b[0;34m,\u001b[0m \u001b[0maxis\u001b[0m\u001b[0;34m=\u001b[0m\u001b[0;36m1\u001b[0m\u001b[0;34m,\u001b[0m \u001b[0mweights\u001b[0m\u001b[0;34m=\u001b[0m\u001b[0mw\u001b[0m\u001b[0;34m,\u001b[0m \u001b[0mreturned\u001b[0m\u001b[0;34m=\u001b[0m\u001b[0;32mTrue\u001b[0m\u001b[0;34m)\u001b[0m\u001b[0;34m\u001b[0m\u001b[0;34m\u001b[0m\u001b[0m\n\u001b[0m\u001b[1;32m   2470\u001b[0m     \u001b[0mw_sum\u001b[0m \u001b[0;34m=\u001b[0m \u001b[0mw_sum\u001b[0m\u001b[0;34m[\u001b[0m\u001b[0;36m0\u001b[0m\u001b[0;34m]\u001b[0m\u001b[0;34m\u001b[0m\u001b[0;34m\u001b[0m\u001b[0m\n\u001b[1;32m   2471\u001b[0m \u001b[0;34m\u001b[0m\u001b[0m\n",
      "\u001b[0;32m<__array_function__ internals>\u001b[0m in \u001b[0;36maverage\u001b[0;34m(*args, **kwargs)\u001b[0m\n",
      "\u001b[0;32m~/opt/anaconda3/lib/python3.8/site-packages/numpy/lib/function_base.py\u001b[0m in \u001b[0;36maverage\u001b[0;34m(a, axis, weights, returned)\u001b[0m\n\u001b[1;32m    413\u001b[0m \u001b[0;34m\u001b[0m\u001b[0m\n\u001b[1;32m    414\u001b[0m     \u001b[0;32mif\u001b[0m \u001b[0mreturned\u001b[0m\u001b[0;34m:\u001b[0m\u001b[0;34m\u001b[0m\u001b[0;34m\u001b[0m\u001b[0m\n\u001b[0;32m--> 415\u001b[0;31m         \u001b[0;32mif\u001b[0m \u001b[0mscl\u001b[0m\u001b[0;34m.\u001b[0m\u001b[0mshape\u001b[0m \u001b[0;34m!=\u001b[0m \u001b[0mavg\u001b[0m\u001b[0;34m.\u001b[0m\u001b[0mshape\u001b[0m\u001b[0;34m:\u001b[0m\u001b[0;34m\u001b[0m\u001b[0;34m\u001b[0m\u001b[0m\n\u001b[0m\u001b[1;32m    416\u001b[0m             \u001b[0mscl\u001b[0m \u001b[0;34m=\u001b[0m \u001b[0mnp\u001b[0m\u001b[0;34m.\u001b[0m\u001b[0mbroadcast_to\u001b[0m\u001b[0;34m(\u001b[0m\u001b[0mscl\u001b[0m\u001b[0;34m,\u001b[0m \u001b[0mavg\u001b[0m\u001b[0;34m.\u001b[0m\u001b[0mshape\u001b[0m\u001b[0;34m)\u001b[0m\u001b[0;34m.\u001b[0m\u001b[0mcopy\u001b[0m\u001b[0;34m(\u001b[0m\u001b[0;34m)\u001b[0m\u001b[0;34m\u001b[0m\u001b[0;34m\u001b[0m\u001b[0m\n\u001b[1;32m    417\u001b[0m         \u001b[0;32mreturn\u001b[0m \u001b[0mavg\u001b[0m\u001b[0;34m,\u001b[0m \u001b[0mscl\u001b[0m\u001b[0;34m\u001b[0m\u001b[0;34m\u001b[0m\u001b[0m\n",
      "\u001b[0;31mAttributeError\u001b[0m: 'float' object has no attribute 'shape'"
     ]
    }
   ],
   "source": [
    "from causallearn.search.ConstraintBased.FCI import fci\n",
    "from causallearn.utils.cit import fisherz\n",
    "G = fci(np.array(resp_ctrl.iloc[:,:50]), fisherz, 0.01, 1)"
   ]
  },
  {
   "cell_type": "markdown",
   "id": "83fc58c8",
   "metadata": {},
   "source": [
    "trying causal discovery toolbox"
   ]
  },
  {
   "cell_type": "code",
   "execution_count": 67,
   "id": "7c7b824e",
   "metadata": {},
   "outputs": [],
   "source": [
    "from cdt.causality.graph import PC\n",
    "from cdt.data import load_dataset\n",
    "data, graph = load_dataset(\"sachs\")"
   ]
  },
  {
   "cell_type": "code",
   "execution_count": 71,
   "id": "7b9fb4bd",
   "metadata": {},
   "outputs": [
    {
     "ename": "ImportError",
     "evalue": "R Package (k)pcalg/RCIT is not available. RCIT has to be installed from https://github.com/Diviyan-Kalainathan/RCIT",
     "output_type": "error",
     "traceback": [
      "\u001b[0;31m---------------------------------------------------------------------------\u001b[0m",
      "\u001b[0;31mImportError\u001b[0m                               Traceback (most recent call last)",
      "\u001b[0;32m<ipython-input-71-032cd8bf87d5>\u001b[0m in \u001b[0;36m<module>\u001b[0;34m\u001b[0m\n\u001b[0;32m----> 1\u001b[0;31m \u001b[0mobj\u001b[0m \u001b[0;34m=\u001b[0m \u001b[0mPC\u001b[0m\u001b[0;34m(\u001b[0m\u001b[0;34m)\u001b[0m\u001b[0;34m\u001b[0m\u001b[0;34m\u001b[0m\u001b[0m\n\u001b[0m\u001b[1;32m      2\u001b[0m \u001b[0moutput\u001b[0m \u001b[0;34m=\u001b[0m \u001b[0mobj\u001b[0m\u001b[0;34m.\u001b[0m\u001b[0mpredict\u001b[0m\u001b[0;34m(\u001b[0m\u001b[0mdata\u001b[0m\u001b[0;34m)\u001b[0m\u001b[0;34m\u001b[0m\u001b[0;34m\u001b[0m\u001b[0m\n",
      "\u001b[0;32m~/opt/anaconda3/lib/python3.8/site-packages/cdt/causality/graph/PC.py\u001b[0m in \u001b[0;36m__init__\u001b[0;34m(self, CItest, method_indep, alpha, njobs, verbose)\u001b[0m\n\u001b[1;32m    174\u001b[0m         \u001b[0;34m\"\"\"Init the model and its available arguments.\"\"\"\u001b[0m\u001b[0;34m\u001b[0m\u001b[0;34m\u001b[0m\u001b[0m\n\u001b[1;32m    175\u001b[0m         \u001b[0;32mif\u001b[0m \u001b[0;32mnot\u001b[0m \u001b[0;34m(\u001b[0m\u001b[0mRPackages\u001b[0m\u001b[0;34m.\u001b[0m\u001b[0mpcalg\u001b[0m \u001b[0;32mand\u001b[0m \u001b[0mRPackages\u001b[0m\u001b[0;34m.\u001b[0m\u001b[0mkpcalg\u001b[0m \u001b[0;32mand\u001b[0m \u001b[0mRPackages\u001b[0m\u001b[0;34m.\u001b[0m\u001b[0mRCIT\u001b[0m\u001b[0;34m)\u001b[0m\u001b[0;34m:\u001b[0m\u001b[0;34m\u001b[0m\u001b[0;34m\u001b[0m\u001b[0m\n\u001b[0;32m--> 176\u001b[0;31m             raise ImportError(\"R Package (k)pcalg/RCIT is not available. \"\n\u001b[0m\u001b[1;32m    177\u001b[0m                               \u001b[0;34m\"RCIT has to be installed from \"\u001b[0m\u001b[0;34m\u001b[0m\u001b[0;34m\u001b[0m\u001b[0m\n\u001b[1;32m    178\u001b[0m                               \"https://github.com/Diviyan-Kalainathan/RCIT\")\n",
      "\u001b[0;31mImportError\u001b[0m: R Package (k)pcalg/RCIT is not available. RCIT has to be installed from https://github.com/Diviyan-Kalainathan/RCIT"
     ]
    }
   ],
   "source": [
    "obj = PC()\n",
    "output = obj.predict(data)"
   ]
  },
  {
   "cell_type": "code",
   "execution_count": null,
   "id": "40e2f789",
   "metadata": {},
   "outputs": [],
   "source": []
  }
 ],
 "metadata": {
  "kernelspec": {
   "display_name": "Python 3",
   "language": "python",
   "name": "python3"
  },
  "language_info": {
   "codemirror_mode": {
    "name": "ipython",
    "version": 3
   },
   "file_extension": ".py",
   "mimetype": "text/x-python",
   "name": "python",
   "nbconvert_exporter": "python",
   "pygments_lexer": "ipython3",
   "version": "3.8.8"
  }
 },
 "nbformat": 4,
 "nbformat_minor": 5
}
