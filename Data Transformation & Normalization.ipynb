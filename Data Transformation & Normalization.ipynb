{
 "cells": [
  {
   "cell_type": "code",
   "execution_count": 1,
   "id": "c9a4049d",
   "metadata": {},
   "outputs": [],
   "source": [
    "import numpy as np\n",
    "import pandas as pd\n",
    "import matplotlib.pyplot as plt\n",
    "import os\n",
    "import mygene"
   ]
  },
  {
   "cell_type": "code",
   "execution_count": 4,
   "id": "4d3b8662",
   "metadata": {},
   "outputs": [],
   "source": [
    "path = os.getcwd()+'/Raw Data/'"
   ]
  },
  {
   "cell_type": "code",
   "execution_count": 5,
   "id": "b2fc09ac",
   "metadata": {},
   "outputs": [
    {
     "data": {
      "text/plain": [
       "['GSE157240_sbst1_norm_RVI_Tsalik_020420.txt',\n",
       " 'GSE172114_rsem_gene_count_matrix_TMM_69samples.csv']"
      ]
     },
     "execution_count": 5,
     "metadata": {},
     "output_type": "execute_result"
    }
   ],
   "source": [
    "os.listdir(path)"
   ]
  },
  {
   "cell_type": "markdown",
   "id": "24e330c0",
   "metadata": {},
   "source": [
    "# Data Transformation"
   ]
  },
  {
   "cell_type": "markdown",
   "id": "da1e0ee9",
   "metadata": {},
   "source": [
    "## GSE157240 - Respiratory Disease"
   ]
  },
  {
   "cell_type": "code",
   "execution_count": 9,
   "id": "fd745116",
   "metadata": {},
   "outputs": [],
   "source": [
    "resp_df = pd.read_csv(path+'GSE157240_sbst1_norm_RVI_Tsalik_020420.txt', sep = ' ')"
   ]
  },
  {
   "cell_type": "code",
   "execution_count": 13,
   "id": "c0b74215",
   "metadata": {},
   "outputs": [
    {
     "data": {
      "text/plain": [
       "(19203, 195)"
      ]
     },
     "execution_count": 13,
     "metadata": {},
     "output_type": "execute_result"
    }
   ],
   "source": [
    "resp_df.shape"
   ]
  },
  {
   "cell_type": "code",
   "execution_count": null,
   "id": "cc148897",
   "metadata": {},
   "outputs": [],
   "source": []
  }
 ],
 "metadata": {
  "kernelspec": {
   "display_name": "Python 3",
   "language": "python",
   "name": "python3"
  },
  "language_info": {
   "codemirror_mode": {
    "name": "ipython",
    "version": 3
   },
   "file_extension": ".py",
   "mimetype": "text/x-python",
   "name": "python",
   "nbconvert_exporter": "python",
   "pygments_lexer": "ipython3",
   "version": "3.8.8"
  }
 },
 "nbformat": 4,
 "nbformat_minor": 5
}
