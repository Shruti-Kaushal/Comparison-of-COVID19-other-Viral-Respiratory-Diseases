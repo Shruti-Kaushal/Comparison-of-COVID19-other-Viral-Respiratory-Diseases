{
 "cells": [
  {
   "cell_type": "code",
   "execution_count": 8,
   "id": "dc7de988",
   "metadata": {},
   "outputs": [],
   "source": [
    "import numpy as np\n",
    "import pandas as pd\n",
    "import networkx as nx\n",
    "import pickle \n",
    "import causallearn as cl\n",
    "import cdt\n",
    "import os\n",
    "import matplotlib.pyplot as plt"
   ]
  },
  {
   "cell_type": "markdown",
   "id": "c8386aff",
   "metadata": {},
   "source": [
    "This script focuses on learning graphs for each of the conditions using different structure learning algorithms. Two types of algorithms are used - score based greedy algorithms and conditional independence test based algorithms"
   ]
  },
  {
   "cell_type": "markdown",
   "id": "8d9c3fbf",
   "metadata": {},
   "source": [
    "# Data Formatting"
   ]
  },
  {
   "cell_type": "markdown",
   "id": "394e64ca",
   "metadata": {},
   "source": [
    "Selecting subsets of data that only include the genes of interest"
   ]
  },
  {
   "cell_type": "code",
   "execution_count": 26,
   "id": "b0b74974",
   "metadata": {},
   "outputs": [],
   "source": [
    "path = os.getcwd()+\"/normalized data/\""
   ]
  },
  {
   "cell_type": "code",
   "execution_count": 71,
   "id": "a70990cb",
   "metadata": {},
   "outputs": [],
   "source": [
    "genes_oi = pd.read_csv(path+'genes_of_interest.csv')\n",
    "\n",
    "resp_df = pd.read_csv(path+'respiratory_data.csv')\n",
    "resp_meta = pd.read_csv(path+'respiratory_metadata.csv')\n",
    "\n",
    "covid_df = pd.read_csv(path+'covid_data.csv')\n",
    "covid_meta = pd.read_csv(path+'covid_metadata.csv')"
   ]
  },
  {
   "cell_type": "code",
   "execution_count": 80,
   "id": "7a81fc8d",
   "metadata": {},
   "outputs": [],
   "source": [
    "covid_meta['sample'] = [x.split('-')[0] for x in covid_meta['sample']]"
   ]
  },
  {
   "cell_type": "code",
   "execution_count": 81,
   "id": "301e6b56",
   "metadata": {},
   "outputs": [],
   "source": [
    "# selecting subsets of data for structure learning\n",
    "resp_oi_dict = {}\n",
    "for c in np.unique(resp_meta.condition):\n",
    "    temp_df = resp_df[(resp_df['genes'].isin(genes_oi['genes'].to_list()))][['genes']+resp_meta[resp_meta['condition'] == c]['sample'].to_list()]\n",
    "    temp_df = temp_df.T\n",
    "    temp_df.columns = temp_df.loc['genes']\n",
    "    temp_df.drop(['genes'], axis = 0, inplace = True)\n",
    "    resp_oi_dict[c] = temp_df\n",
    "    \n",
    "covid_oi_dict = {}\n",
    "for c in np.unique(covid_meta.condition):\n",
    "    temp_df = covid_df[(covid_df['genes'].isin(genes_oi['genes'].to_list()))][['genes']+covid_meta[covid_meta['condition'] == c]['sample'].to_list()]\n",
    "    temp_df = temp_df.T\n",
    "    temp_df.columns = temp_df.loc['genes']\n",
    "    temp_df.drop(['genes'], axis = 0, inplace = True)\n",
    "    covid_oi_dict[c] = temp_df"
   ]
  },
  {
   "cell_type": "markdown",
   "id": "83fc58c8",
   "metadata": {},
   "source": [
    "# Structure learning - Causal graphs"
   ]
  },
  {
   "cell_type": "markdown",
   "id": "7b70f7f6",
   "metadata": {},
   "source": [
    "Two different types of algorithms are used to learn causal graphs - condition based and score based. Condition based include PC with default settings and alpha equal to 0.05 and Grow-Shrink algorithm from bnlearn package in R, also with default settings.\n",
    "\n",
    "Scored based include GES with default settings."
   ]
  },
  {
   "cell_type": "markdown",
   "id": "bf5209b4",
   "metadata": {},
   "source": [
    "### PC algorithm"
   ]
  },
  {
   "cell_type": "code",
   "execution_count": 123,
   "id": "7c7b824e",
   "metadata": {
    "scrolled": true
   },
   "outputs": [
    {
     "name": "stdout",
     "output_type": "stream",
     "text": [
      "Graph learnt for Adenovirus_Cytomegalovirus_Ebstein-Barr virus_Herpes Simplex virus has 72 edges\n",
      "Graph learnt for Dengue has 76 edges\n",
      "Graph learnt for Influenza has 148 edges\n",
      "Graph learnt for Parainfluenza_RespiratorySyncytial has 78 edges\n",
      "Graph learnt for Pneumonia has 72 edges\n",
      "Graph learnt for Rhinovirus has 86 edges\n",
      "Graph learnt for healthy_ctrl has 70 edges\n",
      "Graph learnt for Critical has 132 edges\n",
      "Graph learnt for Non-critical has 102 edges\n"
     ]
    }
   ],
   "source": [
    "from cdt.causality.graph import PC\n",
    "pc_graphs_dict = {}\n",
    "obj = PC(alpha = 0.05)\n",
    "\n",
    "for c in list(resp_oi_dict.keys())+list(covid_oi_dict.keys()):\n",
    "    if c in resp_oi_dict.keys():\n",
    "        output = obj.create_graph_from_data(resp_oi_dict[c])\n",
    "    else:\n",
    "        output = obj.create_graph_from_data(covid_oi_dict[c])\n",
    "    pc_graphs_dict[c] = output\n",
    "    print('Graph learnt for {} has {} edges'.format(c, len(output.edges)))"
   ]
  },
  {
   "cell_type": "markdown",
   "id": "f6420d42",
   "metadata": {},
   "source": [
    "### Grow-Shrink algorithm"
   ]
  },
  {
   "cell_type": "code",
   "execution_count": 127,
   "id": "697f83b6",
   "metadata": {},
   "outputs": [
    {
     "name": "stdout",
     "output_type": "stream",
     "text": [
      "Graph learnt for Adenovirus_Cytomegalovirus_Ebstein-Barr virus_Herpes Simplex virus has 51 edges\n",
      "Graph learnt for Dengue has 61 edges\n",
      "Graph learnt for Influenza has 108 edges\n",
      "Graph learnt for Parainfluenza_RespiratorySyncytial has 48 edges\n",
      "Graph learnt for Pneumonia has 68 edges\n",
      "Graph learnt for Rhinovirus has 79 edges\n",
      "Graph learnt for healthy_ctrl has 53 edges\n",
      "Graph learnt for Critical has 110 edges\n",
      "Graph learnt for Non-critical has 57 edges\n"
     ]
    }
   ],
   "source": [
    "from cdt.causality.graph.bnlearn import GS\n",
    "gs_graphs_dict = {}\n",
    "obj = GS()\n",
    "\n",
    "for c in list(resp_oi_dict.keys())+list(covid_oi_dict.keys()):\n",
    "    if c in resp_oi_dict.keys():\n",
    "        output = obj.create_graph_from_data(resp_oi_dict[c])\n",
    "    else:\n",
    "        output = obj.create_graph_from_data(covid_oi_dict[c])\n",
    "    gs_graphs_dict[c] = output\n",
    "    print('Graph learnt for {} has {} edges'.format(c, len(output.edges)))"
   ]
  },
  {
   "cell_type": "markdown",
   "id": "61ece5fa",
   "metadata": {},
   "source": [
    "### GES algorithm"
   ]
  },
  {
   "cell_type": "code",
   "execution_count": 124,
   "id": "e871cd83",
   "metadata": {},
   "outputs": [
    {
     "name": "stdout",
     "output_type": "stream",
     "text": [
      "Graph learnt for Adenovirus_Cytomegalovirus_Ebstein-Barr virus_Herpes Simplex virus has 1085 edges\n",
      "Graph learnt for Dengue has 1351 edges\n",
      "Graph learnt for Influenza has 668 edges\n",
      "Graph learnt for Parainfluenza_RespiratorySyncytial has 1216 edges\n",
      "Graph learnt for Pneumonia has 1166 edges\n",
      "Graph learnt for Rhinovirus has 1460 edges\n",
      "Graph learnt for healthy_ctrl has 1284 edges\n",
      "Graph learnt for Critical has 1052 edges\n",
      "Graph learnt for Non-critical has 1223 edges\n"
     ]
    }
   ],
   "source": [
    "from cdt.causality.graph import GES\n",
    "ges_graphs_dict = {}\n",
    "obj = GES(score = 'obs')\n",
    "\n",
    "for c in list(resp_oi_dict.keys())+list(covid_oi_dict.keys()):\n",
    "    if c in resp_oi_dict.keys():\n",
    "        output = obj.create_graph_from_data(resp_oi_dict[c])\n",
    "    else:\n",
    "        output = obj.create_graph_from_data(covid_oi_dict[c])\n",
    "    ges_graphs_dict[c] = output\n",
    "    print('Graph learnt for {} has {} edges'.format(c, len(output.edges)))"
   ]
  },
  {
   "cell_type": "code",
   "execution_count": null,
   "id": "b4152642",
   "metadata": {},
   "outputs": [],
   "source": [
    "writer = pd.ExcelWriter(os.getcwd()+'/causal graphs/GES_graphs.xlsx', engine='xlsxwriter')\n",
    "\n",
    "df1.to_excel(writer, sheet_name='Sheet1')  # Default position, cell A1.\n",
    "df2.to_excel(writer, sheet_name='Sheet1', startcol=3)\n",
    "df3.to_excel(writer, sheet_name='Sheet1', startrow=6)\n",
    "\n",
    "writer.save()"
   ]
  }
 ],
 "metadata": {
  "kernelspec": {
   "display_name": "Python 3",
   "language": "python",
   "name": "python3"
  },
  "language_info": {
   "codemirror_mode": {
    "name": "ipython",
    "version": 3
   },
   "file_extension": ".py",
   "mimetype": "text/x-python",
   "name": "python",
   "nbconvert_exporter": "python",
   "pygments_lexer": "ipython3",
   "version": "3.8.8"
  }
 },
 "nbformat": 4,
 "nbformat_minor": 5
}
