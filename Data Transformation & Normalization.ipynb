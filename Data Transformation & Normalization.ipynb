{
 "cells": [
  {
   "cell_type": "code",
   "execution_count": 1,
   "id": "c9a4049d",
   "metadata": {},
   "outputs": [],
   "source": [
    "import numpy as np\n",
    "import pandas as pd\n",
    "import matplotlib.pyplot as plt\n",
    "import os\n",
    "import mygene"
   ]
  },
  {
   "cell_type": "code",
   "execution_count": 132,
   "id": "4d3b8662",
   "metadata": {},
   "outputs": [],
   "source": [
    "path = os.getcwd()"
   ]
  },
  {
   "cell_type": "code",
   "execution_count": 154,
   "id": "b2fc09ac",
   "metadata": {},
   "outputs": [
    {
     "data": {
      "text/plain": [
       "['GSE157240_series_matrix.txt',\n",
       " 'GSE157240_sbst1_norm_RVI_Tsalik_020420.txt',\n",
       " 'GSE172114_series_matrix.txt',\n",
       " 'GSE172114_rsem_gene_count_matrix_TMM_69samples.csv']"
      ]
     },
     "execution_count": 154,
     "metadata": {},
     "output_type": "execute_result"
    }
   ],
   "source": [
    "os.listdir(path+'/raw data')"
   ]
  },
  {
   "cell_type": "markdown",
   "id": "76bb2eb8",
   "metadata": {},
   "source": [
    "# Data Transformation"
   ]
  },
  {
   "cell_type": "markdown",
   "id": "4ea41995",
   "metadata": {},
   "source": [
    "## GSE157240 - Respiratory Disease"
   ]
  },
  {
   "cell_type": "code",
   "execution_count": 149,
   "id": "0cc208aa",
   "metadata": {},
   "outputs": [],
   "source": [
    "resp_df = pd.read_csv(path+'/raw data/GSE157240_sbst1_norm_RVI_Tsalik_020420.txt', sep = ' ')\n",
    "resp_df.rename(columns = {\"gene_symbol\":\"genes\"}, inplace = True)\n",
    "resp_df = resp_df[['genes']+[x for x in resp_df.columns if \"DU\" in x]]\n",
    "resp_df.to_csv(path+'/normalized data/respiratory_data.csv', index = False)"
   ]
  },
  {
   "cell_type": "code",
   "execution_count": 139,
   "id": "c6aa12db",
   "metadata": {},
   "outputs": [],
   "source": [
    "resp_meta = pd.read_csv(path+'/raw data/GSE157240_series_matrix.txt', delimiter = '\\t', header = None)\n",
    "resp_meta = resp_meta.T\n",
    "resp_meta.columns = list(resp_meta.iloc[[0]].values)\n",
    "resp_meta.drop([0], axis = 0, inplace = True)\n",
    "resp_meta.drop(columns = resp_meta.columns.to_list()[2:-2], inplace = True)\n",
    "resp_meta = resp_meta.iloc[:, :-1]\n",
    "resp_meta.rename(columns = {'Sample_title':'sample', 'Sample_geo_accession':'geo_sample',\\\n",
    "                           'Sample_characteristics_ch1':'condition'}, inplace = True)\n",
    "resp_meta.to_csv(path+'/normalized data/respiratory_metadata.csv', index = False)\n",
    "\n",
    "resp_meta = pd.read_csv(path+'/normalized data/respiratory_metadata.csv')\n",
    "resp_meta['condition'] = [x.split(\"status: \")[1] for x in resp_meta.condition]\n",
    "resp_meta.to_csv(path+'/normalized data/respiratory_metadata.csv', index = False)"
   ]
  },
  {
   "cell_type": "code",
   "execution_count": null,
   "id": "0311b2e0",
   "metadata": {},
   "outputs": [],
   "source": []
  },
  {
   "cell_type": "code",
   "execution_count": null,
   "id": "b49bf97a",
   "metadata": {},
   "outputs": [],
   "source": []
  },
  {
   "cell_type": "code",
   "execution_count": null,
   "id": "fd7755be",
   "metadata": {},
   "outputs": [],
   "source": []
  },
  {
   "cell_type": "markdown",
   "id": "509a5476",
   "metadata": {},
   "source": [
    "# GSE172114 - COVID19"
   ]
  },
  {
   "cell_type": "code",
   "execution_count": 145,
   "id": "3aa2c622",
   "metadata": {},
   "outputs": [],
   "source": [
    "covid_df = pd.read_csv(path+'/raw data/GSE172114_rsem_gene_count_matrix_TMM_69samples.csv')\n",
    "\n",
    "covid_df.rename(columns = {\"Unnamed: 0\":\"genes\"}, inplace = True)\n",
    "covid_df['genes'] = [x.split(\"_\")[1] for x in covid_df.genes]"
   ]
  },
  {
   "cell_type": "code",
   "execution_count": 181,
   "id": "224c1227",
   "metadata": {},
   "outputs": [],
   "source": [
    "covid_meta = pd.read_csv(path+'/raw data/GSE172114_series_matrix.txt', delimiter = \"\\t\", header = None)\n",
    "\n",
    "covid_meta = covid_meta.T\n",
    "covid_meta.columns = list(covid_meta.iloc[[0]].values)\n",
    "covid_meta.drop([0], axis = 0, inplace = True)\n",
    "covid_meta = covid_meta.iloc[:, :-1]\n",
    "covid_meta.rename(columns = {'Sample_title':'sample', 'Sample_geo_accession':'geo_sample',\\\n",
    "                           'Sample_characteristics_ch1':'condition'}, inplace = True)\n",
    "covid_meta.to_csv(path+'/normalized data/covid_metadata.csv', index = False)"
   ]
  },
  {
   "cell_type": "code",
   "execution_count": 182,
   "id": "47560b3a",
   "metadata": {},
   "outputs": [],
   "source": [
    "covid_meta = pd.read_csv(path+'/normalized data/covid_metadata.csv')"
   ]
  },
  {
   "cell_type": "code",
   "execution_count": 183,
   "id": "cb06afd9",
   "metadata": {},
   "outputs": [
    {
     "data": {
      "text/html": [
       "<div>\n",
       "<style scoped>\n",
       "    .dataframe tbody tr th:only-of-type {\n",
       "        vertical-align: middle;\n",
       "    }\n",
       "\n",
       "    .dataframe tbody tr th {\n",
       "        vertical-align: top;\n",
       "    }\n",
       "\n",
       "    .dataframe thead th {\n",
       "        text-align: right;\n",
       "    }\n",
       "</style>\n",
       "<table border=\"1\" class=\"dataframe\">\n",
       "  <thead>\n",
       "    <tr style=\"text-align: right;\">\n",
       "      <th></th>\n",
       "      <th>sample</th>\n",
       "      <th>geo_sample</th>\n",
       "      <th>condition</th>\n",
       "    </tr>\n",
       "  </thead>\n",
       "  <tbody>\n",
       "    <tr>\n",
       "      <th>0</th>\n",
       "      <td>C10-R</td>\n",
       "      <td>GSM5242128</td>\n",
       "      <td>disease state: Non-critical</td>\n",
       "    </tr>\n",
       "    <tr>\n",
       "      <th>1</th>\n",
       "      <td>C11-R</td>\n",
       "      <td>GSM5242129</td>\n",
       "      <td>disease state: Non-critical</td>\n",
       "    </tr>\n",
       "    <tr>\n",
       "      <th>2</th>\n",
       "      <td>C12-R</td>\n",
       "      <td>GSM5242130</td>\n",
       "      <td>disease state: Non-critical</td>\n",
       "    </tr>\n",
       "    <tr>\n",
       "      <th>3</th>\n",
       "      <td>C13-R</td>\n",
       "      <td>GSM5242131</td>\n",
       "      <td>disease state: Non-critical</td>\n",
       "    </tr>\n",
       "    <tr>\n",
       "      <th>4</th>\n",
       "      <td>C14-R</td>\n",
       "      <td>GSM5242132</td>\n",
       "      <td>disease state: Non-critical</td>\n",
       "    </tr>\n",
       "    <tr>\n",
       "      <th>...</th>\n",
       "      <td>...</td>\n",
       "      <td>...</td>\n",
       "      <td>...</td>\n",
       "    </tr>\n",
       "    <tr>\n",
       "      <th>64</th>\n",
       "      <td>P5-J10</td>\n",
       "      <td>GSM5242192</td>\n",
       "      <td>disease state: Critical</td>\n",
       "    </tr>\n",
       "    <tr>\n",
       "      <th>65</th>\n",
       "      <td>P6-J13</td>\n",
       "      <td>GSM5242193</td>\n",
       "      <td>disease state: Critical</td>\n",
       "    </tr>\n",
       "    <tr>\n",
       "      <th>66</th>\n",
       "      <td>P7-J1</td>\n",
       "      <td>GSM5242194</td>\n",
       "      <td>disease state: Critical</td>\n",
       "    </tr>\n",
       "    <tr>\n",
       "      <th>67</th>\n",
       "      <td>P8-J0</td>\n",
       "      <td>GSM5242195</td>\n",
       "      <td>disease state: Critical</td>\n",
       "    </tr>\n",
       "    <tr>\n",
       "      <th>68</th>\n",
       "      <td>P9-J1</td>\n",
       "      <td>GSM5242196</td>\n",
       "      <td>disease state: Critical</td>\n",
       "    </tr>\n",
       "  </tbody>\n",
       "</table>\n",
       "<p>69 rows × 3 columns</p>\n",
       "</div>"
      ],
      "text/plain": [
       "    sample  geo_sample                    condition\n",
       "0    C10-R  GSM5242128  disease state: Non-critical\n",
       "1    C11-R  GSM5242129  disease state: Non-critical\n",
       "2    C12-R  GSM5242130  disease state: Non-critical\n",
       "3    C13-R  GSM5242131  disease state: Non-critical\n",
       "4    C14-R  GSM5242132  disease state: Non-critical\n",
       "..     ...         ...                          ...\n",
       "64  P5-J10  GSM5242192      disease state: Critical\n",
       "65  P6-J13  GSM5242193      disease state: Critical\n",
       "66   P7-J1  GSM5242194      disease state: Critical\n",
       "67   P8-J0  GSM5242195      disease state: Critical\n",
       "68   P9-J1  GSM5242196      disease state: Critical\n",
       "\n",
       "[69 rows x 3 columns]"
      ]
     },
     "execution_count": 183,
     "metadata": {},
     "output_type": "execute_result"
    }
   ],
   "source": [
    "covid_meta['condition'] = [x.split(\": \")[1] for x in covid_meta.condition]"
   ]
  },
  {
   "cell_type": "code",
   "execution_count": null,
   "id": "19eb1b2b",
   "metadata": {},
   "outputs": [],
   "source": []
  }
 ],
 "metadata": {
  "kernelspec": {
   "display_name": "Python 3",
   "language": "python",
   "name": "python3"
  },
  "language_info": {
   "codemirror_mode": {
    "name": "ipython",
    "version": 3
   },
   "file_extension": ".py",
   "mimetype": "text/x-python",
   "name": "python",
   "nbconvert_exporter": "python",
   "pygments_lexer": "ipython3",
   "version": "3.8.8"
  }
 },
 "nbformat": 4,
 "nbformat_minor": 5
}
