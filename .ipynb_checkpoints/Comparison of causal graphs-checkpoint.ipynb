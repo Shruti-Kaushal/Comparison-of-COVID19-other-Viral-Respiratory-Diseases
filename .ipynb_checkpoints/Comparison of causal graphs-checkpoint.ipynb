{
 "cells": [
  {
   "cell_type": "code",
   "execution_count": 8,
   "id": "d4c74c3e",
   "metadata": {},
   "outputs": [
    {
     "name": "stderr",
     "output_type": "stream",
     "text": [
      "No GPU automatically detected. Setting SETTINGS.GPU to 0, and SETTINGS.NJOBS to cpu_count.\n"
     ]
    }
   ],
   "source": [
    "import numpy as np\n",
    "import pandas as pd\n",
    "import networkx as nx\n",
    "import matplotlib.pyplot as plt\n",
    "import cdt\n",
    "import os"
   ]
  },
  {
   "cell_type": "markdown",
   "id": "be3f230a",
   "metadata": {},
   "source": [
    "Before comparing graphs, a common algorithm for learning graphs needs to be selected. There can be two ways of doing this - \n",
    "\n",
    "1. Contstructing a gene-gene interaction network using KEGG, TRRUST and CTD databases and compare that with the graphs constructed for healthy controls using different algorithms. The algorithm used to learn the graph that in a sense is closest to the CTD graph should be selected\n",
    "\n",
    "2. Pick the algorithm that makes the most sense or has is the most meaningful in terms of the kind of data for which graphs are being learnt for.\n",
    "\n",
    "In this script, the focus is on the graphs generated using the PC algorithm, selected using point 2"
   ]
  },
  {
   "cell_type": "code",
   "execution_count": 41,
   "id": "b86664cc",
   "metadata": {},
   "outputs": [],
   "source": [
    "path = os.getcwd() + '/causal graphs/'\n",
    "xls = pd.ExcelFile(path + 'PC_graphs.xlsx')\n",
    "\n",
    "pc_graphs = {}\n",
    "for sheet in xls.sheet_names:\n",
    "    adjacency_df = pd.read_excel(path+'PC_graphs.xlsx', sheet_name = sheet)\n",
    "    adjacency_df.rename(columns = {'Unnamed: 0':'genes'}, inplace = True)\n",
    "    adjacency_df.index = adjacency_df.iloc[:,0]\n",
    "    adjacency_df.drop(columns = ['genes'], inplace = True)\n",
    "    pc_graphs[sheet] = nx.from_pandas_adjacency(adjacency_df, create_using=nx.DiGraph())"
   ]
  },
  {
   "cell_type": "markdown",
   "id": "9e76b62d",
   "metadata": {},
   "source": [
    "## Structural Hamming distance"
   ]
  },
  {
   "cell_type": "markdown",
   "id": "9ce6715b",
   "metadata": {},
   "source": [
    "In this section, structural hamming distance is calculated for all possible pairs of diseases with the emphasis on distance from \"healthy\" control network"
   ]
  },
  {
   "cell_type": "code",
   "execution_count": 43,
   "id": "eb729dc2",
   "metadata": {},
   "outputs": [
    {
     "data": {
      "text/plain": [
       "dict_keys(['Adenovirus_Simplex_virus', 'Dengue', 'Influenza', 'Paraflu_RespSyncytial', 'Pneumonia', 'Rhinovirus', 'healthy_ctrl', 'Critical', 'Non-critical'])"
      ]
     },
     "execution_count": 43,
     "metadata": {},
     "output_type": "execute_result"
    }
   ],
   "source": [
    "pc_graphs.keys()"
   ]
  },
  {
   "cell_type": "code",
   "execution_count": 63,
   "id": "664f67b4",
   "metadata": {},
   "outputs": [
    {
     "ename": "ImportError",
     "evalue": "SID R package is not available. Please check your installation.",
     "output_type": "error",
     "traceback": [
      "\u001b[0;31m---------------------------------------------------------------------------\u001b[0m",
      "\u001b[0;31mImportError\u001b[0m                               Traceback (most recent call last)",
      "\u001b[0;32m<ipython-input-63-f3e483a276ca>\u001b[0m in \u001b[0;36m<module>\u001b[0;34m\u001b[0m\n\u001b[1;32m      1\u001b[0m \u001b[0;32mfrom\u001b[0m \u001b[0mcdt\u001b[0m\u001b[0;34m.\u001b[0m\u001b[0mmetrics\u001b[0m \u001b[0;32mimport\u001b[0m \u001b[0mSHD\u001b[0m\u001b[0;34m\u001b[0m\u001b[0;34m\u001b[0m\u001b[0m\n\u001b[1;32m      2\u001b[0m \u001b[0;32mfrom\u001b[0m \u001b[0mcdt\u001b[0m\u001b[0;34m.\u001b[0m\u001b[0mmetrics\u001b[0m \u001b[0;32mimport\u001b[0m \u001b[0mSID\u001b[0m\u001b[0;34m\u001b[0m\u001b[0;34m\u001b[0m\u001b[0m\n\u001b[0;32m----> 3\u001b[0;31m \u001b[0mSID\u001b[0m\u001b[0;34m(\u001b[0m\u001b[0mpc_graphs\u001b[0m\u001b[0;34m[\u001b[0m\u001b[0;34m'healthy_ctrl'\u001b[0m\u001b[0;34m]\u001b[0m\u001b[0;34m,\u001b[0m \u001b[0mpc_graphs\u001b[0m\u001b[0;34m[\u001b[0m\u001b[0;34m'Dengue'\u001b[0m\u001b[0;34m]\u001b[0m\u001b[0;34m)\u001b[0m\u001b[0;34m\u001b[0m\u001b[0;34m\u001b[0m\u001b[0m\n\u001b[0m",
      "\u001b[0;32m~/opt/anaconda3/lib/python3.8/site-packages/cdt/metrics.py\u001b[0m in \u001b[0;36mSID\u001b[0;34m(target, pred)\u001b[0m\n\u001b[1;32m    271\u001b[0m    \"\"\"\n\u001b[1;32m    272\u001b[0m     \u001b[0;32mif\u001b[0m \u001b[0;32mnot\u001b[0m \u001b[0mRPackages\u001b[0m\u001b[0;34m.\u001b[0m\u001b[0mSID\u001b[0m\u001b[0;34m:\u001b[0m\u001b[0;34m\u001b[0m\u001b[0;34m\u001b[0m\u001b[0m\n\u001b[0;32m--> 273\u001b[0;31m         \u001b[0;32mraise\u001b[0m \u001b[0mImportError\u001b[0m\u001b[0;34m(\u001b[0m\u001b[0;34m\"SID R package is not available. Please check your installation.\"\u001b[0m\u001b[0;34m)\u001b[0m\u001b[0;34m\u001b[0m\u001b[0;34m\u001b[0m\u001b[0m\n\u001b[0m\u001b[1;32m    274\u001b[0m \u001b[0;34m\u001b[0m\u001b[0m\n\u001b[1;32m    275\u001b[0m     \u001b[0mtrue_labels\u001b[0m \u001b[0;34m=\u001b[0m \u001b[0mretrieve_adjacency_matrix\u001b[0m\u001b[0;34m(\u001b[0m\u001b[0mtarget\u001b[0m\u001b[0;34m)\u001b[0m\u001b[0;34m\u001b[0m\u001b[0;34m\u001b[0m\u001b[0m\n",
      "\u001b[0;31mImportError\u001b[0m: SID R package is not available. Please check your installation."
     ]
    }
   ],
   "source": [
    "from cdt.metrics import SHD\n",
    "from cdt.metrics import SID\n",
    "SID(pc_graphs['healthy_ctrl'], pc_graphs['Dengue'])"
   ]
  },
  {
   "cell_type": "code",
   "execution_count": null,
   "id": "8f9f80a1",
   "metadata": {},
   "outputs": [],
   "source": []
  }
 ],
 "metadata": {
  "kernelspec": {
   "display_name": "Python 3",
   "language": "python",
   "name": "python3"
  },
  "language_info": {
   "codemirror_mode": {
    "name": "ipython",
    "version": 3
   },
   "file_extension": ".py",
   "mimetype": "text/x-python",
   "name": "python",
   "nbconvert_exporter": "python",
   "pygments_lexer": "ipython3",
   "version": "3.8.8"
  }
 },
 "nbformat": 4,
 "nbformat_minor": 5
}
