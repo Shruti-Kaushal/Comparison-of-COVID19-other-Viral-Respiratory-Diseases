{
 "cells": [
  {
   "cell_type": "code",
   "execution_count": 1,
   "id": "c9a4049d",
   "metadata": {},
   "outputs": [],
   "source": [
    "import numpy as np\n",
    "import pandas as pd\n",
    "import matplotlib.pyplot as plt\n",
    "import os\n",
    "import mygene"
   ]
  },
  {
   "cell_type": "code",
   "execution_count": 132,
   "id": "4d3b8662",
   "metadata": {},
   "outputs": [],
   "source": [
    "path = os.getcwd()"
   ]
  },
  {
   "cell_type": "code",
   "execution_count": 3,
   "id": "b2fc09ac",
   "metadata": {},
   "outputs": [
    {
     "data": {
      "text/plain": [
       "['GSE157240_series_matrix.txt',\n",
       " 'GSE157240_sbst1_norm_RVI_Tsalik_020420.txt',\n",
       " 'GSE172114_rsem_gene_count_matrix_TMM_69samples.csv']"
      ]
     },
     "execution_count": 3,
     "metadata": {},
     "output_type": "execute_result"
    }
   ],
   "source": [
    "os.listdir(path)"
   ]
  },
  {
   "cell_type": "markdown",
   "id": "dfdb16d7",
   "metadata": {},
   "source": [
    "# Data Transformation"
   ]
  },
  {
   "cell_type": "markdown",
   "id": "2fa7fe1b",
   "metadata": {},
   "source": [
    "## GSE157240 - Respiratory Disease"
   ]
  },
  {
   "cell_type": "code",
   "execution_count": 149,
   "id": "d2f0c3be",
   "metadata": {},
   "outputs": [],
   "source": [
    "resp_df = pd.read_csv(path+'/raw data/GSE157240_sbst1_norm_RVI_Tsalik_020420.txt', sep = ' ')\n",
    "resp_df.rename(columns = {\"gene_symbol\":\"genes\"}, inplace = True)\n",
    "resp_df = resp_df[['genes']+[x for x in resp_df.columns if \"DU\" in x]]\n",
    "resp_df.to_csv(path+'/normalized data/respiratory_data.csv', index = False)"
   ]
  },
  {
   "cell_type": "code",
   "execution_count": 139,
   "id": "75cc5efc",
   "metadata": {},
   "outputs": [],
   "source": [
    "resp_meta = pd.read_csv(path+'/raw data/GSE157240_series_matrix.txt', delimiter = '\\t', header = None)\n",
    "resp_meta = resp_meta.T\n",
    "resp_meta.columns = list(resp_meta.iloc[[0]].values)\n",
    "resp_meta.drop([0], axis = 0, inplace = True)\n",
    "resp_meta.drop(columns = resp_meta.columns.to_list()[2:-2], inplace = True)\n",
    "resp_meta = resp_meta.iloc[:, :-1]\n",
    "resp_meta.rename(columns = {'Sample_title':'sample', 'Sample_geo_accession':'geo_sample',\\\n",
    "                           'Sample_characteristics_ch1':'condition'}, inplace = True)\n",
    "resp_meta.to_csv(path+'/normalized data/respiratory_metadata.csv', index = False)\n",
    "\n",
    "resp_meta = pd.read_csv(path+'/normalized data/respiratory_metadata.csv')\n",
    "resp_meta['condition'] = [x.split(\"status: \")[1] for x in resp_meta.condition]\n",
    "resp_meta.to_csv(path+'/normalized data/respiratory_metadata.csv', index = False)"
   ]
  },
  {
   "cell_type": "code",
   "execution_count": null,
   "id": "97edcb8f",
   "metadata": {},
   "outputs": [],
   "source": []
  },
  {
   "cell_type": "code",
   "execution_count": null,
   "id": "914c458d",
   "metadata": {},
   "outputs": [],
   "source": []
  },
  {
   "cell_type": "code",
   "execution_count": null,
   "id": "501f2a62",
   "metadata": {},
   "outputs": [],
   "source": []
  },
  {
   "cell_type": "code",
   "execution_count": null,
   "id": "f7a08399",
   "metadata": {},
   "outputs": [],
   "source": []
  },
  {
   "cell_type": "markdown",
   "id": "f48b3686",
   "metadata": {},
   "source": [
    "# GSE172114 - COVID19"
   ]
  },
  {
   "cell_type": "code",
   "execution_count": 145,
   "id": "3d8938d0",
   "metadata": {},
   "outputs": [],
   "source": [
    "covid_df = pd.read_csv(path+'/raw data/GSE172114_rsem_gene_count_matrix_TMM_69samples.csv')\n",
    "\n",
    "covid_df.rename(columns = {\"Unnamed: 0\":\"genes\"}, inplace = True)\n",
    "covid_df['genes'] = [x.split(\"_\")[1] for x in covid_df.genes]"
   ]
  },
  {
   "cell_type": "code",
   "execution_count": 152,
   "id": "8a36a2a5",
   "metadata": {},
   "outputs": [
    {
     "data": {
      "text/plain": [
       "12231"
      ]
     },
     "execution_count": 152,
     "metadata": {},
     "output_type": "execute_result"
    }
   ],
   "source": []
  },
  {
   "cell_type": "code",
   "execution_count": null,
   "id": "1e311361",
   "metadata": {},
   "outputs": [],
   "source": []
  }
 ],
 "metadata": {
  "kernelspec": {
   "display_name": "Python 3",
   "language": "python",
   "name": "python3"
  },
  "language_info": {
   "codemirror_mode": {
    "name": "ipython",
    "version": 3
   },
   "file_extension": ".py",
   "mimetype": "text/x-python",
   "name": "python",
   "nbconvert_exporter": "python",
   "pygments_lexer": "ipython3",
   "version": "3.8.8"
  }
 },
 "nbformat": 4,
 "nbformat_minor": 5
}
